{
  "cells": [
    {
      "cell_type": "markdown",
      "metadata": {
        "id": "vncDsAP0Gaoa"
      },
      "source": [
        "# **Project Name** - Predicting Bike-Sharing Demand\n"
      ]
    },
    {
      "cell_type": "markdown",
      "metadata": {
        "id": "beRrZCGUAJYm"
      },
      "source": [
        "##### **Team Members  - S Hari Krishna and Sarath Prakash**"
      ]
    },
    {
      "cell_type": "markdown",
      "metadata": {
        "id": "Y3lxredqlCYt"
      },
      "source": [
        "### Import Libraries\n"
      ]
    },
    {
      "cell_type": "code",
      "execution_count": null,
      "metadata": {
        "colab": {
          "base_uri": "https://localhost:8080/"
        },
        "id": "M8Vqi-pPk-HR",
        "outputId": "dca596f2-9c68-49e6-ae6b-0fbc206cbcd3"
      },
      "outputs": [],
      "source": [
        "# Import Libraries\n",
        "import pandas as pd\n",
        "import numpy as np\n",
        "import matplotlib.pyplot as plt\n",
        "import seaborn as sns\n",
        "\n",
        "import scipy\n",
        "from statsmodels.stats.multicomp import pairwise_tukeyhsd\n",
        "\n",
        "from sklearn.preprocessing import StandardScaler, MinMaxScaler\n",
        "from sklearn.model_selection import train_test_split, cross_val_score, GridSearchCV, RandomizedSearchCV\n",
        "from sklearn.linear_model import LinearRegression, Ridge, Lasso, ElasticNet\n",
        "from sklearn.tree import DecisionTreeRegressor\n",
        "from sklearn.ensemble import RandomForestRegressor\n",
        "from xgboost import XGBRegressor\n",
        "from sklearn.metrics import r2_score, mean_absolute_error, mean_squared_error\n",
        "\n",
        "\n",
        "import shap \n",
        "import graphviz\n",
        "\n",
        "import pickle\n",
        "\n",
        "sns.set(style='whitegrid')\n",
        "pd.set_option('display.max_columns', None)"
      ]
    },
    {
      "cell_type": "markdown",
      "metadata": {
        "id": "3RnN4peoiCZX"
      },
      "source": [
        "### Dataset Loading\n"
      ]
    },
    {
      "cell_type": "code",
      "execution_count": 2,
      "metadata": {
        "id": "4CkvbW_SlZ_R"
      },
      "outputs": [],
      "source": [
        "# Load Dataset\n",
        "dataset = pd.read_csv(\"SeoulBikeData.csv\", encoding=\"latin\")"
      ]
    },
    {
      "cell_type": "markdown",
      "metadata": {
        "id": "x71ZqKXriCWQ"
      },
      "source": [
        "### Dataset First View\n"
      ]
    },
    {
      "cell_type": "code",
      "execution_count": 3,
      "metadata": {
        "colab": {
          "base_uri": "https://localhost:8080/",
          "height": 391
        },
        "id": "LWNFOSvLl09H",
        "outputId": "56613e40-a614-4dfb-a877-41fdb2823b42"
      },
      "outputs": [
        {
          "data": {
            "text/html": [
              "<div>\n",
              "<style scoped>\n",
              "    .dataframe tbody tr th:only-of-type {\n",
              "        vertical-align: middle;\n",
              "    }\n",
              "\n",
              "    .dataframe tbody tr th {\n",
              "        vertical-align: top;\n",
              "    }\n",
              "\n",
              "    .dataframe thead th {\n",
              "        text-align: right;\n",
              "    }\n",
              "</style>\n",
              "<table border=\"1\" class=\"dataframe\">\n",
              "  <thead>\n",
              "    <tr style=\"text-align: right;\">\n",
              "      <th></th>\n",
              "      <th>Date</th>\n",
              "      <th>Rented Bike Count</th>\n",
              "      <th>Hour</th>\n",
              "      <th>Temperature(°C)</th>\n",
              "      <th>Humidity(%)</th>\n",
              "      <th>Wind speed (m/s)</th>\n",
              "      <th>Visibility (10m)</th>\n",
              "      <th>Dew point temperature(°C)</th>\n",
              "      <th>Solar Radiation (MJ/m2)</th>\n",
              "      <th>Rainfall(mm)</th>\n",
              "      <th>Snowfall (cm)</th>\n",
              "      <th>Seasons</th>\n",
              "      <th>Holiday</th>\n",
              "      <th>Functioning Day</th>\n",
              "    </tr>\n",
              "  </thead>\n",
              "  <tbody>\n",
              "    <tr>\n",
              "      <th>0</th>\n",
              "      <td>01/12/2017</td>\n",
              "      <td>254</td>\n",
              "      <td>0</td>\n",
              "      <td>-5.2</td>\n",
              "      <td>37</td>\n",
              "      <td>2.2</td>\n",
              "      <td>2000</td>\n",
              "      <td>-17.6</td>\n",
              "      <td>0.0</td>\n",
              "      <td>0.0</td>\n",
              "      <td>0.0</td>\n",
              "      <td>Winter</td>\n",
              "      <td>No Holiday</td>\n",
              "      <td>Yes</td>\n",
              "    </tr>\n",
              "    <tr>\n",
              "      <th>1</th>\n",
              "      <td>01/12/2017</td>\n",
              "      <td>204</td>\n",
              "      <td>1</td>\n",
              "      <td>-5.5</td>\n",
              "      <td>38</td>\n",
              "      <td>0.8</td>\n",
              "      <td>2000</td>\n",
              "      <td>-17.6</td>\n",
              "      <td>0.0</td>\n",
              "      <td>0.0</td>\n",
              "      <td>0.0</td>\n",
              "      <td>Winter</td>\n",
              "      <td>No Holiday</td>\n",
              "      <td>Yes</td>\n",
              "    </tr>\n",
              "    <tr>\n",
              "      <th>2</th>\n",
              "      <td>01/12/2017</td>\n",
              "      <td>173</td>\n",
              "      <td>2</td>\n",
              "      <td>-6.0</td>\n",
              "      <td>39</td>\n",
              "      <td>1.0</td>\n",
              "      <td>2000</td>\n",
              "      <td>-17.7</td>\n",
              "      <td>0.0</td>\n",
              "      <td>0.0</td>\n",
              "      <td>0.0</td>\n",
              "      <td>Winter</td>\n",
              "      <td>No Holiday</td>\n",
              "      <td>Yes</td>\n",
              "    </tr>\n",
              "    <tr>\n",
              "      <th>3</th>\n",
              "      <td>01/12/2017</td>\n",
              "      <td>107</td>\n",
              "      <td>3</td>\n",
              "      <td>-6.2</td>\n",
              "      <td>40</td>\n",
              "      <td>0.9</td>\n",
              "      <td>2000</td>\n",
              "      <td>-17.6</td>\n",
              "      <td>0.0</td>\n",
              "      <td>0.0</td>\n",
              "      <td>0.0</td>\n",
              "      <td>Winter</td>\n",
              "      <td>No Holiday</td>\n",
              "      <td>Yes</td>\n",
              "    </tr>\n",
              "    <tr>\n",
              "      <th>4</th>\n",
              "      <td>01/12/2017</td>\n",
              "      <td>78</td>\n",
              "      <td>4</td>\n",
              "      <td>-6.0</td>\n",
              "      <td>36</td>\n",
              "      <td>2.3</td>\n",
              "      <td>2000</td>\n",
              "      <td>-18.6</td>\n",
              "      <td>0.0</td>\n",
              "      <td>0.0</td>\n",
              "      <td>0.0</td>\n",
              "      <td>Winter</td>\n",
              "      <td>No Holiday</td>\n",
              "      <td>Yes</td>\n",
              "    </tr>\n",
              "  </tbody>\n",
              "</table>\n",
              "</div>"
            ],
            "text/plain": [
              "         Date  Rented Bike Count  Hour  Temperature(°C)  Humidity(%)  \\\n",
              "0  01/12/2017                254     0             -5.2           37   \n",
              "1  01/12/2017                204     1             -5.5           38   \n",
              "2  01/12/2017                173     2             -6.0           39   \n",
              "3  01/12/2017                107     3             -6.2           40   \n",
              "4  01/12/2017                 78     4             -6.0           36   \n",
              "\n",
              "   Wind speed (m/s)  Visibility (10m)  Dew point temperature(°C)  \\\n",
              "0               2.2              2000                      -17.6   \n",
              "1               0.8              2000                      -17.6   \n",
              "2               1.0              2000                      -17.7   \n",
              "3               0.9              2000                      -17.6   \n",
              "4               2.3              2000                      -18.6   \n",
              "\n",
              "   Solar Radiation (MJ/m2)  Rainfall(mm)  Snowfall (cm) Seasons     Holiday  \\\n",
              "0                      0.0           0.0            0.0  Winter  No Holiday   \n",
              "1                      0.0           0.0            0.0  Winter  No Holiday   \n",
              "2                      0.0           0.0            0.0  Winter  No Holiday   \n",
              "3                      0.0           0.0            0.0  Winter  No Holiday   \n",
              "4                      0.0           0.0            0.0  Winter  No Holiday   \n",
              "\n",
              "  Functioning Day  \n",
              "0             Yes  \n",
              "1             Yes  \n",
              "2             Yes  \n",
              "3             Yes  \n",
              "4             Yes  "
            ]
          },
          "execution_count": 3,
          "metadata": {},
          "output_type": "execute_result"
        }
      ],
      "source": [
        "# Dataset First Look\n",
        "dataset.head()"
      ]
    },
    {
      "cell_type": "markdown",
      "metadata": {
        "id": "7hBIi_osiCS2"
      },
      "source": [
        "### Dataset Rows & Columns count\n"
      ]
    },
    {
      "cell_type": "code",
      "execution_count": 8,
      "metadata": {
        "colab": {
          "base_uri": "https://localhost:8080/"
        },
        "id": "Kllu7SJgmLij",
        "outputId": "89810e89-cffe-4041-f923-cb972e234e94"
      },
      "outputs": [
        {
          "data": {
            "text/plain": [
              "(8760, 14)"
            ]
          },
          "execution_count": 8,
          "metadata": {},
          "output_type": "execute_result"
        }
      ],
      "source": [
        "# Dataset Rows & Columns count\n",
        "dataset.shape"
      ]
    },
    {
      "cell_type": "markdown",
      "metadata": {
        "id": "JlHwYmJAmNHm"
      },
      "source": [
        "### Dataset Information\n"
      ]
    },
    {
      "cell_type": "code",
      "execution_count": 9,
      "metadata": {
        "colab": {
          "base_uri": "https://localhost:8080/"
        },
        "id": "e9hRXRi6meOf",
        "outputId": "5c429ab2-3dad-490f-eb70-96d2e43f491d"
      },
      "outputs": [
        {
          "name": "stdout",
          "output_type": "stream",
          "text": [
            "<class 'pandas.core.frame.DataFrame'>\n",
            "RangeIndex: 8760 entries, 0 to 8759\n",
            "Data columns (total 14 columns):\n",
            " #   Column                     Non-Null Count  Dtype  \n",
            "---  ------                     --------------  -----  \n",
            " 0   Date                       8760 non-null   object \n",
            " 1   Rented Bike Count          8760 non-null   int64  \n",
            " 2   Hour                       8760 non-null   int64  \n",
            " 3   Temperature(°C)            8760 non-null   float64\n",
            " 4   Humidity(%)                8760 non-null   int64  \n",
            " 5   Wind speed (m/s)           8760 non-null   float64\n",
            " 6   Visibility (10m)           8760 non-null   int64  \n",
            " 7   Dew point temperature(°C)  8760 non-null   float64\n",
            " 8   Solar Radiation (MJ/m2)    8760 non-null   float64\n",
            " 9   Rainfall(mm)               8760 non-null   float64\n",
            " 10  Snowfall (cm)              8760 non-null   float64\n",
            " 11  Seasons                    8760 non-null   object \n",
            " 12  Holiday                    8760 non-null   object \n",
            " 13  Functioning Day            8760 non-null   object \n",
            "dtypes: float64(6), int64(4), object(4)\n",
            "memory usage: 958.3+ KB\n"
          ]
        }
      ],
      "source": [
        "# Dataset Info\n",
        "dataset.info()"
      ]
    },
    {
      "cell_type": "markdown",
      "metadata": {
        "id": "35m5QtbWiB9F"
      },
      "source": [
        "#### Duplicate Values\n"
      ]
    },
    {
      "cell_type": "code",
      "execution_count": 10,
      "metadata": {
        "colab": {
          "base_uri": "https://localhost:8080/"
        },
        "id": "1sLdpKYkmox0",
        "outputId": "cff7de6a-bba9-4611-b397-eb4d8a4209b6"
      },
      "outputs": [
        {
          "data": {
            "text/plain": [
              "0"
            ]
          },
          "execution_count": 10,
          "metadata": {},
          "output_type": "execute_result"
        }
      ],
      "source": [
        "# Dataset Duplicate Value Count\n",
        "dataset[dataset.duplicated()].shape[0]"
      ]
    },
    {
      "cell_type": "markdown",
      "metadata": {
        "id": "PoPl-ycgm1ru"
      },
      "source": [
        "#### Missing Values/Null Values\n"
      ]
    },
    {
      "cell_type": "code",
      "execution_count": 11,
      "metadata": {
        "colab": {
          "base_uri": "https://localhost:8080/"
        },
        "id": "GgHWkxvamxVg",
        "outputId": "409bdf68-8d5e-419d-9051-65f8f5ad1008"
      },
      "outputs": [
        {
          "data": {
            "text/plain": [
              "Date                         0\n",
              "Rented Bike Count            0\n",
              "Hour                         0\n",
              "Temperature(°C)              0\n",
              "Humidity(%)                  0\n",
              "Wind speed (m/s)             0\n",
              "Visibility (10m)             0\n",
              "Dew point temperature(°C)    0\n",
              "Solar Radiation (MJ/m2)      0\n",
              "Rainfall(mm)                 0\n",
              "Snowfall (cm)                0\n",
              "Seasons                      0\n",
              "Holiday                      0\n",
              "Functioning Day              0\n",
              "dtype: int64"
            ]
          },
          "execution_count": 11,
          "metadata": {},
          "output_type": "execute_result"
        }
      ],
      "source": [
        "# Missing Values/Null Values Count\n",
        "dataset.isna().sum()"
      ]
    },
    {
      "cell_type": "code",
      "execution_count": 12,
      "metadata": {
        "colab": {
          "base_uri": "https://localhost:8080/",
          "height": 590
        },
        "id": "3q5wnI3om9sJ",
        "outputId": "2677339f-327d-4449-99fd-cffa14f79a45"
      },
      "outputs": [
        {
          "data": {
            "text/plain": [
              "<Axes: >"
            ]
          },
          "execution_count": 12,
          "metadata": {},
          "output_type": "execute_result"
        },
        {
          "data": {
            "image/png": "[encoded data removed]",
            "text/plain": [
              "<Figure size 2000x700 with 1 Axes>"
            ]
          },
          "metadata": {},
          "output_type": "display_data"
        }
      ],
      "source": [
        "# Visualizing the missing values\n",
        "plt.figure(figsize=(20,7))\n",
        "sns.heatmap(dataset.isnull(), cbar=False)"
      ]
    },
    {
      "cell_type": "markdown",
      "metadata": {
        "id": "H0kj-8xxnORC"
      },
      "source": [
        "### What did you know about your dataset?\n"
      ]
    },
    {
      "cell_type": "markdown",
      "metadata": {
        "id": "gfoNAAC-nUe_"
      },
      "source": [
        "The Seoul Bike Sharing Demand dataset contains information about bike rental in Seoul from 2017-2018. It includes hourly observations of 14 columns, such as the date, time, number of rented bikes, weather conditions, and other factors that may influence bike rental demand.\n",
        "\n",
        "This dataset contains more than 8000 rows and 14 columns of the data.\n"
      ]
    },
    {
      "cell_type": "markdown",
      "metadata": {
        "id": "nA9Y7ga8ng1Z"
      },
      "source": [
        "## **_2. Understanding Your Variables_**\n"
      ]
    },
    {
      "cell_type": "code",
      "execution_count": 13,
      "metadata": {
        "colab": {
          "base_uri": "https://localhost:8080/"
        },
        "id": "j7xfkqrt5Ag5",
        "outputId": "6fa2e1f7-498d-4082-f176-1dfe867e34b1"
      },
      "outputs": [
        {
          "data": {
            "text/plain": [
              "Index(['Date', 'Rented Bike Count', 'Hour', 'Temperature(°C)', 'Humidity(%)',\n",
              "       'Wind speed (m/s)', 'Visibility (10m)', 'Dew point temperature(°C)',\n",
              "       'Solar Radiation (MJ/m2)', 'Rainfall(mm)', 'Snowfall (cm)', 'Seasons',\n",
              "       'Holiday', 'Functioning Day'],\n",
              "      dtype='object')"
            ]
          },
          "execution_count": 13,
          "metadata": {},
          "output_type": "execute_result"
        }
      ],
      "source": [
        "# Dataset Columns\n",
        "dataset.columns"
      ]
    },
    {
      "cell_type": "code",
      "execution_count": 14,
      "metadata": {
        "colab": {
          "base_uri": "https://localhost:8080/",
          "height": 379
        },
        "id": "DnOaZdaE5Q5t",
        "outputId": "9c177833-198b-48fd-e3e6-6bac23b588f5"
      },
      "outputs": [
        {
          "data": {
            "text/html": [
              "<div>\n",
              "<style scoped>\n",
              "    .dataframe tbody tr th:only-of-type {\n",
              "        vertical-align: middle;\n",
              "    }\n",
              "\n",
              "    .dataframe tbody tr th {\n",
              "        vertical-align: top;\n",
              "    }\n",
              "\n",
              "    .dataframe thead th {\n",
              "        text-align: right;\n",
              "    }\n",
              "</style>\n",
              "<table border=\"1\" class=\"dataframe\">\n",
              "  <thead>\n",
              "    <tr style=\"text-align: right;\">\n",
              "      <th></th>\n",
              "      <th>Rented Bike Count</th>\n",
              "      <th>Hour</th>\n",
              "      <th>Temperature(°C)</th>\n",
              "      <th>Humidity(%)</th>\n",
              "      <th>Wind speed (m/s)</th>\n",
              "      <th>Visibility (10m)</th>\n",
              "      <th>Dew point temperature(°C)</th>\n",
              "      <th>Solar Radiation (MJ/m2)</th>\n",
              "      <th>Rainfall(mm)</th>\n",
              "      <th>Snowfall (cm)</th>\n",
              "    </tr>\n",
              "  </thead>\n",
              "  <tbody>\n",
              "    <tr>\n",
              "      <th>count</th>\n",
              "      <td>8760.000000</td>\n",
              "      <td>8760.000000</td>\n",
              "      <td>8760.000000</td>\n",
              "      <td>8760.000000</td>\n",
              "      <td>8760.000000</td>\n",
              "      <td>8760.000000</td>\n",
              "      <td>8760.000000</td>\n",
              "      <td>8760.000000</td>\n",
              "      <td>8760.000000</td>\n",
              "      <td>8760.000000</td>\n",
              "    </tr>\n",
              "    <tr>\n",
              "      <th>mean</th>\n",
              "      <td>704.602055</td>\n",
              "      <td>11.500000</td>\n",
              "      <td>12.882922</td>\n",
              "      <td>58.226256</td>\n",
              "      <td>1.724909</td>\n",
              "      <td>1436.825799</td>\n",
              "      <td>4.073813</td>\n",
              "      <td>0.569111</td>\n",
              "      <td>0.148687</td>\n",
              "      <td>0.075068</td>\n",
              "    </tr>\n",
              "    <tr>\n",
              "      <th>std</th>\n",
              "      <td>644.997468</td>\n",
              "      <td>6.922582</td>\n",
              "      <td>11.944825</td>\n",
              "      <td>20.362413</td>\n",
              "      <td>1.036300</td>\n",
              "      <td>608.298712</td>\n",
              "      <td>13.060369</td>\n",
              "      <td>0.868746</td>\n",
              "      <td>1.128193</td>\n",
              "      <td>0.436746</td>\n",
              "    </tr>\n",
              "    <tr>\n",
              "      <th>min</th>\n",
              "      <td>0.000000</td>\n",
              "      <td>0.000000</td>\n",
              "      <td>-17.800000</td>\n",
              "      <td>0.000000</td>\n",
              "      <td>0.000000</td>\n",
              "      <td>27.000000</td>\n",
              "      <td>-30.600000</td>\n",
              "      <td>0.000000</td>\n",
              "      <td>0.000000</td>\n",
              "      <td>0.000000</td>\n",
              "    </tr>\n",
              "    <tr>\n",
              "      <th>25%</th>\n",
              "      <td>191.000000</td>\n",
              "      <td>5.750000</td>\n",
              "      <td>3.500000</td>\n",
              "      <td>42.000000</td>\n",
              "      <td>0.900000</td>\n",
              "      <td>940.000000</td>\n",
              "      <td>-4.700000</td>\n",
              "      <td>0.000000</td>\n",
              "      <td>0.000000</td>\n",
              "      <td>0.000000</td>\n",
              "    </tr>\n",
              "    <tr>\n",
              "      <th>50%</th>\n",
              "      <td>504.500000</td>\n",
              "      <td>11.500000</td>\n",
              "      <td>13.700000</td>\n",
              "      <td>57.000000</td>\n",
              "      <td>1.500000</td>\n",
              "      <td>1698.000000</td>\n",
              "      <td>5.100000</td>\n",
              "      <td>0.010000</td>\n",
              "      <td>0.000000</td>\n",
              "      <td>0.000000</td>\n",
              "    </tr>\n",
              "    <tr>\n",
              "      <th>75%</th>\n",
              "      <td>1065.250000</td>\n",
              "      <td>17.250000</td>\n",
              "      <td>22.500000</td>\n",
              "      <td>74.000000</td>\n",
              "      <td>2.300000</td>\n",
              "      <td>2000.000000</td>\n",
              "      <td>14.800000</td>\n",
              "      <td>0.930000</td>\n",
              "      <td>0.000000</td>\n",
              "      <td>0.000000</td>\n",
              "    </tr>\n",
              "    <tr>\n",
              "      <th>max</th>\n",
              "      <td>3556.000000</td>\n",
              "      <td>23.000000</td>\n",
              "      <td>39.400000</td>\n",
              "      <td>98.000000</td>\n",
              "      <td>7.400000</td>\n",
              "      <td>2000.000000</td>\n",
              "      <td>27.200000</td>\n",
              "      <td>3.520000</td>\n",
              "      <td>35.000000</td>\n",
              "      <td>8.800000</td>\n",
              "    </tr>\n",
              "  </tbody>\n",
              "</table>\n",
              "</div>"
            ],
            "text/plain": [
              "       Rented Bike Count         Hour  Temperature(°C)  Humidity(%)  \\\n",
              "count        8760.000000  8760.000000      8760.000000  8760.000000   \n",
              "mean          704.602055    11.500000        12.882922    58.226256   \n",
              "std           644.997468     6.922582        11.944825    20.362413   \n",
              "min             0.000000     0.000000       -17.800000     0.000000   \n",
              "25%           191.000000     5.750000         3.500000    42.000000   \n",
              "50%           504.500000    11.500000        13.700000    57.000000   \n",
              "75%          1065.250000    17.250000        22.500000    74.000000   \n",
              "max          3556.000000    23.000000        39.400000    98.000000   \n",
              "\n",
              "       Wind speed (m/s)  Visibility (10m)  Dew point temperature(°C)  \\\n",
              "count       8760.000000       8760.000000                8760.000000   \n",
              "mean           1.724909       1436.825799                   4.073813   \n",
              "std            1.036300        608.298712                  13.060369   \n",
              "min            0.000000         27.000000                 -30.600000   \n",
              "25%            0.900000        940.000000                  -4.700000   \n",
              "50%            1.500000       1698.000000                   5.100000   \n",
              "75%            2.300000       2000.000000                  14.800000   \n",
              "max            7.400000       2000.000000                  27.200000   \n",
              "\n",
              "       Solar Radiation (MJ/m2)  Rainfall(mm)  Snowfall (cm)  \n",
              "count              8760.000000   8760.000000    8760.000000  \n",
              "mean                  0.569111      0.148687       0.075068  \n",
              "std                   0.868746      1.128193       0.436746  \n",
              "min                   0.000000      0.000000       0.000000  \n",
              "25%                   0.000000      0.000000       0.000000  \n",
              "50%                   0.010000      0.000000       0.000000  \n",
              "75%                   0.930000      0.000000       0.000000  \n",
              "max                   3.520000     35.000000       8.800000  "
            ]
          },
          "execution_count": 14,
          "metadata": {},
          "output_type": "execute_result"
        }
      ],
      "source": [
        "# Dataset Describe\n",
        "dataset.describe()"
      ]
    },
    {
      "cell_type": "markdown",
      "metadata": {
        "id": "PBTbrJXOngz2"
      },
      "source": [
        "### Variables Description\n"
      ]
    },
    {
      "cell_type": "markdown",
      "metadata": {
        "id": "aJV4KIxSnxay"
      },
      "source": [
        "- **Date**: The date of the observation.\n",
        "- **Rented Bike Count**: The number of bikes rented during the observation period.\n",
        "- **Hour**: The hour of the day when the observation was taken.\n",
        "- **Temperature(°C)**: The temperature in Celsius at the time of observation.\n",
        "- **Humidity(%)**: The percentage of humidity at the time of observation.\n",
        "- **Wind speed (m/s)**: The wind speed in meters per second at the time of observation.\n",
        "- **Visibility (10m)**: The visibility in meters at the time of observation.\n",
        "- **Dew point temperature(°C)**: The dew point temperature in Celsius at the time of observation.\n",
        "- **Solar Radiation (MJ/m2)**: The amount of solar radiation in mega-joules per square meter at the time of observation.\n",
        "- **Rainfall(mm)**: The amount of rainfall in millimeters during the observation period.\n",
        "- **Snowfall(cm)**: The amount of snowfall in centimeters during the observation period.\n",
        "- **Seasons**: The season of the year when the observation was taken.\n",
        "- **Holiday**: Whether the observation was taken on a holiday or not.\n",
        "- **Functioning Day**: Whether the bike sharing system was operating normally or not during the observation period.\n"
      ]
    },
    {
      "cell_type": "markdown",
      "metadata": {
        "id": "u3PMJOP6ngxN"
      },
      "source": [
        "### Check Unique Values for each variable.\n"
      ]
    },
    {
      "cell_type": "code",
      "execution_count": 15,
      "metadata": {
        "colab": {
          "base_uri": "https://localhost:8080/"
        },
        "id": "zms12Yq5n-jE",
        "outputId": "bdbeab5a-aa27-47ae-a68d-478fc4b2bea3"
      },
      "outputs": [
        {
          "name": "stdout",
          "output_type": "stream",
          "text": [
            "No. of unique values in  Date is 365\n",
            "No. of unique values in  Rented Bike Count is 2166\n",
            "No. of unique values in  Hour is 24\n",
            "No. of unique values in  Temperature(°C) is 546\n",
            "No. of unique values in  Humidity(%) is 90\n",
            "No. of unique values in  Wind speed (m/s) is 65\n",
            "No. of unique values in  Visibility (10m) is 1789\n",
            "No. of unique values in  Dew point temperature(°C) is 556\n",
            "No. of unique values in  Solar Radiation (MJ/m2) is 345\n",
            "No. of unique values in  Rainfall(mm) is 61\n",
            "No. of unique values in  Snowfall (cm) is 51\n",
            "No. of unique values in  Seasons is 4\n",
            "No. of unique values in  Holiday is 2\n",
            "No. of unique values in  Functioning Day is 2\n"
          ]
        }
      ],
      "source": [
        "# Check Unique Values for each variable.\n",
        "for i in dataset.columns.tolist():\n",
        "  print(\"No. of unique values in \",i,\"is\",dataset[i].nunique())"
      ]
    },
    {
      "cell_type": "markdown",
      "metadata": {
        "id": "dauF4eBmngu3"
      },
      "source": [
        "## 3. **_Data Wrangling_**\n"
      ]
    },
    {
      "cell_type": "markdown",
      "metadata": {
        "id": "bKJF3rekwFvQ"
      },
      "source": [
        "### Data Wrangling Code\n"
      ]
    },
    {
      "cell_type": "code",
      "execution_count": 80,
      "metadata": {
        "colab": {
          "base_uri": "https://localhost:8080/"
        },
        "id": "DRU2AxOLD4xu",
        "outputId": "1ff18f93-d0cc-4783-f81f-082ea47b2c3e"
      },
      "outputs": [
        {
          "data": {
            "text/plain": [
              "(8760, 14)"
            ]
          },
          "execution_count": 80,
          "metadata": {},
          "output_type": "execute_result"
        }
      ],
      "source": [
        "# Create a copy of the current dataset and assigning to df\n",
        "df = dataset.copy()\n",
        "df.shape"
      ]
    },
    {
      "cell_type": "code",
      "execution_count": 81,
      "metadata": {
        "id": "MzctKt82Ft6c"
      },
      "outputs": [],
      "source": [
        "# Changing the \"Date\" column dtype to datetime\n",
        "df['Date'] = pd.to_datetime(df['Date'], format=\"%d/%m/%Y\")"
      ]
    },
    {
      "cell_type": "code",
      "execution_count": 82,
      "metadata": {
        "id": "t_-T8WDDGiSq"
      },
      "outputs": [],
      "source": [
        "# Creating new columns Year, Month, Day\n",
        "df['Year'] = df['Date'].dt.year\n",
        "df['Month'] = df['Date'].dt.month\n",
        "df['Day'] = df['Date'].dt.day\n",
        "df['weekday'] = df['Date'].dt.day_name()  # we better understand names (monday, friday etc) instead of numbers"
      ]
    },
    {
      "cell_type": "code",
      "execution_count": 83,
      "metadata": {
        "colab": {
          "base_uri": "https://localhost:8080/",
          "height": 294
        },
        "id": "S2ng3Q6LH9HY",
        "outputId": "7c17d58c-2908-4dae-8539-bec26cda1c3e"
      },
      "outputs": [
        {
          "data": {
            "text/html": [
              "<div>\n",
              "<style scoped>\n",
              "    .dataframe tbody tr th:only-of-type {\n",
              "        vertical-align: middle;\n",
              "    }\n",
              "\n",
              "    .dataframe tbody tr th {\n",
              "        vertical-align: top;\n",
              "    }\n",
              "\n",
              "    .dataframe thead th {\n",
              "        text-align: right;\n",
              "    }\n",
              "</style>\n",
              "<table border=\"1\" class=\"dataframe\">\n",
              "  <thead>\n",
              "    <tr style=\"text-align: right;\">\n",
              "      <th></th>\n",
              "      <th>Date</th>\n",
              "      <th>Rented Bike Count</th>\n",
              "      <th>Hour</th>\n",
              "      <th>Temperature(°C)</th>\n",
              "      <th>Humidity(%)</th>\n",
              "      <th>Wind speed (m/s)</th>\n",
              "      <th>Visibility (10m)</th>\n",
              "      <th>Dew point temperature(°C)</th>\n",
              "      <th>Solar Radiation (MJ/m2)</th>\n",
              "      <th>Rainfall(mm)</th>\n",
              "      <th>Snowfall (cm)</th>\n",
              "      <th>Seasons</th>\n",
              "      <th>Holiday</th>\n",
              "      <th>Functioning Day</th>\n",
              "      <th>Year</th>\n",
              "      <th>Month</th>\n",
              "      <th>Day</th>\n",
              "      <th>weekday</th>\n",
              "    </tr>\n",
              "  </thead>\n",
              "  <tbody>\n",
              "    <tr>\n",
              "      <th>0</th>\n",
              "      <td>2017-12-01</td>\n",
              "      <td>254</td>\n",
              "      <td>0</td>\n",
              "      <td>-5.2</td>\n",
              "      <td>37</td>\n",
              "      <td>2.2</td>\n",
              "      <td>2000</td>\n",
              "      <td>-17.6</td>\n",
              "      <td>0.0</td>\n",
              "      <td>0.0</td>\n",
              "      <td>0.0</td>\n",
              "      <td>Winter</td>\n",
              "      <td>No Holiday</td>\n",
              "      <td>Yes</td>\n",
              "      <td>2017</td>\n",
              "      <td>12</td>\n",
              "      <td>1</td>\n",
              "      <td>Friday</td>\n",
              "    </tr>\n",
              "    <tr>\n",
              "      <th>1</th>\n",
              "      <td>2017-12-01</td>\n",
              "      <td>204</td>\n",
              "      <td>1</td>\n",
              "      <td>-5.5</td>\n",
              "      <td>38</td>\n",
              "      <td>0.8</td>\n",
              "      <td>2000</td>\n",
              "      <td>-17.6</td>\n",
              "      <td>0.0</td>\n",
              "      <td>0.0</td>\n",
              "      <td>0.0</td>\n",
              "      <td>Winter</td>\n",
              "      <td>No Holiday</td>\n",
              "      <td>Yes</td>\n",
              "      <td>2017</td>\n",
              "      <td>12</td>\n",
              "      <td>1</td>\n",
              "      <td>Friday</td>\n",
              "    </tr>\n",
              "    <tr>\n",
              "      <th>2</th>\n",
              "      <td>2017-12-01</td>\n",
              "      <td>173</td>\n",
              "      <td>2</td>\n",
              "      <td>-6.0</td>\n",
              "      <td>39</td>\n",
              "      <td>1.0</td>\n",
              "      <td>2000</td>\n",
              "      <td>-17.7</td>\n",
              "      <td>0.0</td>\n",
              "      <td>0.0</td>\n",
              "      <td>0.0</td>\n",
              "      <td>Winter</td>\n",
              "      <td>No Holiday</td>\n",
              "      <td>Yes</td>\n",
              "      <td>2017</td>\n",
              "      <td>12</td>\n",
              "      <td>1</td>\n",
              "      <td>Friday</td>\n",
              "    </tr>\n",
              "  </tbody>\n",
              "</table>\n",
              "</div>"
            ],
            "text/plain": [
              "        Date  Rented Bike Count  Hour  Temperature(°C)  Humidity(%)  \\\n",
              "0 2017-12-01                254     0             -5.2           37   \n",
              "1 2017-12-01                204     1             -5.5           38   \n",
              "2 2017-12-01                173     2             -6.0           39   \n",
              "\n",
              "   Wind speed (m/s)  Visibility (10m)  Dew point temperature(°C)  \\\n",
              "0               2.2              2000                      -17.6   \n",
              "1               0.8              2000                      -17.6   \n",
              "2               1.0              2000                      -17.7   \n",
              "\n",
              "   Solar Radiation (MJ/m2)  Rainfall(mm)  Snowfall (cm) Seasons     Holiday  \\\n",
              "0                      0.0           0.0            0.0  Winter  No Holiday   \n",
              "1                      0.0           0.0            0.0  Winter  No Holiday   \n",
              "2                      0.0           0.0            0.0  Winter  No Holiday   \n",
              "\n",
              "  Functioning Day  Year  Month  Day weekday  \n",
              "0             Yes  2017     12    1  Friday  \n",
              "1             Yes  2017     12    1  Friday  \n",
              "2             Yes  2017     12    1  Friday  "
            ]
          },
          "execution_count": 83,
          "metadata": {},
          "output_type": "execute_result"
        }
      ],
      "source": [
        "df.head(3)"
      ]
    },
    {
      "cell_type": "code",
      "execution_count": 84,
      "metadata": {
        "colab": {
          "base_uri": "https://localhost:8080/"
        },
        "id": "eoHOtcURIUIs",
        "outputId": "0f9e7a48-4f45-48e6-cb5f-da66518e10af"
      },
      "outputs": [
        {
          "data": {
            "text/plain": [
              "array([ 0,  1,  2,  3,  4,  5,  6,  7,  8,  9, 10, 11, 12, 13, 14, 15, 16,\n",
              "       17, 18, 19, 20, 21, 22, 23])"
            ]
          },
          "execution_count": 84,
          "metadata": {},
          "output_type": "execute_result"
        }
      ],
      "source": [
        "# Unique hours \n",
        "df['Hour'].unique()    # It is in 24hrs format"
      ]
    },
    {
      "cell_type": "code",
      "execution_count": 85,
      "metadata": {
        "colab": {
          "base_uri": "https://localhost:8080/",
          "height": 143
        },
        "id": "eofP3YzBhQUt",
        "outputId": "084cc845-574d-4038-d0f1-50c4a123ef76"
      },
      "outputs": [
        {
          "data": {
            "text/html": [
              "<div>\n",
              "<style scoped>\n",
              "    .dataframe tbody tr th:only-of-type {\n",
              "        vertical-align: middle;\n",
              "    }\n",
              "\n",
              "    .dataframe tbody tr th {\n",
              "        vertical-align: top;\n",
              "    }\n",
              "\n",
              "    .dataframe thead th {\n",
              "        text-align: right;\n",
              "    }\n",
              "</style>\n",
              "<table border=\"1\" class=\"dataframe\">\n",
              "  <thead>\n",
              "    <tr style=\"text-align: right;\">\n",
              "      <th></th>\n",
              "      <th>count</th>\n",
              "      <th>mean</th>\n",
              "      <th>std</th>\n",
              "      <th>min</th>\n",
              "      <th>25%</th>\n",
              "      <th>50%</th>\n",
              "      <th>75%</th>\n",
              "      <th>max</th>\n",
              "    </tr>\n",
              "    <tr>\n",
              "      <th>Year</th>\n",
              "      <th></th>\n",
              "      <th></th>\n",
              "      <th></th>\n",
              "      <th></th>\n",
              "      <th></th>\n",
              "      <th></th>\n",
              "      <th></th>\n",
              "      <th></th>\n",
              "    </tr>\n",
              "  </thead>\n",
              "  <tbody>\n",
              "    <tr>\n",
              "      <th>2017</th>\n",
              "      <td>744.0</td>\n",
              "      <td>249.099462</td>\n",
              "      <td>158.396544</td>\n",
              "      <td>3.0</td>\n",
              "      <td>131.75</td>\n",
              "      <td>236.5</td>\n",
              "      <td>329.0</td>\n",
              "      <td>937.0</td>\n",
              "    </tr>\n",
              "    <tr>\n",
              "      <th>2018</th>\n",
              "      <td>8016.0</td>\n",
              "      <td>746.879242</td>\n",
              "      <td>656.708588</td>\n",
              "      <td>0.0</td>\n",
              "      <td>206.00</td>\n",
              "      <td>586.0</td>\n",
              "      <td>1117.0</td>\n",
              "      <td>3556.0</td>\n",
              "    </tr>\n",
              "  </tbody>\n",
              "</table>\n",
              "</div>"
            ],
            "text/plain": [
              "       count        mean         std  min     25%    50%     75%     max\n",
              "Year                                                                    \n",
              "2017   744.0  249.099462  158.396544  3.0  131.75  236.5   329.0   937.0\n",
              "2018  8016.0  746.879242  656.708588  0.0  206.00  586.0  1117.0  3556.0"
            ]
          },
          "execution_count": 85,
          "metadata": {},
          "output_type": "execute_result"
        }
      ],
      "source": [
        "# Year wise Rented Bike Count\n",
        "df.groupby('Year')['Rented Bike Count'].describe()"
      ]
    },
    {
      "cell_type": "code",
      "execution_count": 86,
      "metadata": {
        "colab": {
          "base_uri": "https://localhost:8080/",
          "height": 300
        },
        "id": "eL6ogyEGhkcs",
        "outputId": "419196b2-59cc-4323-f540-71fc486e1664"
      },
      "outputs": [
        {
          "data": {
            "text/html": [
              "<div>\n",
              "<style scoped>\n",
              "    .dataframe tbody tr th:only-of-type {\n",
              "        vertical-align: middle;\n",
              "    }\n",
              "\n",
              "    .dataframe tbody tr th {\n",
              "        vertical-align: top;\n",
              "    }\n",
              "\n",
              "    .dataframe thead th {\n",
              "        text-align: right;\n",
              "    }\n",
              "</style>\n",
              "<table border=\"1\" class=\"dataframe\">\n",
              "  <thead>\n",
              "    <tr style=\"text-align: right;\">\n",
              "      <th></th>\n",
              "      <th>count</th>\n",
              "      <th>mean</th>\n",
              "      <th>std</th>\n",
              "      <th>min</th>\n",
              "      <th>25%</th>\n",
              "      <th>50%</th>\n",
              "      <th>75%</th>\n",
              "      <th>max</th>\n",
              "    </tr>\n",
              "    <tr>\n",
              "      <th>weekday</th>\n",
              "      <th></th>\n",
              "      <th></th>\n",
              "      <th></th>\n",
              "      <th></th>\n",
              "      <th></th>\n",
              "      <th></th>\n",
              "      <th></th>\n",
              "      <th></th>\n",
              "    </tr>\n",
              "  </thead>\n",
              "  <tbody>\n",
              "    <tr>\n",
              "      <th>Friday</th>\n",
              "      <td>1272.0</td>\n",
              "      <td>747.117925</td>\n",
              "      <td>658.396481</td>\n",
              "      <td>0.0</td>\n",
              "      <td>233.00</td>\n",
              "      <td>566.0</td>\n",
              "      <td>1115.25</td>\n",
              "      <td>3365.0</td>\n",
              "    </tr>\n",
              "    <tr>\n",
              "      <th>Monday</th>\n",
              "      <td>1248.0</td>\n",
              "      <td>730.563301</td>\n",
              "      <td>664.960809</td>\n",
              "      <td>2.0</td>\n",
              "      <td>186.00</td>\n",
              "      <td>533.0</td>\n",
              "      <td>1099.00</td>\n",
              "      <td>3380.0</td>\n",
              "    </tr>\n",
              "    <tr>\n",
              "      <th>Saturday</th>\n",
              "      <td>1248.0</td>\n",
              "      <td>709.528846</td>\n",
              "      <td>603.913165</td>\n",
              "      <td>0.0</td>\n",
              "      <td>219.00</td>\n",
              "      <td>519.0</td>\n",
              "      <td>1076.00</td>\n",
              "      <td>2497.0</td>\n",
              "    </tr>\n",
              "    <tr>\n",
              "      <th>Sunday</th>\n",
              "      <td>1248.0</td>\n",
              "      <td>625.155449</td>\n",
              "      <td>605.529274</td>\n",
              "      <td>0.0</td>\n",
              "      <td>158.75</td>\n",
              "      <td>406.0</td>\n",
              "      <td>936.50</td>\n",
              "      <td>2514.0</td>\n",
              "    </tr>\n",
              "    <tr>\n",
              "      <th>Thursday</th>\n",
              "      <td>1248.0</td>\n",
              "      <td>690.704327</td>\n",
              "      <td>641.675659</td>\n",
              "      <td>0.0</td>\n",
              "      <td>185.00</td>\n",
              "      <td>495.0</td>\n",
              "      <td>1049.00</td>\n",
              "      <td>3418.0</td>\n",
              "    </tr>\n",
              "    <tr>\n",
              "      <th>Tuesday</th>\n",
              "      <td>1248.0</td>\n",
              "      <td>687.977564</td>\n",
              "      <td>652.165697</td>\n",
              "      <td>0.0</td>\n",
              "      <td>179.50</td>\n",
              "      <td>485.5</td>\n",
              "      <td>1031.50</td>\n",
              "      <td>3556.0</td>\n",
              "    </tr>\n",
              "    <tr>\n",
              "      <th>Wednesday</th>\n",
              "      <td>1248.0</td>\n",
              "      <td>740.349359</td>\n",
              "      <td>677.573675</td>\n",
              "      <td>0.0</td>\n",
              "      <td>206.75</td>\n",
              "      <td>536.5</td>\n",
              "      <td>1107.25</td>\n",
              "      <td>3384.0</td>\n",
              "    </tr>\n",
              "  </tbody>\n",
              "</table>\n",
              "</div>"
            ],
            "text/plain": [
              "            count        mean         std  min     25%    50%      75%     max\n",
              "weekday                                                                       \n",
              "Friday     1272.0  747.117925  658.396481  0.0  233.00  566.0  1115.25  3365.0\n",
              "Monday     1248.0  730.563301  664.960809  2.0  186.00  533.0  1099.00  3380.0\n",
              "Saturday   1248.0  709.528846  603.913165  0.0  219.00  519.0  1076.00  2497.0\n",
              "Sunday     1248.0  625.155449  605.529274  0.0  158.75  406.0   936.50  2514.0\n",
              "Thursday   1248.0  690.704327  641.675659  0.0  185.00  495.0  1049.00  3418.0\n",
              "Tuesday    1248.0  687.977564  652.165697  0.0  179.50  485.5  1031.50  3556.0\n",
              "Wednesday  1248.0  740.349359  677.573675  0.0  206.75  536.5  1107.25  3384.0"
            ]
          },
          "execution_count": 86,
          "metadata": {},
          "output_type": "execute_result"
        }
      ],
      "source": [
        "# weekday wise Rented Bike Count\n",
        "df.groupby('weekday')['Rented Bike Count'].describe()"
      ]
    },
    {
      "cell_type": "code",
      "execution_count": 87,
      "metadata": {
        "colab": {
          "base_uri": "https://localhost:8080/",
          "height": 206
        },
        "id": "gVcQ-Hx_huax",
        "outputId": "12798605-3d6c-4abe-a7c4-73fedcfa2c95"
      },
      "outputs": [
        {
          "data": {
            "text/html": [
              "<div>\n",
              "<style scoped>\n",
              "    .dataframe tbody tr th:only-of-type {\n",
              "        vertical-align: middle;\n",
              "    }\n",
              "\n",
              "    .dataframe tbody tr th {\n",
              "        vertical-align: top;\n",
              "    }\n",
              "\n",
              "    .dataframe thead th {\n",
              "        text-align: right;\n",
              "    }\n",
              "</style>\n",
              "<table border=\"1\" class=\"dataframe\">\n",
              "  <thead>\n",
              "    <tr style=\"text-align: right;\">\n",
              "      <th></th>\n",
              "      <th>count</th>\n",
              "      <th>mean</th>\n",
              "      <th>std</th>\n",
              "      <th>min</th>\n",
              "      <th>25%</th>\n",
              "      <th>50%</th>\n",
              "      <th>75%</th>\n",
              "      <th>max</th>\n",
              "    </tr>\n",
              "    <tr>\n",
              "      <th>Seasons</th>\n",
              "      <th></th>\n",
              "      <th></th>\n",
              "      <th></th>\n",
              "      <th></th>\n",
              "      <th></th>\n",
              "      <th></th>\n",
              "      <th></th>\n",
              "      <th></th>\n",
              "    </tr>\n",
              "  </thead>\n",
              "  <tbody>\n",
              "    <tr>\n",
              "      <th>Autumn</th>\n",
              "      <td>2184.0</td>\n",
              "      <td>819.597985</td>\n",
              "      <td>651.085621</td>\n",
              "      <td>0.0</td>\n",
              "      <td>241.75</td>\n",
              "      <td>763.5</td>\n",
              "      <td>1197.50</td>\n",
              "      <td>3298.0</td>\n",
              "    </tr>\n",
              "    <tr>\n",
              "      <th>Spring</th>\n",
              "      <td>2208.0</td>\n",
              "      <td>730.031250</td>\n",
              "      <td>621.509635</td>\n",
              "      <td>0.0</td>\n",
              "      <td>206.00</td>\n",
              "      <td>583.0</td>\n",
              "      <td>1105.25</td>\n",
              "      <td>3251.0</td>\n",
              "    </tr>\n",
              "    <tr>\n",
              "      <th>Summer</th>\n",
              "      <td>2208.0</td>\n",
              "      <td>1034.073370</td>\n",
              "      <td>690.244759</td>\n",
              "      <td>9.0</td>\n",
              "      <td>526.75</td>\n",
              "      <td>905.5</td>\n",
              "      <td>1442.50</td>\n",
              "      <td>3556.0</td>\n",
              "    </tr>\n",
              "    <tr>\n",
              "      <th>Winter</th>\n",
              "      <td>2160.0</td>\n",
              "      <td>225.541204</td>\n",
              "      <td>150.372236</td>\n",
              "      <td>3.0</td>\n",
              "      <td>110.00</td>\n",
              "      <td>203.0</td>\n",
              "      <td>305.00</td>\n",
              "      <td>937.0</td>\n",
              "    </tr>\n",
              "  </tbody>\n",
              "</table>\n",
              "</div>"
            ],
            "text/plain": [
              "          count         mean         std  min     25%    50%      75%     max\n",
              "Seasons                                                                      \n",
              "Autumn   2184.0   819.597985  651.085621  0.0  241.75  763.5  1197.50  3298.0\n",
              "Spring   2208.0   730.031250  621.509635  0.0  206.00  583.0  1105.25  3251.0\n",
              "Summer   2208.0  1034.073370  690.244759  9.0  526.75  905.5  1442.50  3556.0\n",
              "Winter   2160.0   225.541204  150.372236  3.0  110.00  203.0   305.00   937.0"
            ]
          },
          "execution_count": 87,
          "metadata": {},
          "output_type": "execute_result"
        }
      ],
      "source": [
        "# Season wise Rented Bike Count\n",
        "df.groupby('Seasons')['Rented Bike Count'].describe()"
      ]
    },
    {
      "cell_type": "code",
      "execution_count": 88,
      "metadata": {
        "colab": {
          "base_uri": "https://localhost:8080/",
          "height": 143
        },
        "id": "OQZG65vFgUQM",
        "outputId": "1e260755-90ef-4554-e116-6a5c83d89613"
      },
      "outputs": [
        {
          "data": {
            "text/html": [
              "<div>\n",
              "<style scoped>\n",
              "    .dataframe tbody tr th:only-of-type {\n",
              "        vertical-align: middle;\n",
              "    }\n",
              "\n",
              "    .dataframe tbody tr th {\n",
              "        vertical-align: top;\n",
              "    }\n",
              "\n",
              "    .dataframe thead th {\n",
              "        text-align: right;\n",
              "    }\n",
              "</style>\n",
              "<table border=\"1\" class=\"dataframe\">\n",
              "  <thead>\n",
              "    <tr style=\"text-align: right;\">\n",
              "      <th></th>\n",
              "      <th>count</th>\n",
              "      <th>mean</th>\n",
              "      <th>std</th>\n",
              "      <th>min</th>\n",
              "      <th>25%</th>\n",
              "      <th>50%</th>\n",
              "      <th>75%</th>\n",
              "      <th>max</th>\n",
              "    </tr>\n",
              "    <tr>\n",
              "      <th>Holiday</th>\n",
              "      <th></th>\n",
              "      <th></th>\n",
              "      <th></th>\n",
              "      <th></th>\n",
              "      <th></th>\n",
              "      <th></th>\n",
              "      <th></th>\n",
              "      <th></th>\n",
              "    </tr>\n",
              "  </thead>\n",
              "  <tbody>\n",
              "    <tr>\n",
              "      <th>Holiday</th>\n",
              "      <td>432.0</td>\n",
              "      <td>499.756944</td>\n",
              "      <td>570.772769</td>\n",
              "      <td>0.0</td>\n",
              "      <td>105.75</td>\n",
              "      <td>240.0</td>\n",
              "      <td>762.5</td>\n",
              "      <td>2400.0</td>\n",
              "    </tr>\n",
              "    <tr>\n",
              "      <th>No Holiday</th>\n",
              "      <td>8328.0</td>\n",
              "      <td>715.228026</td>\n",
              "      <td>646.879124</td>\n",
              "      <td>0.0</td>\n",
              "      <td>200.00</td>\n",
              "      <td>524.5</td>\n",
              "      <td>1073.0</td>\n",
              "      <td>3556.0</td>\n",
              "    </tr>\n",
              "  </tbody>\n",
              "</table>\n",
              "</div>"
            ],
            "text/plain": [
              "             count        mean         std  min     25%    50%     75%     max\n",
              "Holiday                                                                       \n",
              "Holiday      432.0  499.756944  570.772769  0.0  105.75  240.0   762.5  2400.0\n",
              "No Holiday  8328.0  715.228026  646.879124  0.0  200.00  524.5  1073.0  3556.0"
            ]
          },
          "execution_count": 88,
          "metadata": {},
          "output_type": "execute_result"
        }
      ],
      "source": [
        "# Holiday wise Rented Bike Count\n",
        "df.groupby('Holiday')['Rented Bike Count'].describe()"
      ]
    },
    {
      "cell_type": "code",
      "execution_count": 89,
      "metadata": {
        "id": "mCG-U3g5JVXX"
      },
      "outputs": [],
      "source": [
        "# Changing Hour, Year, Month dtypes to categorical\n",
        "for col in ['Year', 'Month', 'Day']:\n",
        "  df[col] = df[col].astype('category')"
      ]
    },
    {
      "cell_type": "code",
      "execution_count": 90,
      "metadata": {
        "colab": {
          "base_uri": "https://localhost:8080/"
        },
        "id": "ZaNOCZKRKbAv",
        "outputId": "1f552538-597d-4fb2-a6aa-b57220c7a2c9"
      },
      "outputs": [
        {
          "name": "stdout",
          "output_type": "stream",
          "text": [
            "<class 'pandas.core.frame.DataFrame'>\n",
            "RangeIndex: 8760 entries, 0 to 8759\n",
            "Data columns (total 18 columns):\n",
            " #   Column                     Non-Null Count  Dtype         \n",
            "---  ------                     --------------  -----         \n",
            " 0   Date                       8760 non-null   datetime64[ns]\n",
            " 1   Rented Bike Count          8760 non-null   int64         \n",
            " 2   Hour                       8760 non-null   int64         \n",
            " 3   Temperature(°C)            8760 non-null   float64       \n",
            " 4   Humidity(%)                8760 non-null   int64         \n",
            " 5   Wind speed (m/s)           8760 non-null   float64       \n",
            " 6   Visibility (10m)           8760 non-null   int64         \n",
            " 7   Dew point temperature(°C)  8760 non-null   float64       \n",
            " 8   Solar Radiation (MJ/m2)    8760 non-null   float64       \n",
            " 9   Rainfall(mm)               8760 non-null   float64       \n",
            " 10  Snowfall (cm)              8760 non-null   float64       \n",
            " 11  Seasons                    8760 non-null   object        \n",
            " 12  Holiday                    8760 non-null   object        \n",
            " 13  Functioning Day            8760 non-null   object        \n",
            " 14  Year                       8760 non-null   category      \n",
            " 15  Month                      8760 non-null   category      \n",
            " 16  Day                        8760 non-null   category      \n",
            " 17  weekday                    8760 non-null   object        \n",
            "dtypes: category(3), datetime64[ns](1), float64(6), int64(4), object(4)\n",
            "memory usage: 1.0+ MB\n"
          ]
        }
      ],
      "source": [
        "df.info()"
      ]
    },
    {
      "cell_type": "code",
      "execution_count": 91,
      "metadata": {
        "colab": {
          "base_uri": "https://localhost:8080/"
        },
        "id": "bHFbeyLnLc-O",
        "outputId": "cd44fbf0-e5b8-4626-bdb8-8bb77c4d4add"
      },
      "outputs": [
        {
          "data": {
            "text/plain": [
              "count    8760.000000\n",
              "mean      704.602055\n",
              "std       644.997468\n",
              "min         0.000000\n",
              "25%       191.000000\n",
              "50%       504.500000\n",
              "75%      1065.250000\n",
              "max      3556.000000\n",
              "Name: Rented Bike Count, dtype: float64"
            ]
          },
          "execution_count": 91,
          "metadata": {},
          "output_type": "execute_result"
        }
      ],
      "source": [
        "# Statistical properties of Rented Bike Count\n",
        "df['Rented Bike Count'].describe()"
      ]
    },
    {
      "cell_type": "code",
      "execution_count": 92,
      "metadata": {
        "colab": {
          "base_uri": "https://localhost:8080/",
          "height": 143
        },
        "id": "aggEUGYCDfgE",
        "outputId": "c3f7fdc8-179e-4d13-b918-070d8766961a"
      },
      "outputs": [
        {
          "data": {
            "text/html": [
              "<div>\n",
              "<style scoped>\n",
              "    .dataframe tbody tr th:only-of-type {\n",
              "        vertical-align: middle;\n",
              "    }\n",
              "\n",
              "    .dataframe tbody tr th {\n",
              "        vertical-align: top;\n",
              "    }\n",
              "\n",
              "    .dataframe thead th {\n",
              "        text-align: right;\n",
              "    }\n",
              "</style>\n",
              "<table border=\"1\" class=\"dataframe\">\n",
              "  <thead>\n",
              "    <tr style=\"text-align: right;\">\n",
              "      <th></th>\n",
              "      <th>count</th>\n",
              "      <th>mean</th>\n",
              "      <th>std</th>\n",
              "      <th>min</th>\n",
              "      <th>25%</th>\n",
              "      <th>50%</th>\n",
              "      <th>75%</th>\n",
              "      <th>max</th>\n",
              "    </tr>\n",
              "    <tr>\n",
              "      <th>Functioning Day</th>\n",
              "      <th></th>\n",
              "      <th></th>\n",
              "      <th></th>\n",
              "      <th></th>\n",
              "      <th></th>\n",
              "      <th></th>\n",
              "      <th></th>\n",
              "      <th></th>\n",
              "    </tr>\n",
              "  </thead>\n",
              "  <tbody>\n",
              "    <tr>\n",
              "      <th>No</th>\n",
              "      <td>295.0</td>\n",
              "      <td>0.000000</td>\n",
              "      <td>0.000000</td>\n",
              "      <td>0.0</td>\n",
              "      <td>0.0</td>\n",
              "      <td>0.0</td>\n",
              "      <td>0.0</td>\n",
              "      <td>0.0</td>\n",
              "    </tr>\n",
              "    <tr>\n",
              "      <th>Yes</th>\n",
              "      <td>8465.0</td>\n",
              "      <td>729.156999</td>\n",
              "      <td>642.351166</td>\n",
              "      <td>2.0</td>\n",
              "      <td>214.0</td>\n",
              "      <td>542.0</td>\n",
              "      <td>1084.0</td>\n",
              "      <td>3556.0</td>\n",
              "    </tr>\n",
              "  </tbody>\n",
              "</table>\n",
              "</div>"
            ],
            "text/plain": [
              "                  count        mean         std  min    25%    50%     75%  \\\n",
              "Functioning Day                                                              \n",
              "No                295.0    0.000000    0.000000  0.0    0.0    0.0     0.0   \n",
              "Yes              8465.0  729.156999  642.351166  2.0  214.0  542.0  1084.0   \n",
              "\n",
              "                    max  \n",
              "Functioning Day          \n",
              "No                  0.0  \n",
              "Yes              3556.0  "
            ]
          },
          "execution_count": 92,
          "metadata": {},
          "output_type": "execute_result"
        }
      ],
      "source": [
        "# Functioning Day wise Rented Bike Count\n",
        "df.groupby('Functioning Day')['Rented Bike Count'].describe()"
      ]
    },
    {
      "cell_type": "code",
      "execution_count": 93,
      "metadata": {
        "id": "BZ36Fl6_ZvFi"
      },
      "outputs": [],
      "source": [
        "# Creating Temperature bin of 1°C intervals that will help in visualizations\n",
        "df['Temperature Bin'] = df['Temperature(°C)'].round(0).astype('int64')"
      ]
    },
    {
      "cell_type": "markdown",
      "metadata": {
        "id": "MSa1f5Uengrz"
      },
      "source": [
        "### What all manipulations have you done and insights you found?\n"
      ]
    },
    {
      "cell_type": "markdown",
      "metadata": {
        "id": "LbyXE7I1olp8"
      },
      "source": [
        "First of all I checked for duplicate data and missing values, found 0 in both cases. Changed datatype of **Date** column which represent the date of observing the data to datetime to better access the data functions provided by pandas. I created new features like **Day**, **Month**, **Year**, **weekday** from Date column that will help better in visualizations as well as modelling as it can help getting insight any trend over day or month or weekday etc. I found out that dataset contains information from Dec 2017 to Nov 2018, so we don't have enough data to find patterns/trends over years. Converted Year, Month, Day to categorical data type. Created new feature **Temperature bin** which will help mainly in visualizing the trend of demand over temperatures.\n",
        "\n",
        "Although visualization is better to get insight of the data that will be done in next section, I tried to understand bike rentals demand levels accross seasons (summer has highest demand and winter has lowest), Holiday has less demand compared to non holiday maybe because there are more people who use rented bikes to go to offices, schools etc on non holiday. As expected non functioning day has zero demand. We may need to drop all the rows with non functioning day as we'll be trying to predict demand when the rental bike service is functioning.\n"
      ]
    },
    {
      "cell_type": "markdown",
      "metadata": {
        "id": "GF8Ens_Soomf"
      },
      "source": [
        "## **_4. Data Vizualization, Storytelling & Experimenting with charts : Understand the relationships between variables_**\n"
      ]
    },
    {
      "cell_type": "markdown",
      "metadata": {
        "id": "0wOQAZs5pc--"
      },
      "source": [
        "#### Chart - 1 - Histogram & Box-plot for distribution of Rented Bike Count\n"
      ]
    },
    {
      "cell_type": "code",
      "execution_count": 94,
      "metadata": {
        "colab": {
          "base_uri": "https://localhost:8080/",
          "height": 427
        },
        "id": "7v_ESjsspbW7",
        "outputId": "d140586a-9283-4993-f8c4-89c67498549b"
      },
      "outputs": [
        {
          "data": {
            "text/plain": [
              "Text(0.5, 1.0, 'Rented Bike Count Box Plot')"
            ]
          },
          "execution_count": 94,
          "metadata": {},
          "output_type": "execute_result"
        },
        {
          "data": {
            "image/png": "[encoded data removed]",
            "text/plain": [
              "<Figure size 1800x600 with 2 Axes>"
            ]
          },
          "metadata": {},
          "output_type": "display_data"
        }
      ],
      "source": [
        "plt.figure(figsize=(18,6))\n",
        "\n",
        "plt.subplot(1,2,1)\n",
        "sns.histplot(x='Rented Bike Count', data=df, kde=True)\n",
        "plt.title(\"Rented Bike Count Distribution\")\n",
        "\n",
        "plt.subplot(1,2,2)\n",
        "sns.boxplot(x='Rented Bike Count', data = df)\n",
        "plt.title(\"Rented Bike Count Box Plot\")"
      ]
    },
    {
      "cell_type": "markdown",
      "metadata": {
        "id": "K5QZ13OEpz2H"
      },
      "source": [
        "##### 1. Why did you pick the specific chart?\n"
      ]
    },
    {
      "cell_type": "markdown",
      "metadata": {
        "id": "XESiWehPqBRc"
      },
      "source": [
        "The histogram is a popular graphing tool. It is used to summarize discrete or continuous data that are measured on an interval scale. It is often used to illustrate the major features of the distribution of the data in a convenient form. It is also useful when dealing with large data sets (greater than 100 observations). It can help detect any unusual observations (outliers) or any gaps in the data.\n",
        "\n",
        "Thus, I used the histogram plot to analysis the distributions of Rented Bike Count.\n",
        "\n",
        "Box plots are used to show distributions of numeric data values, especially when you want to compare them between multiple groups. They are built to provide high-level information at a glance, offering general information about a group of data's symmetry, skew, variance, and outliers.\n"
      ]
    },
    {
      "cell_type": "markdown",
      "metadata": {
        "id": "lQ7QKXXCp7Bj"
      },
      "source": [
        "##### 2. What is/are the insight(s) found from the chart?\n"
      ]
    },
    {
      "cell_type": "markdown",
      "metadata": {
        "id": "C_j1G7yiqdRP"
      },
      "source": [
        "Rented Bike Count is right skewed. It means that most of the data falls on the lower end of the scale, and there are relatively fewer instances where a large number of bikes were rented.\n"
      ]
    },
    {
      "cell_type": "markdown",
      "metadata": {
        "id": "448CDAPjqfQr"
      },
      "source": [
        "##### 3. Will the gained insights help creating a positive business impact?\n",
        "\n",
        "Are there any insights that lead to negative growth? Justify with specific reason.\n"
      ]
    },
    {
      "cell_type": "markdown",
      "metadata": {
        "id": "3cspy4FjqxJW"
      },
      "source": [
        "Yes, this insights can help create a positive business impact in multiple ways. By understanding the factors that impact the demand for bike sharing services, the company can make better-informed decisions on where to allocate their resources. For example, companies may choose to invest in improving their services during peak demand periods or offer promotions during slower periods to encourage more bike rentals.\n"
      ]
    },
    {
      "cell_type": "markdown",
      "metadata": {
        "id": "KSlN3yHqYklG"
      },
      "source": [
        "#### Chart - 2 - Rented Bike Count by Seasons\n"
      ]
    },
    {
      "cell_type": "code",
      "execution_count": 95,
      "metadata": {
        "colab": {
          "base_uri": "https://localhost:8080/",
          "height": 535
        },
        "id": "nr4PBLxmmmgb",
        "outputId": "fb60cf55-667a-4aa1-9b35-d56cb6173156"
      },
      "outputs": [
        {
          "data": {
            "text/plain": [
              "Text(0.5, 1.0, 'Rented Bike Count by Seasons')"
            ]
          },
          "execution_count": 95,
          "metadata": {},
          "output_type": "execute_result"
        },
        {
          "data": {
            "image/png": "[encoded data removed]",
            "text/plain": [
              "<Figure size 1200x800 with 1 Axes>"
            ]
          },
          "metadata": {},
          "output_type": "display_data"
        }
      ],
      "source": [
        "plt.figure(figsize = (12,8))\n",
        "sns.barplot(x='Seasons', y='Rented Bike Count', data=df)\n",
        "plt.xlabel(\"Seasons\")\n",
        "plt.ylabel(\"Avg. Rented Bike Count\")\n",
        "plt.title(\"Rented Bike Count by Seasons\")"
      ]
    },
    {
      "cell_type": "markdown",
      "metadata": {
        "id": "t6dVpIINYklI"
      },
      "source": [
        "##### 1. Why did you pick the specific chart?\n"
      ]
    },
    {
      "cell_type": "markdown",
      "metadata": {
        "id": "5aaW0BYyYklI"
      },
      "source": [
        "Bar charts show the frequency counts of values for the different levels of a categorical or nominal variable to get some sense of relative levels. Thus, to show the avg rented bike demandover different seasons, I have used Bar Chart.\n"
      ]
    },
    {
      "cell_type": "markdown",
      "metadata": {
        "id": "ijmpgYnKYklI"
      },
      "source": [
        "##### 2. What is/are the insight(s) found from the chart?\n"
      ]
    },
    {
      "cell_type": "markdown",
      "metadata": {
        "id": "PSx9atu2YklI"
      },
      "source": [
        "Rentals Bike demand is highest in summer season and lowest in winter season.\n"
      ]
    },
    {
      "cell_type": "markdown",
      "metadata": {
        "id": "-JiQyfWJYklI"
      },
      "source": [
        "##### 3. Will the gained insights help creating a positive business impact?\n",
        "\n",
        "Are there any insights that lead to negative growth? Justify with specific reason.\n"
      ]
    },
    {
      "cell_type": "markdown",
      "metadata": {
        "id": "BcBbebzrYklV"
      },
      "source": [
        "This finding can help the bike sharing company plan its operations more effectively by increasing the number of bikes available during the peak season and reducing them during the off-season. The company can also consider offering seasonal promotions to encourage more rentals during the off-season.\n"
      ]
    },
    {
      "cell_type": "markdown",
      "metadata": {
        "id": "EM7whBJCYoAo"
      },
      "source": [
        "#### Chart - 3 - Rented Bike Count trend by Hour\n"
      ]
    },
    {
      "cell_type": "code",
      "execution_count": 96,
      "metadata": {
        "colab": {
          "base_uri": "https://localhost:8080/",
          "height": 372
        },
        "id": "t6GMdE67YoAp",
        "outputId": "07466da2-36d8-4787-f4a7-a043907a78d5"
      },
      "outputs": [
        {
          "data": {
            "text/plain": [
              "Text(0.5, 1.0, 'Rented Bike Count trend by Hour')"
            ]
          },
          "execution_count": 96,
          "metadata": {},
          "output_type": "execute_result"
        },
        {
          "data": {
            "image/png": "[encoded data removed]",
            "text/plain": [
              "<Figure size 1000x500 with 1 Axes>"
            ]
          },
          "metadata": {},
          "output_type": "display_data"
        }
      ],
      "source": [
        "# Average Rented Bike Count by Hour\n",
        "plt.figure(figsize=(10,5))\n",
        "sns.lineplot(x='Hour', y='Rented Bike Count', data=df)\n",
        "plt.ylabel(\"Avg Rented Bike Count\")\n",
        "plt.title(\"Rented Bike Count trend by Hour\")"
      ]
    },
    {
      "cell_type": "markdown",
      "metadata": {
        "id": "fge-S5ZAYoAp"
      },
      "source": [
        "##### 1. Why did you pick the specific chart?\n"
      ]
    },
    {
      "cell_type": "markdown",
      "metadata": {
        "id": "5dBItgRVYoAp"
      },
      "source": [
        "Line charts are a useful tool for visualizing trends over time. It allows us in easy identification of patterns and changes over time.\n",
        "\n",
        "Thus, I have used the line chart to show the average rented bike count over different hours of a day.\n"
      ]
    },
    {
      "cell_type": "markdown",
      "metadata": {
        "id": "85gYPyotYoAp"
      },
      "source": [
        "##### 2. What is/are the insight(s) found from the chart?\n"
      ]
    },
    {
      "cell_type": "markdown",
      "metadata": {
        "id": "4jstXR6OYoAp"
      },
      "source": [
        "The demand is higher during rush hour (i.e., 7-9AM and 5-7PM) when people go to offices/schools and come back in evening.\n"
      ]
    },
    {
      "cell_type": "markdown",
      "metadata": {
        "id": "RoGjAbkUYoAp"
      },
      "source": [
        "##### 3. Will the gained insights help creating a positive business impact?\n",
        "\n",
        "Are there any insights that lead to negative growth? Justify with specific reason.\n"
      ]
    },
    {
      "cell_type": "markdown",
      "metadata": {
        "id": "zfJ8IqMcYoAp"
      },
      "source": [
        "Yes, by understanding the demand trend over the hours of the day, the company can allocate its resources more effectively. For example, they may choose to increase the number of bikes available during the rush hours to meet the demand. Additionally, they may choose to offer promotions or discounts during off-peak hours to encourage more rentals.\n"
      ]
    },
    {
      "cell_type": "markdown",
      "metadata": {
        "id": "4Of9eVA-YrdM"
      },
      "source": [
        "#### Chart - 4 - Avg. Rented Bike Count by Months\n"
      ]
    },
    {
      "cell_type": "code",
      "execution_count": 97,
      "metadata": {
        "colab": {
          "base_uri": "https://localhost:8080/",
          "height": 535
        },
        "id": "irlUoxc8YrdO",
        "outputId": "f2fa5b42-a24b-4bfa-eb71-61931c175d88"
      },
      "outputs": [
        {
          "data": {
            "text/plain": [
              "Text(0.5, 1.0, 'Rented Bike Count by Months')"
            ]
          },
          "execution_count": 97,
          "metadata": {},
          "output_type": "execute_result"
        },
        {
          "data": {
            "image/png": "[encoded data removed]",
            "text/plain": [
              "<Figure size 1200x800 with 1 Axes>"
            ]
          },
          "metadata": {},
          "output_type": "display_data"
        }
      ],
      "source": [
        "plt.figure(figsize = (12,8))\n",
        "sns.barplot(x='Month', y='Rented Bike Count', data=df)\n",
        "plt.xlabel(\"Months\")\n",
        "plt.ylabel(\"Avg. Rented Bike Count\")\n",
        "plt.title(\"Rented Bike Count by Months\")"
      ]
    },
    {
      "cell_type": "markdown",
      "metadata": {
        "id": "iky9q4vBYrdO"
      },
      "source": [
        "##### 1. Why did you pick the specific chart?\n"
      ]
    },
    {
      "cell_type": "markdown",
      "metadata": {
        "id": "aJRCwT6DYrdO"
      },
      "source": [
        "Bar charts show the frequency counts of values for the different levels of a categorical or nominal variable to get some sense of relative levels. Thus, to show the avg rented bike demandover different months, I have used Bar Chart.\n"
      ]
    },
    {
      "cell_type": "markdown",
      "metadata": {
        "id": "F6T5p64dYrdO"
      },
      "source": [
        "##### 2. What is/are the insight(s) found from the chart?\n"
      ]
    },
    {
      "cell_type": "markdown",
      "metadata": {
        "id": "Xx8WAJvtYrdO"
      },
      "source": [
        "Rentals Bike demand is more in summer months like May, June, Jult etc compared to winter months like December, January, February etc.\n"
      ]
    },
    {
      "cell_type": "markdown",
      "metadata": {
        "id": "y-Ehk30pYrdP"
      },
      "source": [
        "##### 3. Will the gained insights help creating a positive business impact?\n",
        "\n",
        "Are there any insights that lead to negative growth? Justify with specific reason.\n"
      ]
    },
    {
      "cell_type": "markdown",
      "metadata": {
        "id": "jLNxxz7MYrdP"
      },
      "source": [
        "Yes, by understanding the demand trend over different months, the company can optimize its operations, resources, pricing to meet the demand and maximize revenue. For example, during peak months (May, June, July), the company can increase the number of bikes available and adjust pricing strategies to maximize revenue. Additionally, during the low-demand months (Dec, Jan, Feb), the company can reduce the number of bikes available and offer promotions or discounts to attract customers.\n"
      ]
    },
    {
      "cell_type": "markdown",
      "metadata": {
        "id": "bamQiAODYuh1"
      },
      "source": [
        "#### Chart - 5 - Average Rented Bike Count by Temperature(°C)\n"
      ]
    },
    {
      "cell_type": "code",
      "execution_count": 98,
      "metadata": {
        "colab": {
          "base_uri": "https://localhost:8080/",
          "height": 372
        },
        "id": "7MHoMliwaJy8",
        "outputId": "2b1edd1e-5a68-4827-f80a-e6b224d2080a"
      },
      "outputs": [
        {
          "data": {
            "text/plain": [
              "Text(0.5, 1.0, 'Rented Bike Count trend by Temperature(°C)')"
            ]
          },
          "execution_count": 98,
          "metadata": {},
          "output_type": "execute_result"
        },
        {
          "data": {
            "image/png": "[encoded data removed]",
            "text/plain": [
              "<Figure size 1000x500 with 1 Axes>"
            ]
          },
          "metadata": {},
          "output_type": "display_data"
        }
      ],
      "source": [
        "plt.figure(figsize=(10,5))\n",
        "df.groupby('Temperature Bin')['Rented Bike Count'].mean().plot(kind='line')\n",
        "plt.ylabel(\"Avg Rented Bike Count\")\n",
        "plt.xlabel(\"Temperature(°C)\")\n",
        "plt.title(\"Rented Bike Count trend by Temperature(°C)\")"
      ]
    },
    {
      "cell_type": "markdown",
      "metadata": {
        "id": "QHF8YVU7Yuh3"
      },
      "source": [
        "##### 1. Why did you pick the specific chart?\n"
      ]
    },
    {
      "cell_type": "markdown",
      "metadata": {
        "id": "dcxuIMRPYuh3"
      },
      "source": [
        "Line charts are a useful tool for visualizing trends over time. It allows us in easy identification of patterns and changes over time (in this case over temperatures).\n"
      ]
    },
    {
      "cell_type": "markdown",
      "metadata": {
        "id": "GwzvFGzlYuh3"
      },
      "source": [
        "##### 2. What is/are the insight(s) found from the chart?\n"
      ]
    },
    {
      "cell_type": "markdown",
      "metadata": {
        "id": "uyqkiB8YYuh3"
      },
      "source": [
        "The Rentals Bike demand increases as tempreature increases although too high temperature like above 30°C leads to decrease in demand.\n"
      ]
    },
    {
      "cell_type": "markdown",
      "metadata": {
        "id": "qYpmQ266Yuh3"
      },
      "source": [
        "##### 3. Will the gained insights help creating a positive business impact?\n",
        "\n",
        "Are there any insights that lead to negative growth? Justify with specific reason.\n"
      ]
    },
    {
      "cell_type": "markdown",
      "metadata": {
        "id": "_WtzZ_hCYuh4"
      },
      "source": [
        "Yes, by understanding the demand trend over temperature, the company can allocate its resources more effectively.\n",
        "\n",
        "For example, during periods of high temperatures, the company can adjust the number of bikes available to meet the increased demand. Additionally, they may choose to offer promotions or discounts during periods of lower temperatures to encourage more rentals.\n",
        "\n",
        "Moreover, by understanding that demand tends to decrease above 30°C, the company can adjust its operations accordingly, such as reducing the number of bikes available during those periods and focusing more on marketing efforts to attract customers during cooler periods.\n"
      ]
    },
    {
      "cell_type": "markdown",
      "metadata": {
        "id": "OH-pJp9IphqM"
      },
      "source": [
        "#### Chart - 6 - Average Rented Bike Count by Dew point temperature(°C)\n"
      ]
    },
    {
      "cell_type": "code",
      "execution_count": 99,
      "metadata": {
        "colab": {
          "base_uri": "https://localhost:8080/",
          "height": 372
        },
        "id": "lqAIGUfyphqO",
        "outputId": "9354fabe-dd6e-430c-b902-96a25d35a995"
      },
      "outputs": [
        {
          "data": {
            "text/plain": [
              "Text(0.5, 1.0, 'Rented Bike Count trend by Dew point temperature(°C)')"
            ]
          },
          "execution_count": 99,
          "metadata": {},
          "output_type": "execute_result"
        },
        {
          "data": {
            "image/png": "[encoded data removed]",
            "text/plain": [
              "<Figure size 1000x500 with 1 Axes>"
            ]
          },
          "metadata": {},
          "output_type": "display_data"
        }
      ],
      "source": [
        "d = df.copy()\n",
        "d['Dew point temperature(°C) Bin'] = d['Dew point temperature(°C)'].round(0).astype('int64')\n",
        "\n",
        "plt.figure(figsize=(10,5))\n",
        "d.groupby('Dew point temperature(°C) Bin')['Rented Bike Count'].mean().plot(kind='line')\n",
        "plt.ylabel(\"Avg Rented Bike Count\")\n",
        "plt.xlabel(\"Dew point temperature(°C)\")\n",
        "plt.title(\"Rented Bike Count trend by Dew point temperature(°C)\")"
      ]
    },
    {
      "cell_type": "markdown",
      "metadata": {
        "id": "bbFf2-_FphqN"
      },
      "source": [
        "##### 1. Why did you pick the specific chart?\n"
      ]
    },
    {
      "cell_type": "markdown",
      "metadata": {
        "id": "loh7H2nzphqN"
      },
      "source": [
        "Line charts are a useful tool for visualizing trends over time. It allows us in easy identification of patterns and changes over time (in this case over dew point temperatures).\n"
      ]
    },
    {
      "cell_type": "markdown",
      "metadata": {
        "id": "_ouA3fa0phqN"
      },
      "source": [
        "##### 2. What is/are the insight(s) found from the chart?\n"
      ]
    },
    {
      "cell_type": "markdown",
      "metadata": {
        "id": "VECbqPI7phqN"
      },
      "source": [
        "Similar to trend of bike rentals demand over temperature, here also demand increases as dew point tempreature increases although too high dew pint temperature like above 18°C leads to decrease in demand\n"
      ]
    },
    {
      "cell_type": "markdown",
      "metadata": {
        "id": "Seke61FWphqN"
      },
      "source": [
        "##### 3. Will the gained insights help creating a positive business impact?\n",
        "\n",
        "Are there any insights that lead to negative growth? Justify with specific reason.\n"
      ]
    },
    {
      "cell_type": "markdown",
      "metadata": {
        "id": "DW4_bGpfphqN"
      },
      "source": [
        "Yes, it will help creating positive business impact in same way as temperature do.\n"
      ]
    },
    {
      "cell_type": "markdown",
      "metadata": {
        "id": "PIIx-8_IphqN"
      },
      "source": [
        "#### Chart - 7 - Rented Bike Count by Functioning Day\n"
      ]
    },
    {
      "cell_type": "code",
      "execution_count": 100,
      "metadata": {
        "colab": {
          "base_uri": "https://localhost:8080/",
          "height": 427
        },
        "id": "kuRf4wtuphqN",
        "outputId": "59d53018-e1b0-423c-d6b3-6de3f22df3df"
      },
      "outputs": [
        {
          "data": {
            "text/plain": [
              "Text(0, 0.5, 'Rented Bike Count')"
            ]
          },
          "execution_count": 100,
          "metadata": {},
          "output_type": "execute_result"
        },
        {
          "data": {
            "image/png": "[encoded data removed]",
            "text/plain": [
              "<Figure size 700x600 with 1 Axes>"
            ]
          },
          "metadata": {},
          "output_type": "display_data"
        }
      ],
      "source": [
        "plt.figure(figsize=(7,6))\n",
        "sns.barplot(y='Rented Bike Count', x='Functioning Day', data=df)\n",
        "plt.title(\"Rented Bike Count by Functioning Day\")\n",
        "plt.ylabel(\"Rented Bike Count\")"
      ]
    },
    {
      "cell_type": "markdown",
      "metadata": {
        "id": "t27r6nlMphqO"
      },
      "source": [
        "##### 1. Why did you pick the specific chart?\n"
      ]
    },
    {
      "cell_type": "markdown",
      "metadata": {
        "id": "iv6ro40sphqO"
      },
      "source": [
        "Bar charts show the frequency counts of values for the different levels of a categorical or nominal variable to get some sense of relative levels. Thus, to show the avg rented bike demand over functioning day, I have used Bar Chart.\n"
      ]
    },
    {
      "cell_type": "markdown",
      "metadata": {
        "id": "r2jJGEOYphqO"
      },
      "source": [
        "##### 2. What is/are the insight(s) found from the chart?\n"
      ]
    },
    {
      "cell_type": "markdown",
      "metadata": {
        "id": "Po6ZPi4hphqO"
      },
      "source": [
        "As expected, on non functioning day there is no demand (because the rentals bike service is not functioning, so no one is booking).\n"
      ]
    },
    {
      "cell_type": "markdown",
      "metadata": {
        "id": "b0JNsNcRphqO"
      },
      "source": [
        "##### 3. Will the gained insights help creating a positive business impact?\n",
        "\n",
        "Are there any insights that lead to negative growth? Justify with specific reason.\n"
      ]
    },
    {
      "cell_type": "markdown",
      "metadata": {
        "id": "xvSq8iUTphqO"
      },
      "source": [
        "No, as the rentals bike service is not functioning on non functioning day, there is no demand.\n"
      ]
    },
    {
      "cell_type": "markdown",
      "metadata": {
        "id": "BZR9WyysphqO"
      },
      "source": [
        "#### Chart - 8 - Correlation Heatmap\n"
      ]
    },
    {
      "cell_type": "code",
      "execution_count": null,
      "metadata": {
        "colab": {
          "base_uri": "https://localhost:8080/",
          "height": 593
        },
        "id": "TdPTWpAVphqO",
        "outputId": "9bd24ccf-c45f-4444-c195-910105ceb805"
      },
      "outputs": [],
      "source": [
        "corr = df.corr()\n",
        "f, ax = plt.subplots(figsize=(12, 7))\n",
        "sns.heatmap(corr, annot = True, fmt='.2f')"
      ]
    },
    {
      "cell_type": "markdown",
      "metadata": {
        "id": "jj7wYXLtphqO"
      },
      "source": [
        "##### 1. Why did you pick the specific chart?\n"
      ]
    },
    {
      "cell_type": "markdown",
      "metadata": {
        "id": "Ob8u6rCTphqO"
      },
      "source": [
        "A correlation matrix is a table showing correlation coefficients between variables. Each cell in the table shows the correlation between two variables. A correlation matrix is used to summarize data, as an input into a more advanced analysis, and as a diagnostic for advanced analyses. The range of correlation is [-1,1].\n",
        "\n",
        "Thus to know the correlation between all the variables along with the correlation coeficients, I used correlation heatmap.\n"
      ]
    },
    {
      "cell_type": "markdown",
      "metadata": {
        "id": "eZrbJ2SmphqO"
      },
      "source": [
        "##### 2. What is/are the insight(s) found from the chart?\n"
      ]
    },
    {
      "cell_type": "markdown",
      "metadata": {
        "id": "mZtgC_hjphqO"
      },
      "source": [
        "The temperature and dew point temperature features are highly correlated which my create difficulties in model interpretation after training, so we may need to drop one of them.\n"
      ]
    },
    {
      "cell_type": "markdown",
      "metadata": {
        "id": "rFu4xreNphqO"
      },
      "source": [
        "##### 3. Will the gained insights help creating a positive business impact?\n",
        "\n",
        "Are there any insights that lead to negative growth? Justify with specific reason.\n"
      ]
    },
    {
      "cell_type": "markdown",
      "metadata": {
        "id": "ey_0qi68phqO"
      },
      "source": [
        "No, we can use any one of the two features to predict future demand, we don't need both.\n"
      ]
    },
    {
      "cell_type": "markdown",
      "metadata": {
        "id": "YJ55k-q6phqO"
      },
      "source": [
        "#### Chart - 9 - Line Plot - Average Rented Bike Count by Hour for each Seasons\n"
      ]
    },
    {
      "cell_type": "code",
      "execution_count": null,
      "metadata": {
        "colab": {
          "base_uri": "https://localhost:8080/",
          "height": 427
        },
        "id": "B2aS4O1ophqO",
        "outputId": "b0012d64-6688-49cc-e0f3-c9e40d80e012"
      },
      "outputs": [],
      "source": [
        "plt.figure(figsize=(12,6))\n",
        "sns.lineplot(x=\"Hour\", y=\"Rented Bike Count\", hue=\"Seasons\", data=df)\n",
        "plt.ylabel(\"Avg Rented Bike Count\")\n",
        "plt.title(\"Rented Bike Count trend by Hour for each Seasons\")"
      ]
    },
    {
      "cell_type": "markdown",
      "metadata": {
        "id": "gCFgpxoyphqP"
      },
      "source": [
        "##### 1. Why did you pick the specific chart?\n"
      ]
    },
    {
      "cell_type": "markdown",
      "metadata": {
        "id": "TVxDimi2phqP"
      },
      "source": [
        "Line charts are a useful tool for visualizing trends over time. It allows us in easy identification of patterns and changes over time.\n",
        "\n",
        "Thus, I have used the line chart to show the average rented bike count for different seasons over different hours of the day.\n"
      ]
    },
    {
      "cell_type": "markdown",
      "metadata": {
        "id": "OVtJsKN_phqQ"
      },
      "source": [
        "##### 2. What is/are the insight(s) found from the chart?\n"
      ]
    },
    {
      "cell_type": "markdown",
      "metadata": {
        "id": "ngGi97qjphqQ"
      },
      "source": [
        "The Rentals Bike demand trend pattern is same for all the seasons only levels are different. Demand level in winter is lowest and highest in Summer\n"
      ]
    },
    {
      "cell_type": "markdown",
      "metadata": {
        "id": "lssrdh5qphqQ"
      },
      "source": [
        "##### 3. Will the gained insights help creating a positive business impact?\n",
        "\n",
        "Are there any insights that lead to negative growth? Justify with specific reason.\n"
      ]
    },
    {
      "cell_type": "markdown",
      "metadata": {
        "id": "tBpY5ekJphqQ"
      },
      "source": [
        "Yes, during the summer months when demand is highest, the company can increase the number of bikes available, hire more staff, and promote the service to attract more customers. Similarly, during the winter months when demand is lowest, the company can reduce its operations and allocate its resources to other areas of the business.\n",
        "\n",
        "And daily pattern is same for all the seasons hence daily strategy (rush hour & non rush hour) is same all over the year.\n"
      ]
    },
    {
      "cell_type": "markdown",
      "metadata": {
        "id": "U2RJ9gkRphqQ"
      },
      "source": [
        "#### Chart - 10 - Rented Bike Demand by Rainfall & Snowfall\n"
      ]
    },
    {
      "cell_type": "code",
      "execution_count": null,
      "metadata": {
        "colab": {
          "base_uri": "https://localhost:8080/",
          "height": 753
        },
        "id": "L-53njCYiicD",
        "outputId": "3f62ce33-ae82-4caf-ca1c-b63a5d29a208"
      },
      "outputs": [],
      "source": [
        "plt.figure(figsize=(12,12))\n",
        "\n",
        "plt.subplot(2,1,1)\n",
        "sns.scatterplot(x='Rainfall(mm)', y='Rented Bike Count', data=df)\n",
        "plt.title(\"Rented Bike Count by Rainfall(mm)\")\n",
        "\n",
        "plt.subplot(2,1,2)\n",
        "sns.scatterplot(x='Snowfall (cm)', y='Rented Bike Count', data=df)\n",
        "plt.title(\"Rented Bike Count by Snowfall (cm)\")"
      ]
    },
    {
      "cell_type": "markdown",
      "metadata": {
        "id": "1M8mcRywphqQ"
      },
      "source": [
        "##### 1. Why did you pick the specific chart?\n"
      ]
    },
    {
      "cell_type": "markdown",
      "metadata": {
        "id": "8agQvks0phqQ"
      },
      "source": [
        "A scatter plot uses dots to represent values for two different numeric variables. The position of each dot on the horizontal and vertical axis indicates values for an individual data point. Scatter plots are used to observe relationships between variables.\n",
        "\n",
        "Thus, I have used the scatter plot to depict the relationship between Rented Bike Count and Rainfall as well as Snowfall.\n"
      ]
    },
    {
      "cell_type": "markdown",
      "metadata": {
        "id": "tgIPom80phqQ"
      },
      "source": [
        "##### 2. What is/are the insight(s) found from the chart?\n"
      ]
    },
    {
      "cell_type": "markdown",
      "metadata": {
        "id": "Qp13pnNzphqQ"
      },
      "source": [
        "Most Rentals Bikes are rented mostly when there is 0 rainfall and snowfall. As Rainfall and snowfall increases demand decreases.\n"
      ]
    },
    {
      "cell_type": "markdown",
      "metadata": {
        "id": "JMzcOPDDphqR"
      },
      "source": [
        "##### 3. Will the gained insights help creating a positive business impact?\n",
        "\n",
        "Are there any insights that lead to negative growth? Justify with specific reason.\n"
      ]
    },
    {
      "cell_type": "markdown",
      "metadata": {
        "id": "R4Ka1PC2phqR"
      },
      "source": [
        "Although we can't control Rainfall or Snowfall but by understanding the demand trend over snowfall and rainfall, the company can adjust its operations to better meet customer needs attractiveness maybe by offer promotions or discounts.\n"
      ]
    },
    {
      "cell_type": "markdown",
      "metadata": {
        "id": "x-EpHcCOp1ci"
      },
      "source": [
        "#### Chart - 11 - Avg Rented Bike Count by Holiday\n"
      ]
    },
    {
      "cell_type": "code",
      "execution_count": null,
      "metadata": {
        "colab": {
          "base_uri": "https://localhost:8080/",
          "height": 427
        },
        "id": "mAQTIvtqp1cj",
        "outputId": "60d8531b-15de-44c5-e10f-19be6554c499"
      },
      "outputs": [],
      "source": [
        "plt.figure(figsize=(7,6))\n",
        "sns.barplot(y='Rented Bike Count', x='Holiday', data=df)\n",
        "plt.title(\"Rented Bike Count by Holiday\")\n",
        "plt.ylabel(\"Avg Rented Bike Count\")"
      ]
    },
    {
      "cell_type": "markdown",
      "metadata": {
        "id": "X_VqEhTip1ck"
      },
      "source": [
        "##### 1. Why did you pick the specific chart?\n"
      ]
    },
    {
      "cell_type": "markdown",
      "metadata": {
        "id": "-vsMzt_np1ck"
      },
      "source": [
        "Bar charts show the frequency counts of values for the different levels of a categorical or nominal variable to get some sense of relative levels. Thus, to show the total number of bookings with respect to holiday, I have used Bar Chart.\n"
      ]
    },
    {
      "cell_type": "markdown",
      "metadata": {
        "id": "8zGJKyg5p1ck"
      },
      "source": [
        "##### 2. What is/are the insight(s) found from the chart?\n"
      ]
    },
    {
      "cell_type": "markdown",
      "metadata": {
        "id": "ZYdMsrqVp1ck"
      },
      "source": [
        "Non holidays have more demand compared to holidays maybe because alot of people uses rentals bike for going to offices/schools on non holidays.\n"
      ]
    },
    {
      "cell_type": "markdown",
      "metadata": {
        "id": "PVzmfK_Ep1ck"
      },
      "source": [
        "##### 3. Will the gained insights help creating a positive business impact?\n",
        "\n",
        "Are there any insights that lead to negative growth? Justify with specific reason.\n"
      ]
    },
    {
      "cell_type": "markdown",
      "metadata": {
        "id": "druuKYZpp1ck"
      },
      "source": [
        "Yes, Companies can start campaigns to promote going out to have fun so that more people rent their bikes.\n"
      ]
    },
    {
      "cell_type": "markdown",
      "metadata": {
        "id": "n3dbpmDWp1ck"
      },
      "source": [
        "#### Chart - 12 - Temperature and Solar Radiation over time\n"
      ]
    },
    {
      "cell_type": "code",
      "execution_count": null,
      "metadata": {
        "colab": {
          "base_uri": "https://localhost:8080/",
          "height": 753
        },
        "id": "as_T_3rTkFIf",
        "outputId": "59fd7589-73d2-486d-9e71-3a569f500c93"
      },
      "outputs": [],
      "source": [
        "plt.figure(figsize=(12, 12))\n",
        "\n",
        "# Plot temperature\n",
        "plt.subplot(2, 1, 1)\n",
        "sns.lineplot(x='Date', y='Temperature(°C)', hue='Year', data=df)\n",
        "plt.ylabel('Temperature(°C)')\n",
        "plt.title(\"Temperature(°C) by Date for each Year\")\n",
        "\n",
        "# Plot humidity\n",
        "plt.subplot(2, 1, 2)\n",
        "sns.lineplot(x='Date', y='Solar Radiation (MJ/m2)', hue='Year', data=df)\n",
        "plt.ylabel('Solar Radiation (MJ/m2)')\n",
        "plt.title(\"Solar Radiation (MJ/m2) by Date for each Year\")"
      ]
    },
    {
      "cell_type": "markdown",
      "metadata": {
        "id": "ylSl6qgtp1ck"
      },
      "source": [
        "##### 1. Why did you pick the specific chart?\n"
      ]
    },
    {
      "cell_type": "markdown",
      "metadata": {
        "id": "m2xqNkiQp1ck"
      },
      "source": [
        "Line charts are a useful tool for visualizing trends over time. It allows us in easy identification of patterns and changes over time.\n"
      ]
    },
    {
      "cell_type": "markdown",
      "metadata": {
        "id": "ZWILFDl5p1ck"
      },
      "source": [
        "##### 2. What is/are the insight(s) found from the chart?\n"
      ]
    },
    {
      "cell_type": "markdown",
      "metadata": {
        "id": "x-lUsV2mp1ck"
      },
      "source": [
        "As expected temperature rises during summer months and lowers in winter months.\n",
        "\n",
        "Similarly solar radiation is more in summer months copared to winter months, also huge fluctuations in solar radiation may be caused due to day-night cycle as there is no sunlight at night time.\n"
      ]
    },
    {
      "cell_type": "markdown",
      "metadata": {
        "id": "M7G43BXep1ck"
      },
      "source": [
        "##### 3. Will the gained insights help creating a positive business impact?\n",
        "\n",
        "Are there any insights that lead to negative growth? Justify with specific reason.\n"
      ]
    },
    {
      "cell_type": "markdown",
      "metadata": {
        "id": "5wwDJXsLp1cl"
      },
      "source": [
        "This may not be much helpful in creating positive business impact as this is natural phenomenon and we can't control it.\n"
      ]
    },
    {
      "cell_type": "markdown",
      "metadata": {
        "id": "Ag9LCva-p1cl"
      },
      "source": [
        "#### Chart - 13 - Avg Rented Bike Count by Wind speed (m/s)\n"
      ]
    },
    {
      "cell_type": "code",
      "execution_count": null,
      "metadata": {
        "colab": {
          "base_uri": "https://localhost:8080/",
          "height": 427
        },
        "id": "EUfxeq9-p1cl",
        "outputId": "2bb16b6f-2462-4e5d-da30-33af3399f10b"
      },
      "outputs": [],
      "source": [
        "plt.figure(figsize=(12,6))\n",
        "sns.lineplot(x='Wind speed (m/s)', y='Rented Bike Count', data=df)\n",
        "plt.ylabel(\"Avg Rented Bike Count\")\n",
        "plt.title(\"Avg Rented Bike Count by Wind speed (m/s)\")"
      ]
    },
    {
      "cell_type": "code",
      "execution_count": null,
      "metadata": {
        "colab": {
          "base_uri": "https://localhost:8080/"
        },
        "id": "F2gBhVrlohOy",
        "outputId": "7e8bba5d-ce64-4f82-c5c9-4b3d00c4ba7c"
      },
      "outputs": [],
      "source": [
        "df['Wind speed (m/s)'].value_counts()"
      ]
    },
    {
      "cell_type": "markdown",
      "metadata": {
        "id": "E6MkPsBcp1cl"
      },
      "source": [
        "##### 1. Why did you pick the specific chart?\n"
      ]
    },
    {
      "cell_type": "markdown",
      "metadata": {
        "id": "V22bRsFWp1cl"
      },
      "source": [
        "Line charts are a useful tool for visualizing trends over time. It allows us in easy identification of patterns and changes over time (in this case over wind speed).\n"
      ]
    },
    {
      "cell_type": "markdown",
      "metadata": {
        "id": "2cELzS2fp1cl"
      },
      "source": [
        "##### 2. What is/are the insight(s) found from the chart?\n"
      ]
    },
    {
      "cell_type": "markdown",
      "metadata": {
        "id": "ozQPc2_Ip1cl"
      },
      "source": [
        "Initially wind speed increases, the demand increases since flowing air creates better weather and less heat, although too high wind speed created storm and all so too high speed leads to decreases in demand.\n"
      ]
    },
    {
      "cell_type": "markdown",
      "metadata": {
        "id": "3MPXvC8up1cl"
      },
      "source": [
        "##### 3. Will the gained insights help creating a positive business impact?\n",
        "\n",
        "Are there any insights that lead to negative growth? Justify with specific reason.\n"
      ]
    },
    {
      "cell_type": "markdown",
      "metadata": {
        "id": "GL8l1tdLp1cl"
      },
      "source": [
        "This may not be much helpful in creating positive business impact as this is natural phenomenon and we can't control it.\n"
      ]
    },
    {
      "cell_type": "markdown",
      "metadata": {
        "id": "NC_X3p0fY2L0"
      },
      "source": [
        "#### Chart - 14 - Avg Rented Bike Count by Humidity (%)\n"
      ]
    },
    {
      "cell_type": "code",
      "execution_count": null,
      "metadata": {
        "colab": {
          "base_uri": "https://localhost:8080/",
          "height": 427
        },
        "id": "xyC9zolEZNRQ",
        "outputId": "b4b5965a-105f-489d-c203-d7f135aeb498"
      },
      "outputs": [],
      "source": [
        "plt.figure(figsize=(12,6))\n",
        "sns.lineplot(x='Humidity(%)', y='Rented Bike Count', data=df)\n",
        "plt.ylabel(\"Avg Rented Bike Count\")\n",
        "plt.title(\"Avg Rented Bike Count by Humidity(%)\")"
      ]
    },
    {
      "cell_type": "code",
      "execution_count": null,
      "metadata": {
        "colab": {
          "base_uri": "https://localhost:8080/"
        },
        "id": "NWkxY-8Upcw-",
        "outputId": "18a1b948-ee48-4ee5-8b73-8521f8eb79a1"
      },
      "outputs": [],
      "source": [
        "# Unique value counts of Humidity\n",
        "df['Humidity(%)'].value_counts()"
      ]
    },
    {
      "cell_type": "markdown",
      "metadata": {
        "id": "UV0SzAkaZNRQ"
      },
      "source": [
        "##### 1. Why did you pick the specific chart?\n"
      ]
    },
    {
      "cell_type": "markdown",
      "metadata": {
        "id": "DVPuT8LYZNRQ"
      },
      "source": [
        "Line charts are a useful tool for visualizing trends over time. It allows us in easy identification of patterns and changes over time (in this case over humidity).\n"
      ]
    },
    {
      "cell_type": "markdown",
      "metadata": {
        "id": "YPEH6qLeZNRQ"
      },
      "source": [
        "##### 2. What is/are the insight(s) found from the chart?\n"
      ]
    },
    {
      "cell_type": "markdown",
      "metadata": {
        "id": "bfSqtnDqZNRR"
      },
      "source": [
        "After certain level as humidity increases demand decreases as too mush humidity may generally caused due to rain or snowfall as we already saw they leads to decrease in demand.\n"
      ]
    },
    {
      "cell_type": "markdown",
      "metadata": {
        "id": "B6reb-yPoxtr"
      },
      "source": [
        "##### 3. Will the gained insights help creating a positive business impact?\n",
        "\n",
        "Are there any insights that lead to negative growth? Justify with specific reason.\n"
      ]
    },
    {
      "cell_type": "markdown",
      "metadata": {
        "id": "LyyiJg5EozU-"
      },
      "source": [
        "This may not be much helpful in creating positive business impact as this is natural phenomenon and we can't control it.\n"
      ]
    },
    {
      "cell_type": "markdown",
      "metadata": {
        "id": "q29F0dvdveiT"
      },
      "source": [
        "#### Chart - 15 - Rented Bike Count trend by Visibility\n"
      ]
    },
    {
      "cell_type": "code",
      "execution_count": null,
      "metadata": {
        "colab": {
          "base_uri": "https://localhost:8080/",
          "height": 427
        },
        "id": "o58-TEIhveiU",
        "outputId": "e14fd62e-cb56-43c3-9395-3e8acb98402f"
      },
      "outputs": [],
      "source": [
        "d = df.copy()\n",
        "# Create bins of width 5 for the \"Visibility (10m)\" variable\n",
        "bins = range(0, 2005, 5)\n",
        "\n",
        "# Add a new column to the dataframe containing the bin labels\n",
        "d['Visibility (10m) bin'] = pd.cut(d['Visibility (10m)'], bins=bins, include_lowest=True)\n",
        "# Replacing bins with their mid values for better visualization axis labels\n",
        "d['Visibility (10m) bin'] = d['Visibility (10m) bin'].apply(lambda x: x.mid)\n",
        "\n",
        "plt.figure(figsize=(12,6))\n",
        "sns.lineplot(x='Visibility (10m) bin', y='Rented Bike Count', data=d)\n",
        "plt.xlabel('Visibility (10m)')\n",
        "plt.ylabel('Avg Rented Bike Count')\n",
        "plt.title(\"Rented Bike Count by Visibility (10m)\")"
      ]
    },
    {
      "cell_type": "markdown",
      "metadata": {
        "id": "EXh0U9oCveiU"
      },
      "source": [
        "##### 1. Why did you pick the specific chart?\n"
      ]
    },
    {
      "cell_type": "markdown",
      "metadata": {
        "id": "eMmPjTByveiU"
      },
      "source": [
        "Line charts are a useful tool for visualizing trends over time. It allows us in easy identification of patterns and changes over time (in this case over visibility).\n"
      ]
    },
    {
      "cell_type": "markdown",
      "metadata": {
        "id": "22aHeOlLveiV"
      },
      "source": [
        "##### 2. What is/are the insight(s) found from the chart?\n"
      ]
    },
    {
      "cell_type": "markdown",
      "metadata": {
        "id": "uPQ8RGwHveiV"
      },
      "source": [
        "As visibility increases rented bike demand increases which is obvious as people like to go out on clear day not on foggy day. Although after certain level no matter visibility increases demand remains consistent.\n"
      ]
    },
    {
      "cell_type": "markdown",
      "metadata": {
        "id": "UJQEmlfgpqu4"
      },
      "source": [
        "##### 3. Will the gained insights help creating a positive business impact?\n",
        "\n",
        "Are there any insights that lead to negative growth? Justify with specific reason.\n"
      ]
    },
    {
      "cell_type": "markdown",
      "metadata": {
        "id": "Uii1HWsPpsB4"
      },
      "source": [
        "Yes, although this is a natural process and we cannot control visibility but it clearly shows how it affects the demand, so what companies can do is that they can install lights (if not already done) on the bikes which may help little bit increase in visibility and those who is in need during these hours can rent it.\n"
      ]
    },
    {
      "cell_type": "markdown",
      "metadata": {
        "id": "orHx7DAUym8S"
      },
      "source": [
        "#### Chart - 16 - Column wise Histogram & Box Plot Univariate Analysis\n"
      ]
    },
    {
      "cell_type": "code",
      "execution_count": null,
      "metadata": {
        "colab": {
          "base_uri": "https://localhost:8080/",
          "height": 1000
        },
        "id": "tnyMVHEHzQxL",
        "outputId": "6e30cd79-0184-4d23-f3e5-62eeff03cf9d"
      },
      "outputs": [],
      "source": [
        "# Numeric Columns\n",
        "num_cols = ['Temperature(°C)', 'Humidity(%)',\n",
        "        'Wind speed (m/s)', 'Visibility (10m)', 'Dew point temperature(°C)',\n",
        "        'Solar Radiation (MJ/m2)', 'Rainfall(mm)',\t'Snowfall (cm)']\n",
        "\n",
        "n = len(num_cols)\n",
        "plt.figure(figsize=(16, 48))\n",
        "\n",
        "i = 1\n",
        "for col in num_cols:\n",
        "  plt.subplot(n, 2, i)\n",
        "  sns.histplot(x=df[col], kde=True)\n",
        "  plt.subplot(n, 2, i+1)\n",
        "  sns.boxplot(x=df[col])\n",
        "  i += 2"
      ]
    },
    {
      "cell_type": "markdown",
      "metadata": {
        "id": "siBIoKkky4dN"
      },
      "source": [
        "##### 1. Why did you pick the specific chart?\n"
      ]
    },
    {
      "cell_type": "markdown",
      "metadata": {
        "id": "VAa0YRh5y-CR"
      },
      "source": [
        "The histogram is a popular graphing tool. It is used to summarize discrete or continuous data that are measured on an interval scale. It is often used to illustrate the major features of the distribution of the data in a convenient form. It is also useful when dealing with large data sets (greater than 100 observations). It can help detect any unusual observations (outliers) or any gaps in the data.\n",
        "\n",
        "Thus, I used the histogram plot to analysis the distributions of different continuous features.\n",
        "\n",
        "Box plots are used to show distributions of numeric data values, especially when you want to compare them between multiple groups. They are built to provide high-level information at a glance, offering general information about a group of data's symmetry, skew, variance, and outliers.\n",
        "\n",
        "Thus, I used box plot to analyse the outliers and interquartile range including mean, median, maximum and minimum value of different continuous features.\n"
      ]
    },
    {
      "cell_type": "markdown",
      "metadata": {
        "id": "Ck7BAGk1zAmw"
      },
      "source": [
        "##### 2. What is/are the insight(s) found from the chart?\n"
      ]
    },
    {
      "cell_type": "markdown",
      "metadata": {
        "id": "IyDIaxppzBbq"
      },
      "source": [
        "Temperature, Dew Point Temperature and Humidity are approx normally distributed and rest are not.\n"
      ]
    },
    {
      "cell_type": "markdown",
      "metadata": {
        "id": "ozQXzhbprAXi"
      },
      "source": [
        "##### 3. Will the gained insights help creating a positive business impact?\n",
        "\n",
        "Are there any insights that lead to negative growth? Justify with specific reason.\n"
      ]
    },
    {
      "cell_type": "markdown",
      "metadata": {
        "id": "-cyv1ol1rBpf"
      },
      "source": [
        "Yes, we can use this information to transform certain features so that we can train more robust and ccurate model wihch will help in demand prediction.\n"
      ]
    },
    {
      "cell_type": "markdown",
      "metadata": {
        "id": "g-ATYxFrGrvw"
      },
      "source": [
        "## **_5. Hypothesis Testing_**\n"
      ]
    },
    {
      "cell_type": "markdown",
      "metadata": {
        "id": "Yfr_Vlr8HBkt"
      },
      "source": [
        "### Based on your chart experiments, define three hypothetical statements from the dataset. In the next three questions, perform hypothesis testing to obtain final conclusion about the statements through your code and statistical testing.\n"
      ]
    },
    {
      "cell_type": "markdown",
      "metadata": {
        "id": "-7MS06SUHkB-"
      },
      "source": [
        "1.  Rented Bike Demand in **hot weather** is higher compared to demand in **cold weather**.\n",
        "2.  Rented Bike Demand during **rush hour** (_7-9AM & 5-7PM_) and **non-rush hour** are different.\n",
        "3.  Average Rented Bike Demand is different in different seasons.\n"
      ]
    },
    {
      "cell_type": "markdown",
      "metadata": {
        "id": "8yEUt7NnHlrM"
      },
      "source": [
        "### Hypothetical Statement - 1\n"
      ]
    },
    {
      "cell_type": "markdown",
      "metadata": {
        "id": "GZXli1ejKSsM"
      },
      "source": [
        "Rented Bike Demand in **hot weather** is higher compared to demand in **cold weather**.\n"
      ]
    },
    {
      "cell_type": "markdown",
      "metadata": {
        "id": "tEA2Xm5dHt1r"
      },
      "source": [
        "#### 1. State Your research hypothesis as a null hypothesis and alternate hypothesis.\n"
      ]
    },
    {
      "cell_type": "markdown",
      "metadata": {
        "id": "HI9ZP0laH0D-"
      },
      "source": [
        "Null Hypothesis: $H_o : μ_{cold} = μ_{hot}$\n",
        "\n",
        "Alternate Hypothesis : $H_1 : μ_{cold} \\neq μ_{hot}$\n",
        "\n",
        "Test Type: Two-sample t-test\n"
      ]
    },
    {
      "cell_type": "markdown",
      "metadata": {
        "id": "I79__PHVH19G"
      },
      "source": [
        "#### 2. Perform an appropriate statistical test.\n"
      ]
    },
    {
      "cell_type": "code",
      "execution_count": 44,
      "metadata": {
        "id": "nFETaQe_WGfk"
      },
      "outputs": [],
      "source": [
        "# Split the data into the 'hot' and 'cold' temperature groups\n",
        "hot_temps = df[df['Temperature(°C)'] >= 20]['Rented Bike Count']\n",
        "cold_temps = df[df['Temperature(°C)'] < 20]['Rented Bike Count']"
      ]
    },
    {
      "cell_type": "code",
      "execution_count": null,
      "metadata": {
        "colab": {
          "base_uri": "https://localhost:8080/"
        },
        "id": "pt7RrcZ0WIBL",
        "outputId": "d2b01fd5-0c8d-4feb-ada7-834807fb3de1"
      },
      "outputs": [],
      "source": [
        "print(\"Cold temperature Bike Demand Variance: \", np.var(cold_temps))\n",
        "print(\"Hot temperature Bike Demand Variance: \", np.var(hot_temps))"
      ]
    },
    {
      "cell_type": "code",
      "execution_count": null,
      "metadata": {
        "colab": {
          "base_uri": "https://localhost:8080/"
        },
        "id": "hg5P0LSnAySw",
        "outputId": "c5239515-1d5d-4092-967a-c2e8147d1670"
      },
      "outputs": [],
      "source": [
        "# Sample sizes for different temperature groups\n",
        "print(\"Hot Temp sample size:\", hot_temps.shape[0])\n",
        "print(\"Cold Temp sample size:\", cold_temps.shape[0])"
      ]
    },
    {
      "cell_type": "code",
      "execution_count": null,
      "metadata": {
        "colab": {
          "base_uri": "https://localhost:8080/"
        },
        "id": "iXTGC2rqYnds",
        "outputId": "89ed3dcc-e84a-4cb8-c7e1-05a74517bc0b"
      },
      "outputs": [],
      "source": [
        "# Perform the t-test\n",
        "t_stat, p_val = scipy.stats.ttest_ind(hot_temps, cold_temps, equal_var=False)\n",
        "\n",
        "if p_val < 0.05:\n",
        "    print(f\"Since p-value ({p_val}) is less than 0.05, we reject null hypothesis.\\nHence, There is a significant difference in mean bike rentals between the 'hot' and 'cold' temperature groups.\")\n",
        "else:\n",
        "  print(f\"Since p-value ({p_val}) is greater than 0.05, we fail to reject null hypothesis.\\nHence, There is no significant difference in mean bike rentals between the 'hot' and 'cold' temperature groups.\")"
      ]
    },
    {
      "cell_type": "markdown",
      "metadata": {
        "id": "Ou-I18pAyIpj"
      },
      "source": [
        "##### Which statistical test have you done to obtain P-Value?\n"
      ]
    },
    {
      "cell_type": "markdown",
      "metadata": {
        "id": "T3TM3v7r3iL0"
      },
      "source": [
        "I have used Two sample T-test as the statistical testing to obtain P-Value and found the result that Null hypothesis has been rejected and Mean Rented Bike counts different in hot temperatures and cold temperaures.\n"
      ]
    },
    {
      "cell_type": "markdown",
      "metadata": {
        "id": "fF3858GYyt-u"
      },
      "source": [
        "##### Why did you choose the specific statistical test?\n"
      ]
    },
    {
      "cell_type": "markdown",
      "metadata": {
        "id": "HO4K0gP5y3B4"
      },
      "source": [
        "The two sample t-test is used to determine if there is a significant difference between the means of two groups, making it an appropriate test for comparing the mean number of _Rented Bike Count_ between the _hot_ and _cold_ temperature groups.\n",
        "\n",
        "Also We know from previous charts that **Rented Bike Count** is **right skewed** with **large sample sizes** (i.e., $n_{hot}=2928$ & $n_{cold}=5832$) and we **don't know $\\sigma_{p}$**.\n"
      ]
    },
    {
      "cell_type": "markdown",
      "metadata": {
        "id": "4_0_7-oCpUZd"
      },
      "source": [
        "### Hypothetical Statement - 2\n"
      ]
    },
    {
      "cell_type": "markdown",
      "metadata": {
        "id": "2upjkhDwLWiA"
      },
      "source": [
        "Rented Bike Demand during **rush hour** (_7-9AM & 5-7PM_) is higher compared to **non-rush hour**.\n"
      ]
    },
    {
      "cell_type": "markdown",
      "metadata": {
        "id": "hwyV_J3ipUZe"
      },
      "source": [
        "#### 1. State Your research hypothesis as a null hypothesis and alternate hypothesis.\n"
      ]
    },
    {
      "cell_type": "markdown",
      "metadata": {
        "id": "FnpLGJ-4pUZe"
      },
      "source": [
        "Null Hypothesis: $H_o : μ_{rush} = μ_{non-rush}$\n",
        "\n",
        "Alternate Hypothesis : $H_1 : μ_{rush} \\neq μ_{non-rush}$\n",
        "\n",
        "Test Type: Two-sample t-test\n"
      ]
    },
    {
      "cell_type": "markdown",
      "metadata": {
        "id": "3yB-zSqbpUZe"
      },
      "source": [
        "#### 2. Perform an appropriate statistical test.\n"
      ]
    },
    {
      "cell_type": "code",
      "execution_count": 48,
      "metadata": {
        "id": "94tcyGaJUgEC"
      },
      "outputs": [],
      "source": [
        "# Create subsets of the data based on hour\n",
        "rush_hour = df[(df['Hour'] >= 7) & (df['Hour'] <= 9) | (df['Hour'] >= 17) & (df['Hour'] <= 19)]['Rented Bike Count']\n",
        "non_rush_hour = df[~((df['Hour'] >= 7) & (df['Hour'] <= 9) | (df['Hour'] >= 17) & (df['Hour'] <= 19))]['Rented Bike Count']"
      ]
    },
    {
      "cell_type": "code",
      "execution_count": null,
      "metadata": {
        "colab": {
          "base_uri": "https://localhost:8080/"
        },
        "id": "-g4jnhGNUhAI",
        "outputId": "4899b71c-4ca5-4a76-a593-c302a6e87b83"
      },
      "outputs": [],
      "source": [
        "print(\"Rush Hour Bike Demand Variance: \", np.var(rush_hour))\n",
        "print(\"Non-Rush Hour Bike Demand Variance: \", np.var(non_rush_hour))"
      ]
    },
    {
      "cell_type": "code",
      "execution_count": null,
      "metadata": {
        "colab": {
          "base_uri": "https://localhost:8080/"
        },
        "id": "UeZqdn9uQoYk",
        "outputId": "ded29aa6-ce50-46de-9831-f9b65d916c12"
      },
      "outputs": [],
      "source": [
        "# Sample sizes for different hours\n",
        "print(\"Rush Hour sample size:\", rush_hour.shape[0])\n",
        "print(\"Non-Rush Hour sample size:\", non_rush_hour.shape[0])"
      ]
    },
    {
      "cell_type": "code",
      "execution_count": null,
      "metadata": {
        "colab": {
          "base_uri": "https://localhost:8080/"
        },
        "id": "sWxdNTXNpUZe",
        "outputId": "08ab207b-cf05-4d74-d16e-a43d7339626f"
      },
      "outputs": [],
      "source": [
        "# Conduct a two-sample t-test to compare the mean bike rental demand during rush hour with the mean bike rental demand during non-rush hour times\n",
        "t_stat, p_val = scipy.stats.ttest_ind(rush_hour, non_rush_hour, equal_var=False)\n",
        "\n",
        "# Print the t-test results\n",
        "# print('t-statistic:', t_stat)\n",
        "# print('p-value:', p_val)\n",
        "\n",
        "if p_val < 0.05:\n",
        "    print(f\"Since p-value ({p_val}) is less than 0.05, we reject null hypothesis.\\nHence, There is a significant difference in mean bike rentals between the 'rush hour' and 'non-rush hour' times of day.\")\n",
        "else:\n",
        "  print(f\"Since p-value ({p_val}) is greater than 0.05, we fail to reject null hypothesis.\\nHence, There is no significant difference in mean bike rentals between the 'rush hour' and 'non-rush hour' times of day.\")"
      ]
    },
    {
      "cell_type": "markdown",
      "metadata": {
        "id": "dEUvejAfpUZe"
      },
      "source": [
        "##### Which statistical test have you done to obtain P-Value?\n"
      ]
    },
    {
      "cell_type": "markdown",
      "metadata": {
        "id": "oLDrPz7HpUZf"
      },
      "source": [
        "I have used Two sample T-test as the statistical testing to obtain P-Value and found the result that Null hypothesis has been rejected and Mean Rented Bike counts different in rush hours and non-rush hours.\n"
      ]
    },
    {
      "cell_type": "markdown",
      "metadata": {
        "id": "Fd15vwWVpUZf"
      },
      "source": [
        "##### Why did you choose the specific statistical test?\n"
      ]
    },
    {
      "cell_type": "markdown",
      "metadata": {
        "id": "4xOGYyiBpUZf"
      },
      "source": [
        "The two sample t-test is used to determine if there is a significant difference between the means of two groups, making it an appropriate test for comparing the mean number of Rented Bike Count between the rush hours and non-rush hours.\n",
        "\n",
        "Also We know from previous charts that **Rented Bike Count** is **right skewed** with **large sample sizes** (i.e., $n_{rush}=2190$ & $n_{non-rush}=6570$) and we **don't know $\\sigma_{p}$**.\n"
      ]
    },
    {
      "cell_type": "markdown",
      "metadata": {
        "id": "bn_IUdTipZyH"
      },
      "source": [
        "### Hypothetical Statement - 3\n"
      ]
    },
    {
      "cell_type": "markdown",
      "metadata": {
        "id": "QL8XCwt0-UBA"
      },
      "source": [
        "Rented Bike Demand is different in different seasons with highest in summer and lowest in winter.\n"
      ]
    },
    {
      "cell_type": "markdown",
      "metadata": {
        "id": "49K5P_iCpZyH"
      },
      "source": [
        "#### 1. State Your research hypothesis as a null hypothesis and alternate hypothesis.\n"
      ]
    },
    {
      "cell_type": "markdown",
      "metadata": {
        "id": "7gWI5rT9pZyH"
      },
      "source": [
        "Null Hypothesis: $H_o :$ **No significant difference** between rented bike counts for different seasons.\n",
        "\n",
        "Alternate Hypothesis : $H_1 :$ **Significant difference** between rented bike counts for different seasons.\n",
        "\n",
        "Test Type: One-way ANOVA test\n"
      ]
    },
    {
      "cell_type": "markdown",
      "metadata": {
        "id": "Nff-vKELpZyI"
      },
      "source": [
        "#### 2. Perform an appropriate statistical test.\n"
      ]
    },
    {
      "cell_type": "code",
      "execution_count": null,
      "metadata": {
        "colab": {
          "base_uri": "https://localhost:8080/"
        },
        "id": "hOT28yslDZAO",
        "outputId": "6ab5b9e5-bbe2-4f4b-a00b-9c5f49f87490"
      },
      "outputs": [],
      "source": [
        "# Sample sizes for different seasons\n",
        "df.groupby('Seasons')['Rented Bike Count'].count()"
      ]
    },
    {
      "cell_type": "code",
      "execution_count": null,
      "metadata": {
        "colab": {
          "base_uri": "https://localhost:8080/"
        },
        "id": "86Wjgvo6B4GZ",
        "outputId": "034b6bbc-41ab-4545-bbb2-2104964a3afe"
      },
      "outputs": [],
      "source": [
        "# Group the data by season and calculate the mean number of bike rentals for each season\n",
        "season_means = df.groupby('Seasons')['Rented Bike Count'].mean()\n",
        "\n",
        "# Conduct the ANOVA test\n",
        "f_stat, p_value = scipy.stats.f_oneway(df.loc[df['Seasons']=='Spring', 'Rented Bike Count'],\n",
        "                                  df.loc[df['Seasons']=='Summer', 'Rented Bike Count'],\n",
        "                                  df.loc[df['Seasons']=='Autumn', 'Rented Bike Count'],\n",
        "                                  df.loc[df['Seasons']=='Winter', 'Rented Bike Count'])\n",
        "\n",
        "# Print the results\n",
        "print('F-statistic:', f_stat)\n",
        "print('p-value:', p_val)\n",
        "print()\n",
        "\n",
        "# Conduct Tukey's HSD test for detailed difference b/w each groups\n",
        "tukey_results = pairwise_tukeyhsd(df['Rented Bike Count'], df['Seasons'])\n",
        "\n",
        "# Print the Tukey HSD test results\n",
        "print(tukey_results)\n"
      ]
    },
    {
      "cell_type": "markdown",
      "metadata": {
        "id": "kLW572S8pZyI"
      },
      "source": [
        "##### Which statistical test have you done to obtain P-Value?\n"
      ]
    },
    {
      "cell_type": "markdown",
      "metadata": {
        "id": "ytWJ8v15pZyI"
      },
      "source": [
        "I have used One-way ANOVA test as the statistical testing to obtain P-Value and found the result that Null hypothesis has been rejected and Mean Rented Bike counts are significantly different in different seasons.\n"
      ]
    },
    {
      "cell_type": "markdown",
      "metadata": {
        "id": "dWbDXHzopZyI"
      },
      "source": [
        "##### Why did you choose the specific statistical test?\n"
      ]
    },
    {
      "cell_type": "markdown",
      "metadata": {
        "id": "M99G98V6pZyI"
      },
      "source": [
        "The one-way ANOVA test is used to determine if there is a significant difference between the means of **more than two groups**, making it an appropriate test for comparing the mean number of Rented Bike Count between different seasons.\n",
        "\n",
        "Also We know from previous charts that **Rented Bike Count** is **right skewed** with **large sample sizes** (i.e., $n_{autumn}=2184$, $n_{spring}=2208$, $n_{summer}=2208$ , $n_{winter}=2160$).\n"
      ]
    },
    {
      "cell_type": "markdown",
      "metadata": {
        "id": "yLjJCtPM0KBk"
      },
      "source": [
        "## **_6. Feature Engineering & Data Pre-processing_**\n"
      ]
    },
    {
      "cell_type": "markdown",
      "metadata": {
        "id": "xiyOF9F70UgQ"
      },
      "source": [
        "### 1. Handling Missing Values\n"
      ]
    },
    {
      "cell_type": "code",
      "execution_count": null,
      "metadata": {
        "colab": {
          "base_uri": "https://localhost:8080/"
        },
        "id": "iRsAHk1K0fpS",
        "outputId": "874b1e2e-95c2-499d-f1fe-d01a0086a7a7"
      },
      "outputs": [],
      "source": [
        "# Checking missing values \n",
        "df.isna().sum().sum()"
      ]
    },
    {
      "cell_type": "markdown",
      "metadata": {
        "id": "7wuGOrhz0itI"
      },
      "source": [
        "#### What all missing value imputation techniques have you used and why did you use those techniques?\n"
      ]
    },
    {
      "cell_type": "markdown",
      "metadata": {
        "id": "1ixusLtI0pqI"
      },
      "source": [
        "There are no missing values to handle in the given dataset.\n"
      ]
    },
    {
      "cell_type": "markdown",
      "metadata": {
        "id": "id1riN9m0vUs"
      },
      "source": [
        "### 2. Handling Outliers\n"
      ]
    },
    {
      "cell_type": "code",
      "execution_count": 55,
      "metadata": {
        "id": "gpSXIEzS4Emv"
      },
      "outputs": [],
      "source": [
        "# From chart 16 above, we know following columns have outliers\n",
        "outlier_cols = ['Wind speed (m/s)', 'Solar Radiation (MJ/m2)', 'Rainfall(mm)', 'Snowfall (cm)']"
      ]
    },
    {
      "cell_type": "code",
      "execution_count": 56,
      "metadata": {
        "id": "lcXFlHVN772u"
      },
      "outputs": [],
      "source": [
        "# Upper & Lower Boundary using IQR method\n",
        "def getOutlierBoundaryIQR(df, feature):\n",
        "  IQR= df[feature].quantile(0.75)- df[feature].quantile(0.25)\n",
        "  lower_bridge =df[feature].quantile(0.25)-3*IQR\n",
        "  upper_bridge =df[feature].quantile(0.75)+3*IQR\n",
        "  return upper_bridge,lower_bridge"
      ]
    },
    {
      "cell_type": "code",
      "execution_count": null,
      "metadata": {
        "colab": {
          "base_uri": "https://localhost:8080/"
        },
        "id": "Y2TqseQVFqbx",
        "outputId": "fc742c72-eb87-4ec9-9a2d-7819cbf90f3d"
      },
      "outputs": [],
      "source": [
        "# Unique values and their counts for Rainfall(mm)\n",
        "df['Rainfall(mm)'].value_counts()"
      ]
    },
    {
      "cell_type": "markdown",
      "metadata": {
        "id": "xG0tn500F4gY"
      },
      "source": [
        "We see that most of rows have value 0.0 and very few fave non-zero value. Which is understandable because we don't see rain everyday. Given the nature of data, it is unlikely that the non-zero values represent outliers. However value that is significantly higher can be treated as outlier.\n"
      ]
    },
    {
      "cell_type": "code",
      "execution_count": null,
      "metadata": {
        "colab": {
          "base_uri": "https://localhost:8080/"
        },
        "id": "YbWgvhicF1fL",
        "outputId": "423ef5f8-e70a-4684-98f8-dd3ca5f50b52"
      },
      "outputs": [],
      "source": [
        "# Upper & Lower boundary for Rainfall(mm) using IQR method\n",
        "ub, lb = getOutlierBoundaryIQR(df, 'Rainfall(mm)')\n",
        "print(f\"Boundary: [{ub}, {lb}]\")\n",
        "print(\"99th Percentile:\", df['Rainfall(mm)'].quantile(0.99))"
      ]
    },
    {
      "cell_type": "markdown",
      "metadata": {
        "id": "XuP_FM2sHH-m"
      },
      "source": [
        "We see both boundries from IQR method are zero because of **majority of data being zero** and is **not normally distributed**. So we'll apply **99th quantile** for capping outlier.\n"
      ]
    },
    {
      "cell_type": "code",
      "execution_count": 59,
      "metadata": {
        "id": "hHuLiG5UIM82"
      },
      "outputs": [],
      "source": [
        "# Applying outlier capping using 99th percentile\n",
        "rainfall_99th = df['Rainfall(mm)'].quantile(0.99)\n",
        "df['Rainfall(mm)_capped'] = df['Rainfall(mm)'].clip(upper=rainfall_99th)"
      ]
    },
    {
      "cell_type": "code",
      "execution_count": null,
      "metadata": {
        "colab": {
          "base_uri": "https://localhost:8080/"
        },
        "id": "Z1X2NkGiKIE0",
        "outputId": "09e4991c-541f-4107-b3fb-d0c91913b863"
      },
      "outputs": [],
      "source": [
        "# Upper & Lower boundary using IQR method\n",
        "ub, lb = getOutlierBoundaryIQR(df, 'Snowfall (cm)')\n",
        "print(f\"Boundary: [{ub}, {lb}]\")\n",
        "print(\"99th Percentile:\", df['Snowfall (cm)'].quantile(0.99))"
      ]
    },
    {
      "cell_type": "markdown",
      "metadata": {
        "id": "LW3bC4-5KS_h"
      },
      "source": [
        "Similarly case for **Snowfall (cm)** as in **Rainfall(mm)**\n"
      ]
    },
    {
      "cell_type": "code",
      "execution_count": 61,
      "metadata": {
        "id": "p9u1sk3TFqWP"
      },
      "outputs": [],
      "source": [
        "# Applying outlier capping using 99th percentile\n",
        "snowfall_99th = df['Snowfall (cm)'].quantile(0.99)\n",
        "df['Snowfall(cm)_capped'] = df['Snowfall (cm)'].clip(upper=snowfall_99th)"
      ]
    },
    {
      "cell_type": "code",
      "execution_count": null,
      "metadata": {
        "colab": {
          "base_uri": "https://localhost:8080/"
        },
        "id": "hiOACHhudR8x",
        "outputId": "79572ebe-08a7-48f6-c439-28753c9654d8"
      },
      "outputs": [],
      "source": [
        "# Upper & Lower boundary using IQR method for Wind Speed (m/s)\n",
        "ub, lb = getOutlierBoundaryIQR(df, 'Wind speed (m/s)')\n",
        "print(f\"Boundary: [{ub}, {lb}]\")"
      ]
    },
    {
      "cell_type": "code",
      "execution_count": 63,
      "metadata": {
        "id": "cnUJfeYmNH0O"
      },
      "outputs": [],
      "source": [
        "# Applying outlier capping using IQR outer fence\n",
        "ub, lb = getOutlierBoundaryIQR(df, 'Wind speed (m/s)')\n",
        "df['Wind speed (m/s)_capped'] = df['Wind speed (m/s)'].clip(lower=lb, upper=ub)"
      ]
    },
    {
      "cell_type": "code",
      "execution_count": null,
      "metadata": {
        "colab": {
          "base_uri": "https://localhost:8080/"
        },
        "id": "8bht8QJbdjI5",
        "outputId": "8cc9d3fe-cbaf-4adc-8921-3f55d7b4e51d"
      },
      "outputs": [],
      "source": [
        "# Upper & Lower boundary using IQR method for Solar Radiation (MJ/m2)\n",
        "ub, lb = getOutlierBoundaryIQR(df, 'Solar Radiation (MJ/m2)')\n",
        "print(f\"Boundary: [{ub}, {lb}]\")"
      ]
    },
    {
      "cell_type": "code",
      "execution_count": 65,
      "metadata": {
        "id": "oNINrdkwUvh0"
      },
      "outputs": [],
      "source": [
        "# Applying outlier capping using IQR outer fence\n",
        "ub, lb = getOutlierBoundaryIQR(df, 'Solar Radiation (MJ/m2)')\n",
        "df['Solar Radiation (MJ/m2)_capped'] = df['Solar Radiation (MJ/m2)'].clip(lower=lb, upper=ub)"
      ]
    },
    {
      "cell_type": "markdown",
      "metadata": {
        "id": "578E2V7j08f6"
      },
      "source": [
        "##### What all outlier treatment techniques have you used and why did you use those techniques?\n"
      ]
    },
    {
      "cell_type": "markdown",
      "metadata": {
        "id": "uGZz5OrT1HH-"
      },
      "source": [
        "Four columns needed outlier treatments **Wind speed (m/s)**, **Solar Radiation (MJ/m2)**, **Rainfall(mm)** and **Snowfall (cm)**.\n",
        "\n",
        "Among them columns **Rainfall(mm)** and **Snowfall (cm)** had most of its values 0, which is expected as rain or snow happens occsionaly, also people generally avoid going out when its raining or snowing. Hence few non-zero values may no necessarely represents outliers but too high value may be consideres as outlier. Also it is not normally distributed so I used **99th percentile** to cap the outliers in these two columns.\n",
        "\n",
        "Rest two features **Wind speed (m/s)**, **Solar Radiation (MJ/m2)** was skewed hence used outer fence IQR method for capping outliers.\n",
        "\n",
        "> 1.  Lower outer fence: Q1 – 3\\*IQR\n",
        "> 2.  Upper outer fence: Q3 + 3\\*IQR\n"
      ]
    },
    {
      "cell_type": "markdown",
      "metadata": {
        "id": "89xtkJwZ18nB"
      },
      "source": [
        "### 3. Categorical Encoding\n"
      ]
    },
    {
      "cell_type": "code",
      "execution_count": null,
      "metadata": {
        "colab": {
          "base_uri": "https://localhost:8080/"
        },
        "id": "gAknF7TMqwb3",
        "outputId": "f8a1dcf3-5915-4314-eddd-9b0f52177b4a"
      },
      "outputs": [],
      "source": [
        "df.info()"
      ]
    },
    {
      "cell_type": "code",
      "execution_count": null,
      "metadata": {
        "colab": {
          "base_uri": "https://localhost:8080/",
          "height": 245
        },
        "id": "pISpWFHY_u01",
        "outputId": "c00899bd-5dc3-4985-91ef-f53b8bc15a95"
      },
      "outputs": [],
      "source": [
        "# Below categorical columns needs encoding using one hot encoding\n",
        "d = df[['Seasons', 'Holiday','Functioning Day', 'Month', 'weekday']]\n",
        "encoded_df = pd.get_dummies(d, drop_first=True)\n",
        "df = pd.concat([df, encoded_df], axis=1)\n",
        "df.head(2)"
      ]
    },
    {
      "cell_type": "markdown",
      "metadata": {
        "id": "67NQN5KX2AMe"
      },
      "source": [
        "#### What all categorical encoding techniques have you used & why did you use those techniques?\n"
      ]
    },
    {
      "cell_type": "markdown",
      "metadata": {
        "id": "UDaue5h32n_G"
      },
      "source": [
        "I've used One Hot Encoding for **Seasons**, **Holiday**, **Functioning Day**, **Month**, **weekday** because the represents categorical values with no order also number of categories is not too high.\n",
        "\n",
        "On the other hand, the **Hour** column is an ordinal categorical variable with 24 categories (one for each hour of the day). Since there is a natural order to these categories, label encoding would be more appropriate than one hot encoding. It was already in the format what Label Encoder will transform it to so left it as it is.\n"
      ]
    },
    {
      "cell_type": "markdown",
      "metadata": {
        "id": "-oLEiFgy-5Pf"
      },
      "source": [
        "### 4. Feature Manipulation & Selection\n"
      ]
    },
    {
      "cell_type": "markdown",
      "metadata": {
        "id": "C74aWNz2AliB"
      },
      "source": [
        "#### 1. Feature Manipulation\n"
      ]
    },
    {
      "cell_type": "code",
      "execution_count": 68,
      "metadata": {
        "id": "NXdKexn0OMTA"
      },
      "outputs": [],
      "source": [
        "# is_weekend feature can help capture any weekday/weekend patterns in the bike rental demand.\n",
        "df['is_weekend'] = df['weekday'].apply(lambda x: 1 if x=='Saturday' or x=='Sunday' else 0)"
      ]
    },
    {
      "cell_type": "code",
      "execution_count": null,
      "metadata": {
        "colab": {
          "base_uri": "https://localhost:8080/"
        },
        "id": "hCauAH5hUnuY",
        "outputId": "5f8925a6-966a-4926-a9d8-abfb7f4faa94"
      },
      "outputs": [],
      "source": [
        "df.groupby('Functioning Day')['Rented Bike Count'].sum()"
      ]
    },
    {
      "cell_type": "code",
      "execution_count": 70,
      "metadata": {
        "id": "N979n1MxUnp_"
      },
      "outputs": [],
      "source": [
        "# Removing data of non functional days (non rented days)\n",
        "df = df.drop(df[df['Functioning Day'] == 'No'].index)\n",
        "\n",
        "# Since all values in Functioning Day Column is same, removing Functioning Day Column\n",
        "df = df.drop(['Functioning Day'], axis = 1)"
      ]
    },
    {
      "cell_type": "code",
      "execution_count": 71,
      "metadata": {
        "id": "9zjOwA1MP1FB"
      },
      "outputs": [],
      "source": [
        "# # Lagged features: the number of rented bikes during the previous hour or day can be useful in capturing any trends or patterns in the data.\n",
        "# d = pd.concat([df['Rented Bike Count'], df['Rented Bike Count'].shift(1), df['Rented Bike Count'].shift(2), df['Rented Bike Count'].shift(24)], axis=1)\n",
        "# d.columns = ['rent_bike_count','lag1_rent_bike_count','lag2_rent_bike_count','lag24_rent_bike_count']\n",
        "# d.corr()"
      ]
    },
    {
      "cell_type": "code",
      "execution_count": 72,
      "metadata": {
        "id": "EbMG9PMyP4_3"
      },
      "outputs": [],
      "source": [
        "# # Creating lagged feature prev_rented_bike_count (lag 1)\n",
        "# df['prev_rented_bike_count'] = df['Rented Bike Count'].shift(1)"
      ]
    },
    {
      "cell_type": "code",
      "execution_count": null,
      "metadata": {
        "colab": {
          "base_uri": "https://localhost:8080/",
          "height": 294
        },
        "id": "X_mB4O0RQUX-",
        "outputId": "d233f5b2-3d0d-4c95-eb3b-fe05add16042"
      },
      "outputs": [],
      "source": [
        "df.head(3)"
      ]
    },
    {
      "cell_type": "markdown",
      "metadata": {
        "id": "2DejudWSA-a0"
      },
      "source": [
        "#### 2. Feature Selection\n"
      ]
    },
    {
      "cell_type": "code",
      "execution_count": null,
      "metadata": {
        "colab": {
          "base_uri": "https://localhost:8080/"
        },
        "id": "BduaPsExTF0w",
        "outputId": "261d0493-57ac-464b-bb06-dfeb03ac5e54"
      },
      "outputs": [],
      "source": [
        "df.shape"
      ]
    },
    {
      "cell_type": "code",
      "execution_count": null,
      "metadata": {
        "colab": {
          "base_uri": "https://localhost:8080/"
        },
        "id": "2pEg7OH3S2Yu",
        "outputId": "7f8a5e13-0b8a-4d15-e5e2-a65911265860"
      },
      "outputs": [],
      "source": [
        "df.columns"
      ]
    },
    {
      "cell_type": "code",
      "execution_count": null,
      "metadata": {
        "colab": {
          "base_uri": "https://localhost:8080/",
          "height": 210
        },
        "id": "hBqH2A84Sy1b",
        "outputId": "6d116db7-b722-4ed7-8db0-ca75321d3a04"
      },
      "outputs": [],
      "source": [
        "# Features selected for modelling which includes:\n",
        "# 1. Numerical (Continuous) Features\n",
        "# 2. Encoded Categorical Features\n",
        "filtered_features = ['Rented Bike Count', 'Hour', 'Temperature(°C)', 'Humidity(%)',\n",
        "       'Visibility (10m)', 'Dew point temperature(°C)',\n",
        "       'Rainfall(mm)_capped', 'Snowfall(cm)_capped', 'Wind speed (m/s)_capped',\n",
        "       'Solar Radiation (MJ/m2)_capped', 'Seasons_Spring', 'Seasons_Summer', 'Seasons_Winter',\n",
        "       'Holiday_No Holiday', 'Month_2', 'Month_3', 'Month_4', 'Month_5', 'Month_6', 'Month_7',\n",
        "       'Month_8', 'Month_9', 'Month_10', 'Month_11', 'Month_12',\n",
        "       'weekday_Monday', 'weekday_Saturday', 'weekday_Sunday',\n",
        "       'weekday_Thursday', 'weekday_Tuesday', 'weekday_Wednesday',\n",
        "       'is_weekend'] #'prev_rented_bike_count'\n",
        "\n",
        "df2 = df[filtered_features]\n",
        "df2.head(2)"
      ]
    },
    {
      "cell_type": "code",
      "execution_count": 77,
      "metadata": {
        "id": "voIq0nLmWeuA"
      },
      "outputs": [],
      "source": [
        "# Checking for multicollinearity\n",
        "from statsmodels.stats.outliers_influence import variance_inflation_factor\n",
        "def calc_vif(X):\n",
        "    vif = pd.DataFrame()\n",
        "    vif[\"feature\"] = X.columns\n",
        "    vif[\"VIF\"] = [variance_inflation_factor(X.values, i) for i in range(len(X.columns))]\n",
        "    return vif.sort_values(by='VIF', ascending=False)"
      ]
    },
    {
      "cell_type": "code",
      "execution_count": null,
      "metadata": {
        "colab": {
          "base_uri": "https://localhost:8080/",
          "height": 363
        },
        "id": "mYYiyIVQX2Gv",
        "outputId": "e777e339-3597-4fbc-a4d0-589528b7e238"
      },
      "outputs": [],
      "source": [
        "calc_vif(df2.select_dtypes(include=['float','int']).drop('Rented Bike Count', axis=1))"
      ]
    },
    {
      "cell_type": "code",
      "execution_count": 79,
      "metadata": {
        "id": "9Urr1-eeYovU"
      },
      "outputs": [],
      "source": [
        "# Dew Point Temperature is highly correlated, hence dropping Dew point Temperature\n",
        "del df2['Dew point temperature(°C)']"
      ]
    },
    {
      "cell_type": "code",
      "execution_count": null,
      "metadata": {
        "colab": {
          "base_uri": "https://localhost:8080/",
          "height": 331
        },
        "id": "lDt8PGq8Y3sL",
        "outputId": "aff0b69a-c6d0-4bbc-a5a2-3f5af3e9d43f"
      },
      "outputs": [],
      "source": [
        "calc_vif(df2.select_dtypes(include=['float','int']).drop(['Rented Bike Count'], axis=1))"
      ]
    },
    {
      "cell_type": "markdown",
      "metadata": {
        "id": "pEMng2IbBLp7"
      },
      "source": [
        "##### What all feature selection methods have you used and why?\n"
      ]
    },
    {
      "cell_type": "markdown",
      "metadata": {
        "id": "rb2Lh6Z8BgGs"
      },
      "source": [
        "Firstly I selected continuous numerical features including outlier treated features, then encoded versions of categorical features.\n",
        "\n",
        "Then calculated VIF factor to detect any multicollinearity, which resulted in dropping Dew Point Temperature column which was highly correlated to Temperature. Rest of features was not very correlated as we already saw in EDA correlation heatmap above.\n",
        "\n",
        "**VIF**: A variance inflation factor (VIF) provides a measure of multicollinearity among the independent variables in a multiple regression model.\n",
        "**Correlation**: The Pearson correlation measures the strength of the linear relationship between two variables. It has a value between -1 to 1, with a value of -1 meaning a total negative linear correlation, 0 being no correlation, and + 1 meaning a total positive correlation.\n"
      ]
    },
    {
      "cell_type": "markdown",
      "metadata": {
        "id": "rAdphbQ9Bhjc"
      },
      "source": [
        "##### Which all features you found important and why?\n"
      ]
    },
    {
      "cell_type": "markdown",
      "metadata": {
        "id": "fGgaEstsBnaf"
      },
      "source": [
        "Based on EDA and correlation heatmap in above section, we saw various features that has impact on target variable output. For example, we saw how **temperature** increase causes demand to increase, **rainfall** and **snowfall** decreases the demand, certain **seasons** have higher demand compared to other seasons, certain **hour** (rush hour) have more demand, **visibility** has posivitive effect on demand, too much **humidity** decreases demand etc.\n"
      ]
    },
    {
      "cell_type": "markdown",
      "metadata": {
        "id": "TNVZ9zx19K6k"
      },
      "source": [
        "### 5. Data Transformation\n"
      ]
    },
    {
      "cell_type": "markdown",
      "metadata": {
        "id": "nqoHp30x9hH9"
      },
      "source": [
        "#### Do you think that your data needs to be transformed? If yes, which transformation have you used. Explain Why?\n"
      ]
    },
    {
      "cell_type": "markdown",
      "metadata": {
        "id": "6PwNWCb_nar_"
      },
      "source": [
        "**Temperature(°C)** and **Humidity(%)** is already approx normal.\n",
        "Transformed **Wind speed (m/s)\\_capped** to approx normal using _np.sqrt_\n"
      ]
    },
    {
      "cell_type": "code",
      "execution_count": null,
      "metadata": {
        "colab": {
          "base_uri": "https://localhost:8080/",
          "height": 367
        },
        "id": "S4de0cgwoTL9",
        "outputId": "944260c5-4ffb-4328-94d0-f60dcac7d594"
      },
      "outputs": [],
      "source": [
        "# Transforming 'Rented Bike Count' to normal\n",
        "plt.figure(figsize=(20,5))\n",
        "\n",
        "plt.subplot(1,3,1)\n",
        "sns.histplot(x='Rented Bike Count', data=df2, kde=True)\n",
        "plt.title(\"Rented Bike Count Distribution\")\n",
        "\n",
        "plt.subplot(1,3,2)\n",
        "sns.histplot(np.log(df2['Rented Bike Count']), kde=True)\n",
        "plt.title(\"Rented Bike Count (log) Distribution\")\n",
        "\n",
        "plt.subplot(1,3,3)\n",
        "sns.histplot(np.sqrt(df2['Rented Bike Count']), kde=True)\n",
        "plt.title(\"Rented Bike Count (sqrt) Distribution\")"
      ]
    },
    {
      "cell_type": "code",
      "execution_count": null,
      "metadata": {
        "colab": {
          "base_uri": "https://localhost:8080/"
        },
        "id": "6GSxb5vQq7U_",
        "outputId": "1bf3b212-91fa-4011-9d61-b0305d6d3fb9"
      },
      "outputs": [],
      "source": [
        "# Transforming Rented Bike Count using np.sqrt\n",
        "df2['Rented Bike Count'] = np.sqrt(df2['Rented Bike Count'])"
      ]
    },
    {
      "cell_type": "code",
      "execution_count": null,
      "metadata": {
        "colab": {
          "base_uri": "https://localhost:8080/"
        },
        "id": "BgHT3UaErXm0",
        "outputId": "35cb0dfa-b6b4-430d-c81b-c4fec6e4e93d"
      },
      "outputs": [],
      "source": [
        "# Transforming Wind Speed using np.sqrt\n",
        "df2['Wind speed (m/s)_capped'] = np.sqrt(df2['Wind speed (m/s)_capped'])"
      ]
    },
    {
      "cell_type": "code",
      "execution_count": null,
      "metadata": {
        "colab": {
          "base_uri": "https://localhost:8080/",
          "height": 302
        },
        "id": "Mh-Q9fgErbUg",
        "outputId": "db9d199c-7c82-4081-b343-fd90145fdcf3"
      },
      "outputs": [],
      "source": [
        "# Wind Speed after transformation is approx normally distributed\n",
        "sns.histplot(x='Wind speed (m/s)_capped', data=df2, kde=True)"
      ]
    },
    {
      "cell_type": "markdown",
      "metadata": {
        "id": "rMDnDkt2B6du"
      },
      "source": [
        "### 6. Data Scaling\n"
      ]
    },
    {
      "cell_type": "code",
      "execution_count": null,
      "metadata": {
        "colab": {
          "base_uri": "https://localhost:8080/",
          "height": 305
        },
        "id": "dL9LWpySC6x_",
        "outputId": "c1091b62-ae12-4ba5-dce6-e8fe659d5e7d"
      },
      "outputs": [],
      "source": [
        "df2.head()"
      ]
    },
    {
      "cell_type": "code",
      "execution_count": null,
      "metadata": {
        "colab": {
          "base_uri": "https://localhost:8080/"
        },
        "id": "0ZASPdMRxN-j",
        "outputId": "800c096e-3589-45d0-fd88-ea47798827f3"
      },
      "outputs": [],
      "source": [
        "# Standardizing the required column\n",
        "df2['Temperature(°C)'] = StandardScaler().fit_transform(df2['Temperature(°C)'].values.reshape(-1, 1))\n",
        "df2['Humidity(%)'] = StandardScaler().fit_transform(df2['Humidity(%)'].values.reshape(-1, 1))\n",
        "\n",
        "# Normalizing the required column\n",
        "df2['Visibility (10m)'] = MinMaxScaler().fit_transform(df2['Visibility (10m)'].values.reshape(-1, 1))"
      ]
    },
    {
      "cell_type": "code",
      "execution_count": null,
      "metadata": {
        "colab": {
          "base_uri": "https://localhost:8080/",
          "height": 305
        },
        "id": "rc_i6k2myXO7",
        "outputId": "28fc556d-9dca-4506-a0e7-ea823d3decf7"
      },
      "outputs": [],
      "source": [
        "df2.head()"
      ]
    },
    {
      "cell_type": "markdown",
      "metadata": {
        "id": "yiiVWRdJDDil"
      },
      "source": [
        "##### Which method have you used to scale you data and why?\n"
      ]
    },
    {
      "cell_type": "markdown",
      "metadata": {
        "id": "N4xhTMzwwwoy"
      },
      "source": [
        "When you are using an algorithm that assumes your features have a similar range, you should use feature scaling.\n",
        "\n",
        "If the ranges of your features differ much then you should use feature scaling. If the range does not vary a lot like one of them is between 0 and 2 and the other one is between -1 and 0.5 then you can leave them as it's. However, you should use feature scaling if the ranges are, for example, between -2 and 2 and between -100 and 100.\n",
        "\n",
        "Use Standardization when your data follows Gaussian distribution.\n",
        "Use Normalization when your data does not follow Gaussian distribution.\n",
        "\n",
        "So in my data, range of data values for **Temperature(°C)**, **Humidity(%)** and **Visibility (10m)** was large and rest was not. Also Temperature(°C) and Humidity(%) was approx normally distributed hence used **StandardScaler** whereas used **MinMaxScaler** for Visibility (10m).\n",
        "\n",
        "**NOTE:-** _The '**Hour**' column also does not need scaling, as it represents discrete values from 0 to 23._\n"
      ]
    },
    {
      "cell_type": "markdown",
      "metadata": {
        "id": "1UUpS68QDMuG"
      },
      "source": [
        "### 7. Dimesionality Reduction\n"
      ]
    },
    {
      "cell_type": "code",
      "execution_count": null,
      "metadata": {
        "colab": {
          "base_uri": "https://localhost:8080/"
        },
        "id": "qjvrpZ4E004J",
        "outputId": "be574a0d-6126-47d6-b009-066175b624ca"
      },
      "outputs": [],
      "source": [
        "# Processed Dataset shape (rows, columns)\n",
        "df2.shape"
      ]
    },
    {
      "cell_type": "markdown",
      "metadata": {
        "id": "kexQrXU-DjzY"
      },
      "source": [
        "##### Do you think that dimensionality reduction is needed? Explain Why?\n"
      ]
    },
    {
      "cell_type": "markdown",
      "metadata": {
        "id": "GGRlBsSGDtTQ"
      },
      "source": [
        "With 30 columns (independent features) and 8465 rows, and after doing all the feature engineering steps like removing multicolinearity, feature selection manupulations etc. I don't think I need dimensionality reduction here.\n",
        "\n",
        "Essentially where high dimensions are a problem or where it is a particular point in the algorithm to dimension reduction.\n"
      ]
    },
    {
      "cell_type": "markdown",
      "metadata": {
        "id": "T5CmagL3EC8N"
      },
      "source": [
        "##### Which dimensionality reduction technique have you used and why? (If dimensionality reduction done on dataset.)\n"
      ]
    },
    {
      "cell_type": "markdown",
      "metadata": {
        "id": "ZKr75IDuEM7t"
      },
      "source": [
        "Answer Here.\n"
      ]
    },
    {
      "cell_type": "markdown",
      "metadata": {
        "id": "BhH2vgX9EjGr"
      },
      "source": [
        "### 8. Data Splitting\n"
      ]
    },
    {
      "cell_type": "code",
      "execution_count": null,
      "metadata": {
        "colab": {
          "base_uri": "https://localhost:8080/"
        },
        "id": "0CTyd2UwEyNM",
        "outputId": "1d5fc21f-f6c1-425c-8f08-d3904d056eba"
      },
      "outputs": [],
      "source": [
        "# Splitting data into 75:25 ratio\n",
        "X_train, X_test, y_train, y_test = train_test_split(df2.drop(\"Rented Bike Count\", axis=1), df2[\"Rented Bike Count\"], test_size = 0.25, random_state = 0)\n",
        "  \n",
        "# describes info about train and test set\n",
        "print(\"Number transactions X_train dataset: \", X_train.shape)\n",
        "print(\"Number transactions y_train dataset: \", y_train.shape)\n",
        "print(\"Number transactions X_test dataset: \", X_test.shape)\n",
        "print(\"Number transactions y_test dataset: \", y_test.shape)"
      ]
    },
    {
      "cell_type": "markdown",
      "metadata": {
        "id": "qjKvONjwE8ra"
      },
      "source": [
        "##### What data splitting ratio have you used and why?\n"
      ]
    },
    {
      "cell_type": "markdown",
      "metadata": {
        "id": "Y2lJ8cobFDb_"
      },
      "source": [
        "There are two competing concerns: with less training data, your parameter estimates have greater variance. With less testing data, your performance statistic will have greater variance. Broadly speaking you should be concerned with dividing data such that neither variance is too high, which is more to do with the absolute number of instances in each category rather than the percentage.\n",
        "\n",
        "If we have a total of 100 instances, we should probably stick with cross validation as no single split is going to give you satisfactory variance in our estimates. If we have 100,000 instances, it doesn't really matter whether we choose an 80:20 split or a 90:10 split.\n",
        "\n",
        "It is surprising to find out that 80/20 is quite a commonly occurring ratio, often referred to as the Pareto principle. It's usually a safe bet if you use that ratio.\n",
        "\n",
        "In this case the training dataset is small, that's why I have taken 75:25 ratio.\n"
      ]
    },
    {
      "cell_type": "markdown",
      "metadata": {
        "id": "P1XJ9OREExlT"
      },
      "source": [
        "### 9. Handling Imbalanced Dataset\n"
      ]
    },
    {
      "cell_type": "code",
      "execution_count": null,
      "metadata": {
        "colab": {
          "base_uri": "https://localhost:8080/",
          "height": 365
        },
        "id": "qr5LBDm57Dti",
        "outputId": "1ed20860-eebb-4c43-c23e-7e769c859bfc"
      },
      "outputs": [],
      "source": [
        "# Distribution of Rented Bike Count (target variable)\n",
        "_ = sns.displot(x=df2['Rented Bike Count'], kde=True)"
      ]
    },
    {
      "cell_type": "markdown",
      "metadata": {
        "id": "VFOzZv6IFROw"
      },
      "source": [
        "##### Do you think the dataset is imbalanced? Explain Why.\n"
      ]
    },
    {
      "cell_type": "markdown",
      "metadata": {
        "id": "GeKDIv7pFgcC"
      },
      "source": [
        "Looking at the distribution of traget variable (i.e., Rented Bike Count), values are not concentrated in a narrow range, and is normally distributed accross wide range of values. So the dataset is not imbalanced.\n"
      ]
    },
    {
      "cell_type": "code",
      "execution_count": 91,
      "metadata": {
        "id": "nQsRhhZLFiDs"
      },
      "outputs": [],
      "source": [
        "# Handling Imbalanced Dataset (If needed)"
      ]
    },
    {
      "cell_type": "markdown",
      "metadata": {
        "id": "TIqpNgepFxVj"
      },
      "source": [
        "##### What technique did you use to handle the imbalance dataset and why? (If needed to be balanced)\n"
      ]
    },
    {
      "cell_type": "markdown",
      "metadata": {
        "id": "qbet1HwdGDTz"
      },
      "source": [
        "Answer Here.\n"
      ]
    },
    {
      "cell_type": "markdown",
      "metadata": {
        "id": "VfCC591jGiD4"
      },
      "source": [
        "## **_7. ML Model Implementation_**\n"
      ]
    },
    {
      "cell_type": "markdown",
      "metadata": {
        "id": "OB4l2ZhMeS1U"
      },
      "source": [
        "### ML Model - 1 - Linear Regression\n"
      ]
    },
    {
      "cell_type": "code",
      "execution_count": 97,
      "metadata": {
        "id": "7ebyywQieS1U"
      },
      "outputs": [],
      "source": [
        "# ML Model - 1 Implementation\n",
        "linear_reg = LinearRegression()\n",
        "\n",
        "# Fit the Algorithm\n",
        "linear_reg.fit(X_train, y_train)\n",
        "\n",
        "# Predict on the model\n",
        "train_preds = linear_reg.predict(X_train)\n",
        "test_preds = linear_reg.predict(X_test)"
      ]
    },
    {
      "cell_type": "code",
      "execution_count": null,
      "metadata": {
        "colab": {
          "base_uri": "https://localhost:8080/"
        },
        "id": "h3lBzv6XdRDU",
        "outputId": "9598c566-78ff-4746-894e-019ee43ee0df"
      },
      "outputs": [],
      "source": [
        "print(\"Training Data:\")\n",
        "print(\"MSE:\", mean_squared_error(y_train, train_preds))\n",
        "print(\"MAE:\", mean_absolute_error(y_train, train_preds))\n",
        "print(\"R2 Score:\", r2_score(y_train, train_preds))"
      ]
    },
    {
      "cell_type": "code",
      "execution_count": null,
      "metadata": {
        "colab": {
          "base_uri": "https://localhost:8080/"
        },
        "id": "nAHD2eBDdXi_",
        "outputId": "9739eb14-b405-4429-f4e9-4068fd0b4722"
      },
      "outputs": [],
      "source": [
        "mse = mean_squared_error(y_test, test_preds)\n",
        "mae = mean_absolute_error(y_test, test_preds)\n",
        "r2 = r2_score(y_test, test_preds)\n",
        "print(\"Testing Data:\")\n",
        "print(\"MSE:\", mse)\n",
        "print(\"MAE:\", mae)\n",
        "print(\"R2 Score:\", r2)"
      ]
    },
    {
      "cell_type": "code",
      "execution_count": 100,
      "metadata": {
        "id": "bQdtRo3gNz3_"
      },
      "outputs": [],
      "source": [
        "# Dictionary to store different models accuracies\n",
        "model_results = {}"
      ]
    },
    {
      "cell_type": "code",
      "execution_count": 101,
      "metadata": {
        "id": "mf4ENBhjjFqD"
      },
      "outputs": [],
      "source": [
        "# Storing model performance for comparision later\n",
        "model_results['Linear Regression'] = [r2, mse, mae]"
      ]
    },
    {
      "cell_type": "markdown",
      "metadata": {
        "id": "ArJBuiUVfxKd"
      },
      "source": [
        "#### 1. Explain the ML Model used and it's performance using Evaluation metric Score Chart.\n"
      ]
    },
    {
      "cell_type": "code",
      "execution_count": null,
      "metadata": {
        "colab": {
          "base_uri": "https://localhost:8080/",
          "height": 301
        },
        "id": "_tuOd6SJL0Ff",
        "outputId": "bcd5217a-1fd8-4ced-d5f9-38b03e185b1e"
      },
      "outputs": [],
      "source": [
        "# Create scatter plot\n",
        "plt.scatter(test_preds, y_test)\n",
        "plt.plot([min(test_preds), max(test_preds)], [min(test_preds), max(test_preds)], 'k--', lw=2)\n",
        "plt.xlabel('Predicted values')\n",
        "plt.ylabel('Actual values')\n",
        "plt.title('Scatter plot of predicted vs actual values')\n",
        "\n",
        "# Add evaluation metrics to plot\n",
        "plt.text(0, 40, f'MSE: {mse:.2f}\\nMAE: {mae:.2f}\\nR2: {r2:.2f}', fontsize=13, ha='left')\n",
        "\n",
        "plt.show()"
      ]
    },
    {
      "cell_type": "markdown",
      "metadata": {
        "id": "SJxZ7Hku4Npa"
      },
      "source": [
        "I used Linear Regression algorithm to create the model. And the result is not so good.\n",
        "\n",
        "For training data, I found R2 score of 0.673 & 46.1 and 5.2 as MSE and MAE respectively.\n",
        "\n",
        "For testing data, I found R2 score of 0.672 & 45.5 and 5.1 as MSE and MAE respectively.\n",
        "\n",
        "Next trying to improving the score by using hyperparameter tuning technique.\n"
      ]
    },
    {
      "cell_type": "code",
      "execution_count": null,
      "metadata": {
        "colab": {
          "base_uri": "https://localhost:8080/",
          "height": 285
        },
        "id": "1Awtbg3EEUVt",
        "outputId": "2f43971f-f6c2-4c4c-e5e7-3cb329ee7fe6"
      },
      "outputs": [],
      "source": [
        "# Checking Homoscedasticity\n",
        "residuals = y_test - test_preds\n",
        "\n",
        "plt.figure(figsize=(6,4))\n",
        "_ = sns.lineplot(x=list(range(1, len(residuals)+1)), y=residuals)\n",
        "plt.ylabel('Residuals')"
      ]
    },
    {
      "cell_type": "markdown",
      "metadata": {
        "id": "l7OWLZrGImkk"
      },
      "source": [
        "It looks like variance is almost constant, hence fulfilling Homoscedasticity assumption of Linear Regression.\n"
      ]
    },
    {
      "cell_type": "markdown",
      "metadata": {
        "id": "4qY1EAkEfxKe"
      },
      "source": [
        "#### 2. Cross- Validation & Hyperparameter Tuning\n"
      ]
    },
    {
      "cell_type": "code",
      "execution_count": 104,
      "metadata": {
        "id": "Dy61ujd6fxKe"
      },
      "outputs": [],
      "source": [
        "# ML Model - 1 Implementation with hyperparameter optimization techniques (i.e., GridSearch CV, RandomSearch CV, Bayesian Optimization etc.)\n",
        "model = LinearRegression()\n",
        "params = {'fit_intercept': [True, False]}\n",
        "grid_search = GridSearchCV(model, params, cv=5, scoring='neg_mean_squared_error')\n",
        "\n",
        "# Fit the Algorithm\n",
        "grid_search.fit(X_train, y_train)\n",
        "linear_reg_cv = grid_search.best_estimator_\n",
        "\n",
        "# Predict on the model\n",
        "train_preds = linear_reg_cv.predict(X_train)\n",
        "test_preds = linear_reg_cv.predict(X_test)"
      ]
    },
    {
      "cell_type": "code",
      "execution_count": null,
      "metadata": {
        "colab": {
          "base_uri": "https://localhost:8080/"
        },
        "id": "68tnSYoLeRmG",
        "outputId": "0cafeca8-3043-45f0-8a87-e940f8e715af"
      },
      "outputs": [],
      "source": [
        "print(\"Training Data:\")\n",
        "print(\"MSE:\", mean_squared_error(y_train, train_preds))\n",
        "print(\"MAE:\", mean_absolute_error(y_train, train_preds))\n",
        "print(\"R2 Score:\", r2_score(y_train, train_preds))"
      ]
    },
    {
      "cell_type": "code",
      "execution_count": null,
      "metadata": {
        "colab": {
          "base_uri": "https://localhost:8080/"
        },
        "id": "Hp7aOIt4eSu_",
        "outputId": "0e7eb20f-c5b6-455a-b31b-38bcc0eac9f2"
      },
      "outputs": [],
      "source": [
        "mse = mean_squared_error(y_test, test_preds)\n",
        "mae = mean_absolute_error(y_test, test_preds)\n",
        "r2 = r2_score(y_test, test_preds)\n",
        "print(\"Testing Data:\")\n",
        "print(\"MSE:\", mse)\n",
        "print(\"MAE:\", mae)\n",
        "print(\"R2 Score:\", r2)"
      ]
    },
    {
      "cell_type": "code",
      "execution_count": 107,
      "metadata": {
        "id": "CEjM8oHU9lkt"
      },
      "outputs": [],
      "source": [
        "# Storing model performance for comparision later\n",
        "model_results['Linear Regression CV'] = [r2, mse, mae]"
      ]
    },
    {
      "cell_type": "markdown",
      "metadata": {
        "id": "PiV4Ypx8fxKe"
      },
      "source": [
        "##### Which hyperparameter optimization technique have you used and why?\n"
      ]
    },
    {
      "cell_type": "markdown",
      "metadata": {
        "id": "negyGRa7fxKf"
      },
      "source": [
        "GridSearchCV which uses the Grid Search technique for finding the optimal hyperparameters to increase the model performance.\n",
        "\n",
        "If we don't have not very large hyperparameter space and training time for the model is not too long then we can go for this technique to find best hyperparameters.\n",
        "\n",
        "In GridSearchCV, along with Grid Search, cross-validation is also performed. Cross-Validation is used while training the model.\n",
        "\n",
        "That's why I have used GridSearchCV method for hyperparameter optimization.\n"
      ]
    },
    {
      "cell_type": "markdown",
      "metadata": {
        "id": "TfvqoZmBfxKf"
      },
      "source": [
        "##### Have you seen any improvement? Note down the improvement with updates Evaluation metric Score Chart.\n"
      ]
    },
    {
      "cell_type": "markdown",
      "metadata": {
        "id": "OaLui8CcfxKf"
      },
      "source": [
        "For training data, I found R2 score of 0.673 & 46.1 and 5.2 as MSE and MAE respectively.\n",
        "\n",
        "For testing data, I found R2 score of 0.672 & 45.5 and 5.1 as MSE and MAE respectively.\n",
        "\n",
        "For Both training and testing data, **no improvement** is seen.\n"
      ]
    },
    {
      "cell_type": "markdown",
      "metadata": {
        "id": "dJ2tPlVmpsJ0"
      },
      "source": [
        "### ML Model - 2 - Ridge\n"
      ]
    },
    {
      "cell_type": "code",
      "execution_count": 108,
      "metadata": {
        "id": "AY4e4O34TKpM"
      },
      "outputs": [],
      "source": [
        "# ML Model - 2 Implementation\n",
        "ridge = Ridge(random_state=0)\n",
        "\n",
        "# Fit the Algorithm\n",
        "ridge.fit(X_train, y_train)\n",
        "\n",
        "# Predict on the model\n",
        "train_preds = ridge.predict(X_train)\n",
        "test_preds = ridge.predict(X_test)"
      ]
    },
    {
      "cell_type": "code",
      "execution_count": null,
      "metadata": {
        "colab": {
          "base_uri": "https://localhost:8080/"
        },
        "id": "B_EyWlPXejPQ",
        "outputId": "1c109b1a-62cf-4fd5-9eeb-5951ee32cd6d"
      },
      "outputs": [],
      "source": [
        "print(\"Training Data:\")\n",
        "print(\"MSE:\", mean_squared_error(y_train, train_preds))\n",
        "print(\"MAE:\", mean_absolute_error(y_train, train_preds))\n",
        "print(\"R2 Score:\", r2_score(y_train, train_preds))"
      ]
    },
    {
      "cell_type": "code",
      "execution_count": null,
      "metadata": {
        "colab": {
          "base_uri": "https://localhost:8080/"
        },
        "id": "B5CqApmhekQi",
        "outputId": "bf3f2db1-1018-4378-ac36-2efecf48a824"
      },
      "outputs": [],
      "source": [
        "mse = mean_squared_error(y_test, test_preds)\n",
        "mae = mean_absolute_error(y_test, test_preds)\n",
        "r2 = r2_score(y_test, test_preds)\n",
        "print(\"Testing Data:\")\n",
        "print(\"MSE:\", mse)\n",
        "print(\"MAE:\", mae)\n",
        "print(\"R2 Score:\", r2)"
      ]
    },
    {
      "cell_type": "code",
      "execution_count": 111,
      "metadata": {
        "id": "4-Cu_dDfT-_v"
      },
      "outputs": [],
      "source": [
        "model_results['Ridge'] = [r2, mse, mae]"
      ]
    },
    {
      "cell_type": "markdown",
      "metadata": {
        "id": "JWYfwnehpsJ1"
      },
      "source": [
        "#### 1. Explain the ML Model used and it's performance using Evaluation metric Score Chart.\n"
      ]
    },
    {
      "cell_type": "code",
      "execution_count": null,
      "metadata": {
        "colab": {
          "base_uri": "https://localhost:8080/",
          "height": 301
        },
        "id": "yEl-hgQWpsJ1",
        "outputId": "f0fb2470-5ec9-45f6-b17b-07660222dc2a"
      },
      "outputs": [],
      "source": [
        "# Create scatter plot\n",
        "plt.scatter(test_preds, y_test)\n",
        "plt.plot([min(test_preds), max(test_preds)], [min(test_preds), max(test_preds)], 'k--', lw=2)\n",
        "plt.xlabel('Predicted values')\n",
        "plt.ylabel('Actual values')\n",
        "plt.title('Scatter plot of predicted vs actual values')\n",
        "\n",
        "# Add evaluation metrics to plot\n",
        "plt.text(0, 40, f'MSE: {mse:.2f}\\nMAE: {mae:.2f}\\nR2: {r2:.2f}', fontsize=13, ha='left')\n",
        "\n",
        "plt.show()"
      ]
    },
    {
      "cell_type": "markdown",
      "metadata": {
        "id": "5jHPYAuLkBDL"
      },
      "source": [
        "I used Ridge Regression algorithm to create the model. And the result is not so good.\n",
        "\n",
        "For training data, I found R2 score of 0.673 & 46.1 and 5.2 as MSE and MAE respectively.\n",
        "\n",
        "For testing data, I found R2 score of 0.672 & 45.5 and 5.1 as MSE and MAE respectively.\n",
        "\n",
        "Next trying to improving the score by using hyperparameter tuning technique.\n"
      ]
    },
    {
      "cell_type": "code",
      "execution_count": null,
      "metadata": {
        "colab": {
          "base_uri": "https://localhost:8080/",
          "height": 285
        },
        "id": "ZicEv9KUUTdU",
        "outputId": "dd0df565-e27b-493d-dd72-0520d2b4358b"
      },
      "outputs": [],
      "source": [
        "# Checking Homoscedasticity\n",
        "residuals = y_test - test_preds\n",
        "\n",
        "plt.figure(figsize=(6,4))\n",
        "_ = sns.lineplot(x=list(range(1, len(residuals)+1)), y=residuals)\n",
        "plt.ylabel('Residuals')"
      ]
    },
    {
      "cell_type": "markdown",
      "metadata": {
        "id": "-jK_YjpMpsJ2"
      },
      "source": [
        "#### 2. Cross- Validation & Hyperparameter Tuning\n"
      ]
    },
    {
      "cell_type": "code",
      "execution_count": 114,
      "metadata": {
        "id": "Dn0EOfS6psJ2"
      },
      "outputs": [],
      "source": [
        "# ML Model - 2 Implementation with hyperparameter optimization techniques (i.e., GridSearch CV, RandomSearch CV, Bayesian Optimization etc.)\n",
        "params = {\n",
        "    'solver':['svd', 'cholesky', 'lsqr', 'sag'],\n",
        "    'alpha': [1e-5, 1e-4, 1e-3, 1e-2, 1e-1, 1, 5, 10, 20, 50, 100]\n",
        "}\n",
        "ridge_cv = Ridge(random_state=0)\n",
        "grid_search = GridSearchCV(ridge_cv, params, scoring='neg_mean_absolute_error', n_jobs=-1, cv=5)\n",
        "\n",
        "# Fit the Algorithm\n",
        "grid_result = grid_search.fit(X_train, y_train)\n",
        "ridge_cv = grid_search.best_estimator_\n",
        "\n",
        "# Predict on the model\n",
        "train_preds = ridge_cv.predict(X_train)\n",
        "test_preds = ridge_cv.predict(X_test)"
      ]
    },
    {
      "cell_type": "code",
      "execution_count": null,
      "metadata": {
        "colab": {
          "base_uri": "https://localhost:8080/"
        },
        "id": "mkOnB-hzezs9",
        "outputId": "35a8cf07-c91b-44b9-c4fe-55a2d4813ba8"
      },
      "outputs": [],
      "source": [
        "print(\"Training Data:\")\n",
        "print(\"MSE:\", mean_squared_error(y_train, train_preds))\n",
        "print(\"MAE:\", mean_absolute_error(y_train, train_preds))\n",
        "print(\"R2 Score:\", r2_score(y_train, train_preds))"
      ]
    },
    {
      "cell_type": "code",
      "execution_count": null,
      "metadata": {
        "colab": {
          "base_uri": "https://localhost:8080/"
        },
        "id": "R4ycCzNqe00w",
        "outputId": "41ce3bf8-fa64-42fe-a208-dcc14eb66bc6"
      },
      "outputs": [],
      "source": [
        "mse = mean_squared_error(y_test, test_preds)\n",
        "mae = mean_absolute_error(y_test, test_preds)\n",
        "r2 = r2_score(y_test, test_preds)\n",
        "print(\"Testing Data:\")\n",
        "print(\"MSE:\", mse)\n",
        "print(\"MAE:\", mae)\n",
        "print(\"R2 Score:\", r2)"
      ]
    },
    {
      "cell_type": "code",
      "execution_count": 117,
      "metadata": {
        "id": "_GyUxsmnk8mW"
      },
      "outputs": [],
      "source": [
        "# Slightly Better Performance, updating performance of Ridge\n",
        "model_results['RidgeCV'] = [r2, mse, mae]"
      ]
    },
    {
      "cell_type": "markdown",
      "metadata": {
        "id": "HAih1iBOpsJ2"
      },
      "source": [
        "##### Which hyperparameter optimization technique have you used and why?\n"
      ]
    },
    {
      "cell_type": "markdown",
      "metadata": {
        "id": "9kBgjYcdpsJ2"
      },
      "source": [
        "GridSearchCV which uses the Grid Search technique for finding the optimal hyperparameters to increase the model performance.\n",
        "\n",
        "If we've don't have very large hyperparameter space and training time for the model is not too long then we can go for this technique to find best hyperparameters.\n",
        "\n",
        "In GridSearchCV, along with Grid Search, cross-validation is also performed. Cross-Validation is used while training the model.\n",
        "\n",
        "That's why I have used GridSearchCV method for hyperparameter optimization.\n"
      ]
    },
    {
      "cell_type": "markdown",
      "metadata": {
        "id": "zVGeBEFhpsJ2"
      },
      "source": [
        "##### Have you seen any improvement? Note down the improvement with updates Evaluation metric Score Chart.\n"
      ]
    },
    {
      "cell_type": "markdown",
      "metadata": {
        "id": "74yRdG6UpsJ3"
      },
      "source": [
        "For training data, I found R2 score of 0.673 & 46.1 and 5.2 as MSE and MAE respectively.\n",
        "\n",
        "For testing data, I found R2 score of 0.672 & 45.5 and 5.1 as MSE and MAE respectively.\n",
        "\n",
        "For Both training and testing data, **no improvement** is seen.\n"
      ]
    },
    {
      "cell_type": "markdown",
      "metadata": {
        "id": "bmKjuQ-FpsJ3"
      },
      "source": [
        "#### 3. Explain each evaluation metric's indication towards business and the business impact of the ML model used.\n"
      ]
    },
    {
      "cell_type": "markdown",
      "metadata": {
        "id": "BDKtOrBQpsJ3"
      },
      "source": [
        "**R2 (R-squared)**: R2 measures how much of the variance in the target variable is explained by the model. A high R2 score indicates that the model is able to capture a large portion of the variance in the target variable, and therefore is a good fit for the data. From a business perspective, a high R2 score can indicate that the model is accurately predicting the target variable, which can be valuable for decision-making purposes.\n",
        "\n",
        "**MSE (Mean Squared Error)**: MSE measures the average squared difference between the predicted and actual values. A low MSE score indicates that the model's predictions are close to the actual values. From a business perspective, a low MSE score can indicate that the model is making accurate predictions, which can be valuable for decision-making purposes.\n",
        "\n",
        "**MAE (Mean Absolute Error)**: MAE measures the average absolute difference between the predicted and actual values. Like MSE, a low MAE score indicates that the model's predictions are close to the actual values. However, MAE is less sensitive to outliers than MSE. From a business perspective, a low MAE score can indicate that the model is making accurate predictions across a wide range of values, which can be valuable for decision-making purposes.\n",
        "\n",
        "Overall, these evaluation metrics can help a business to assess the performance of a machine learning model and its potential impact on business outcomes. By selecting the appropriate metrics and optimizing the model accordingly, businesses can build models that are well-suited to their specific needs and goals.\n"
      ]
    },
    {
      "cell_type": "markdown",
      "metadata": {
        "id": "Fze-IPXLpx6K"
      },
      "source": [
        "### ML Model - 3 - Decision Tree Regressor\n"
      ]
    },
    {
      "cell_type": "code",
      "execution_count": 118,
      "metadata": {
        "id": "QyiKt9bwdYxc"
      },
      "outputs": [],
      "source": [
        "# ML Model - 3 Implementation\n",
        "dtree = DecisionTreeRegressor(max_depth=8, max_features=9, max_leaf_nodes=100, random_state=1)\n",
        "\n",
        "# Fit the Algorithm\n",
        "dtree.fit(X_train, y_train)\n",
        "\n",
        "# Predict on the model\n",
        "train_preds = dtree.predict(X_train)\n",
        "test_preds = dtree.predict(X_test)"
      ]
    },
    {
      "cell_type": "code",
      "execution_count": null,
      "metadata": {
        "colab": {
          "base_uri": "https://localhost:8080/"
        },
        "id": "DWga_By0e-rJ",
        "outputId": "20599a37-69f8-4775-9a4f-cbd6dfc4a866"
      },
      "outputs": [],
      "source": [
        "print(\"Training Data:\")\n",
        "print(\"MSE:\", mean_squared_error(y_train, train_preds))\n",
        "print(\"MAE:\", mean_absolute_error(y_train, train_preds))\n",
        "print(\"R2 Score:\", r2_score(y_train, train_preds))"
      ]
    },
    {
      "cell_type": "code",
      "execution_count": null,
      "metadata": {
        "colab": {
          "base_uri": "https://localhost:8080/"
        },
        "id": "reo8SvR1fAEW",
        "outputId": "bf7e5bff-fbe8-4ba4-9039-7c425856f6ff"
      },
      "outputs": [],
      "source": [
        "mse = mean_squared_error(y_test, test_preds)\n",
        "mae = mean_absolute_error(y_test, test_preds)\n",
        "r2 = r2_score(y_test, test_preds)\n",
        "print(\"Testing Data:\")\n",
        "print(\"MSE:\", mse)\n",
        "print(\"MAE:\", mae)\n",
        "print(\"R2 Score:\", r2)"
      ]
    },
    {
      "cell_type": "code",
      "execution_count": 121,
      "metadata": {
        "id": "5j84RyXXd2mY"
      },
      "outputs": [],
      "source": [
        "model_results['Decision Tree'] = [r2, mse, mae]"
      ]
    },
    {
      "cell_type": "markdown",
      "metadata": {
        "id": "7AN1z2sKpx6M"
      },
      "source": [
        "#### 1. Explain the ML Model used and it's performance using Evaluation metric Score Chart.\n"
      ]
    },
    {
      "cell_type": "code",
      "execution_count": null,
      "metadata": {
        "colab": {
          "base_uri": "https://localhost:8080/",
          "height": 301
        },
        "id": "xIY4lxxGpx6M",
        "outputId": "4c3b65cd-dfbb-4880-e393-7a9c10444d83"
      },
      "outputs": [],
      "source": [
        "# Create scatter plot\n",
        "plt.scatter(test_preds, y_test)\n",
        "plt.plot([min(test_preds), max(test_preds)], [min(test_preds), max(test_preds)], 'k--', lw=2)\n",
        "plt.xlabel('Predicted values')\n",
        "plt.ylabel('Actual values')\n",
        "plt.title('Scatter plot of predicted vs actual values')\n",
        "\n",
        "# Add evaluation metrics to plot\n",
        "plt.text(8, 40, f'MSE: {mse:.2f}\\nMAE: {mae:.2f}\\nR2: {r2:.2f}', fontsize=13, ha='left')\n",
        "\n",
        "plt.show()"
      ]
    },
    {
      "cell_type": "markdown",
      "metadata": {
        "id": "gU8I_JMUxJEz"
      },
      "source": [
        "I used Decision Tree Regressor algorithm to create the model. And the result is better than previous two linear models.\n",
        "\n",
        "For training data, I found R2 score of 0.824 & 24.8 and 3.6 as MSE and MAE respectively.\n",
        "\n",
        "For testing data, I found R2 score of 0.776 & 31.0 and 4.0 as MSE and MAE respectively.\n",
        "\n",
        "Next trying to improving the score by using hyperparameter tuning technique.\n"
      ]
    },
    {
      "cell_type": "markdown",
      "metadata": {
        "id": "9PIHJqyupx6M"
      },
      "source": [
        "#### 2. Cross- Validation & Hyperparameter Tuning\n"
      ]
    },
    {
      "cell_type": "code",
      "execution_count": 123,
      "metadata": {
        "id": "eSVXuaSKpx6M"
      },
      "outputs": [],
      "source": [
        "# ML Model - 3 Implementation with hyperparameter optimization techniques (i.e., GridSearch CV, RandomSearch CV, Bayesian Optimization etc.)\n",
        "params = {'max_depth': np.arange(1, 10),\n",
        "          'min_samples_leaf': [1, 2, 4, 8, 16]\n",
        "}\n",
        "dtree_cv = DecisionTreeRegressor(random_state=1)\n",
        "grid_search = GridSearchCV(dtree_cv, params, cv=5, scoring='neg_mean_squared_error')\n",
        "\n",
        "# Fit the Algorithm\n",
        "grid_result = grid_search.fit(X_train, y_train)\n",
        "dtree_cv = grid_search.best_estimator_\n",
        "\n",
        "# Predict on the model\n",
        "train_preds = dtree_cv.predict(X_train)\n",
        "test_preds = dtree_cv.predict(X_test)"
      ]
    },
    {
      "cell_type": "code",
      "execution_count": null,
      "metadata": {
        "colab": {
          "base_uri": "https://localhost:8080/"
        },
        "id": "83AZFnHgfJeX",
        "outputId": "e1fded74-ab8c-44aa-e68a-86b877b4fc24"
      },
      "outputs": [],
      "source": [
        "print(\"Training Data:\")\n",
        "print(\"MSE:\", mean_squared_error(y_train, train_preds))\n",
        "print(\"MAE:\", mean_absolute_error(y_train, train_preds))\n",
        "print(\"R2 Score:\", r2_score(y_train, train_preds))"
      ]
    },
    {
      "cell_type": "code",
      "execution_count": null,
      "metadata": {
        "colab": {
          "base_uri": "https://localhost:8080/"
        },
        "id": "KNuqvVmEfKUy",
        "outputId": "fe210cab-ca3c-40cc-ee9c-f1279d3f1a1a"
      },
      "outputs": [],
      "source": [
        "mse = mean_squared_error(y_test, test_preds)\n",
        "mae = mean_absolute_error(y_test, test_preds)\n",
        "r2 = r2_score(y_test, test_preds)\n",
        "print(\"Testing Data:\")\n",
        "print(\"MSE:\", mse)\n",
        "print(\"MAE:\", mae)\n",
        "print(\"R2 Score:\", r2)"
      ]
    },
    {
      "cell_type": "code",
      "execution_count": 126,
      "metadata": {
        "id": "4njwv-66magM"
      },
      "outputs": [],
      "source": [
        "model_results['Decision Tree CV'] = [r2, mse, mae]"
      ]
    },
    {
      "cell_type": "code",
      "execution_count": null,
      "metadata": {
        "colab": {
          "base_uri": "https://localhost:8080/",
          "height": 301
        },
        "id": "KwlgX7LVfB4o",
        "outputId": "0640431d-0e71-4ef9-c233-d92655b73315"
      },
      "outputs": [],
      "source": [
        "# Create scatter plot\n",
        "plt.scatter(test_preds, y_test)\n",
        "plt.plot([min(test_preds), max(test_preds)], [min(test_preds), max(test_preds)], 'k--', lw=2)\n",
        "plt.xlabel('Predicted values')\n",
        "plt.ylabel('Actual values')\n",
        "plt.title('Scatter plot of predicted vs actual values')\n",
        "\n",
        "# Add evaluation metrics to plot\n",
        "plt.text(8, 40, f'MSE: {mse:.2f}\\nMAE: {mae:.2f}\\nR2: {r2:.2f}', fontsize=13, ha='left')\n",
        "\n",
        "plt.show()"
      ]
    },
    {
      "cell_type": "markdown",
      "metadata": {
        "id": "_-qAgymDpx6N"
      },
      "source": [
        "##### Which hyperparameter optimization technique have you used and why?\n"
      ]
    },
    {
      "cell_type": "markdown",
      "metadata": {
        "id": "lQMffxkwpx6N"
      },
      "source": [
        "GridSearchCV which uses the Grid Search technique for finding the optimal hyperparameters to increase the model performance.\n",
        "\n",
        "If we don't have very large hyperparameter space and training time for the model is not too long then we can go for this technique to find best hyperparameters.\n",
        "\n",
        "In GridSearchCV, along with Grid Search, cross-validation is also performed. Cross-Validation is used while training the model.\n",
        "\n",
        "That's why I have used GridSearchCV method for hyperparameter optimization.\n"
      ]
    },
    {
      "cell_type": "markdown",
      "metadata": {
        "id": "Z-hykwinpx6N"
      },
      "source": [
        "##### Have you seen any improvement? Note down the improvement with updates Evaluation metric Score Chart.\n"
      ]
    },
    {
      "cell_type": "markdown",
      "metadata": {
        "id": "MzVzZC6opx6N"
      },
      "source": [
        "For training data, I found R2 score of 0.905 & 13.4 and 2.5 as MSE and MAE respectively.\n",
        "\n",
        "For testing data, I found R2 score of 0.838 & 22.3 and 3.1 as MSE and MAE respectively.\n",
        "\n",
        "For Both training and testing data, **quite improvement** is seen.\n"
      ]
    },
    {
      "cell_type": "markdown",
      "metadata": {
        "id": "CeSDkHuaf3fU"
      },
      "source": [
        "### ML Model - 4 - Random Forest Regressor\n"
      ]
    },
    {
      "cell_type": "code",
      "execution_count": 128,
      "metadata": {
        "id": "WlusSgORhgOP"
      },
      "outputs": [],
      "source": [
        "# ML Model - 3 Implementation\n",
        "rf_model = RandomForestRegressor(random_state=1)\n",
        "\n",
        "# Fit the Algorithm\n",
        "rf_model.fit(X_train, y_train)\n",
        "\n",
        "# Predict on the model\n",
        "train_preds = rf_model.predict(X_train)\n",
        "test_preds = rf_model.predict(X_test)"
      ]
    },
    {
      "cell_type": "code",
      "execution_count": null,
      "metadata": {
        "colab": {
          "base_uri": "https://localhost:8080/"
        },
        "id": "YmMWdLyHfRrQ",
        "outputId": "82d28f3c-3a2b-43ad-9013-1f0b3e990f66"
      },
      "outputs": [],
      "source": [
        "print(\"Training Data:\")\n",
        "print(\"MSE:\", mean_squared_error(y_train, train_preds))\n",
        "print(\"MAE:\", mean_absolute_error(y_train, train_preds))\n",
        "print(\"R2 Score:\", r2_score(y_train, train_preds))"
      ]
    },
    {
      "cell_type": "code",
      "execution_count": null,
      "metadata": {
        "colab": {
          "base_uri": "https://localhost:8080/"
        },
        "id": "WRx-CpUSfTkG",
        "outputId": "ce29a3ca-e1e2-4ad6-d208-fd754ff95b84"
      },
      "outputs": [],
      "source": [
        "mse = mean_squared_error(y_test, test_preds)\n",
        "mae = mean_absolute_error(y_test, test_preds)\n",
        "r2 = r2_score(y_test, test_preds)\n",
        "print(\"Testing Data:\")\n",
        "print(\"MSE:\", mse)\n",
        "print(\"MAE:\", mae)\n",
        "print(\"R2 Score:\", r2)"
      ]
    },
    {
      "cell_type": "code",
      "execution_count": 131,
      "metadata": {
        "id": "SzvzL1Cfm3ng"
      },
      "outputs": [],
      "source": [
        "model_results['Random Forest'] = [r2, mse, mae]"
      ]
    },
    {
      "cell_type": "markdown",
      "metadata": {
        "id": "CIjXuvdof64W"
      },
      "source": [
        "#### 1. Explain the ML Model used and it's performance using Evaluation metric Score Chart.\n"
      ]
    },
    {
      "cell_type": "code",
      "execution_count": null,
      "metadata": {
        "colab": {
          "base_uri": "https://localhost:8080/",
          "height": 301
        },
        "id": "3cbTUkaYf9kc",
        "outputId": "3bb29bed-eba4-4c86-cc72-7c5bddd9ee02"
      },
      "outputs": [],
      "source": [
        "# Create scatter plot\n",
        "plt.scatter(test_preds, y_test)\n",
        "plt.plot([min(test_preds), max(test_preds)], [min(test_preds), max(test_preds)], 'k--', lw=2)\n",
        "plt.xlabel('Predicted values')\n",
        "plt.ylabel('Actual values')\n",
        "plt.title('Scatter plot of predicted vs actual values')\n",
        "\n",
        "# Add evaluation metrics to plot\n",
        "plt.text(8, 40, f'MSE: {mse:.2f}\\nMAE: {mae:.2f}\\nR2: {r2:.2f}', fontsize=13, ha='left')\n",
        "\n",
        "plt.show()"
      ]
    },
    {
      "cell_type": "markdown",
      "metadata": {
        "id": "F14bHE-szSoI"
      },
      "source": [
        "I used Random Forest Regressor algorithm to create the model. And the result is better than previous decision tree model.\n",
        "\n",
        "For training data, I found R2 score of 0.991 & 1.2 and 0.7 as MSE and MAE respectively.\n",
        "\n",
        "For testing data, I found R2 score of 0.920 & 11.0 and 2.0 as MSE and MAE respectively.\n",
        "\n",
        "Next trying to improving the score by using hyperparameter tuning technique.\n"
      ]
    },
    {
      "cell_type": "markdown",
      "metadata": {
        "id": "Rt-HGurwf99Y"
      },
      "source": [
        "#### 2. Cross- Validation & Hyperparameter Tuning\n"
      ]
    },
    {
      "cell_type": "code",
      "execution_count": 133,
      "metadata": {
        "id": "n1F1gvDUf_R_"
      },
      "outputs": [],
      "source": [
        "# ML Model - 3 Implementation with hyperparameter optimization techniques (i.e., GridSearch CV, RandomSearch CV, Bayesian Optimization etc.)\n",
        "params = {'n_estimators': [50, 100, 150],\n",
        "          'max_depth': [5, 10, 15],\n",
        "          'min_samples_split': [2, 5, 10],\n",
        "          'min_samples_leaf': [1, 2, 4]\n",
        "}\n",
        "rf_model_cv = RandomForestRegressor(random_state=1)\n",
        "# grid_search = GridSearchCV(rf_model_cv, params, cv=5, scoring='neg_mean_squared_error', n_jobs=-1)\n",
        "rand_search = RandomizedSearchCV(rf_model_cv, param_distributions=params, n_iter=50, cv=5, n_jobs=-1, random_state=1)\n",
        "\n",
        "# Fit the Algorithm\n",
        "rand_result = rand_search.fit(X_train, y_train)\n",
        "rf_model_cv = rand_search.best_estimator_\n",
        "\n",
        "# Predict on the model\n",
        "train_preds = rf_model_cv.predict(X_train)\n",
        "test_preds = rf_model_cv.predict(X_test)"
      ]
    },
    {
      "cell_type": "code",
      "execution_count": null,
      "metadata": {
        "colab": {
          "base_uri": "https://localhost:8080/"
        },
        "id": "ErO-NPqQgCdS",
        "outputId": "2c944fd9-9381-4128-aac2-38a0439a3ee8"
      },
      "outputs": [],
      "source": [
        "print(\"Training Data:\")\n",
        "print(\"MSE:\", mean_squared_error(y_train, train_preds))\n",
        "print(\"MAE:\", mean_absolute_error(y_train, train_preds))\n",
        "print(\"R2 Score:\", r2_score(y_train, train_preds))"
      ]
    },
    {
      "cell_type": "code",
      "execution_count": null,
      "metadata": {
        "colab": {
          "base_uri": "https://localhost:8080/"
        },
        "id": "iAlL4eIwgDfx",
        "outputId": "4177be27-889d-4a99-81f2-7cbb8d55c1b6"
      },
      "outputs": [],
      "source": [
        "mse = mean_squared_error(y_test, test_preds)\n",
        "mae = mean_absolute_error(y_test, test_preds)\n",
        "r2 = r2_score(y_test, test_preds)\n",
        "print(\"Testing Data:\")\n",
        "print(\"MSE:\", mse)\n",
        "print(\"MAE:\", mae)\n",
        "print(\"R2 Score:\", r2)"
      ]
    },
    {
      "cell_type": "code",
      "execution_count": 136,
      "metadata": {
        "id": "5_f7ajsto3HT"
      },
      "outputs": [],
      "source": [
        "model_results['Random Forest CV'] = [r2, mse, mae]"
      ]
    },
    {
      "cell_type": "code",
      "execution_count": null,
      "metadata": {
        "colab": {
          "base_uri": "https://localhost:8080/",
          "height": 301
        },
        "id": "lfAbgCqApG6z",
        "outputId": "2fef7b78-59d5-4c4c-9ee8-ac696afb64ba"
      },
      "outputs": [],
      "source": [
        "# Create scatter plot\n",
        "plt.scatter(test_preds, y_test)\n",
        "plt.plot([min(test_preds), max(test_preds)], [min(test_preds), max(test_preds)], 'k--', lw=2)\n",
        "plt.xlabel('Predicted values')\n",
        "plt.ylabel('Actual values')\n",
        "plt.title('Scatter plot of predicted vs actual values')\n",
        "\n",
        "# Add evaluation metrics to plot\n",
        "plt.text(8, 40, f'MSE: {mse:.2f}\\nMAE: {mae:.2f}\\nR2: {r2:.2f}', fontsize=13, ha='left')\n",
        "\n",
        "plt.show()"
      ]
    },
    {
      "cell_type": "markdown",
      "metadata": {
        "id": "bVRBYSEef_2_"
      },
      "source": [
        "Which hyperparameter optimization technique have you used and why?\n"
      ]
    },
    {
      "cell_type": "markdown",
      "metadata": {
        "id": "HZM2TOisgB0d"
      },
      "source": [
        "RandomSearchCV which uses the Tandom Search technique for finding the optimal hyperparameters to increase the model performance.\n",
        "\n",
        "If we've very large hyperparameter space and training time for the model is quite long then we can go for this technique to find best hyperparameters.\n",
        "\n",
        "In RandomSearchCV, along with Random Search, cross-validation is also performed. Cross-Validation is used while training the model.\n",
        "\n",
        "That's why I have used RandomSearchCV method for hyperparameter optimization.\n"
      ]
    },
    {
      "cell_type": "markdown",
      "metadata": {
        "id": "5O4zsODrgBiG"
      },
      "source": [
        "Have you seen any improvement? Note down the improvement with updates Evaluation metric Score Chart.\n"
      ]
    },
    {
      "cell_type": "markdown",
      "metadata": {
        "id": "b7y0uxuAgFNP"
      },
      "source": [
        "For training data, I found R2 score of 0.987 & 1.8 and 0.9 as MSE and MAE respectively.\n",
        "\n",
        "For testing data, I found R2 score of 0.918 & 11.2 and 2.0 as MSE and MAE respectively.\n",
        "\n",
        "For Both training and testing data, **performance has decreased** slightly.\n"
      ]
    },
    {
      "cell_type": "markdown",
      "metadata": {
        "id": "Er9AfoX3gmoO"
      },
      "source": [
        "### ML Model - 5 - XGBoost Regressor\n"
      ]
    },
    {
      "cell_type": "code",
      "execution_count": 138,
      "metadata": {
        "id": "9Ep7xG0fgp3B"
      },
      "outputs": [],
      "source": [
        "# ML Model - 3 Implementation\n",
        "xgb_model = XGBRegressor(random_state=1)\n",
        "\n",
        "# Fit the Algorithm\n",
        "xgb_model.fit(X_train, y_train)\n",
        "\n",
        "# Predict on the model\n",
        "train_preds = xgb_model.predict(X_train)\n",
        "test_preds = xgb_model.predict(X_test)"
      ]
    },
    {
      "cell_type": "code",
      "execution_count": null,
      "metadata": {
        "colab": {
          "base_uri": "https://localhost:8080/"
        },
        "id": "LS4zuF9TgQGH",
        "outputId": "971c04b2-06f0-4e68-d6a7-08e9ac42887c"
      },
      "outputs": [],
      "source": [
        "print(\"Training Data:\")\n",
        "print(\"MSE:\", mean_squared_error(y_train, train_preds))\n",
        "print(\"MAE:\", mean_absolute_error(y_train, train_preds))\n",
        "print(\"R2 Score:\", r2_score(y_train, train_preds))"
      ]
    },
    {
      "cell_type": "code",
      "execution_count": null,
      "metadata": {
        "colab": {
          "base_uri": "https://localhost:8080/"
        },
        "id": "M7mtS7JIgRCO",
        "outputId": "aea1ecc6-5e8a-4036-b741-d7f8e5af2e58"
      },
      "outputs": [],
      "source": [
        "mse = mean_squared_error(y_test, test_preds)\n",
        "mae = mean_absolute_error(y_test, test_preds)\n",
        "r2 = r2_score(y_test, test_preds)\n",
        "print(\"Testing Data:\")\n",
        "print(\"MSE:\", mse)\n",
        "print(\"MAE:\", mae)\n",
        "print(\"R2 Score:\", r2)"
      ]
    },
    {
      "cell_type": "code",
      "execution_count": 141,
      "metadata": {
        "id": "k7VLScQBrHcs"
      },
      "outputs": [],
      "source": [
        "model_results['XGBoost'] = [r2, mse, mae]"
      ]
    },
    {
      "cell_type": "markdown",
      "metadata": {
        "id": "mQ4NUmY_gqcj"
      },
      "source": [
        "#### 1. Explain the ML Model used and it's performance using Evaluation metric Score Chart.\n"
      ]
    },
    {
      "cell_type": "code",
      "execution_count": null,
      "metadata": {
        "colab": {
          "base_uri": "https://localhost:8080/",
          "height": 301
        },
        "id": "Cp_EnYsogreZ",
        "outputId": "faa08bcc-2e10-4086-82f6-1a7d2db02665"
      },
      "outputs": [],
      "source": [
        "# Create scatter plot\n",
        "plt.scatter(test_preds, y_test)\n",
        "plt.plot([min(test_preds), max(test_preds)], [min(test_preds), max(test_preds)], 'k--', lw=2)\n",
        "plt.xlabel('Predicted values')\n",
        "plt.ylabel('Actual values')\n",
        "plt.title('Scatter plot of predicted vs actual values')\n",
        "\n",
        "# Add evaluation metrics to plot\n",
        "plt.text(8, 40, f'MSE: {mse:.2f}\\nMAE: {mae:.2f}\\nR2: {r2:.2f}', fontsize=13, ha='left')\n",
        "\n",
        "plt.show()"
      ]
    },
    {
      "cell_type": "markdown",
      "metadata": {
        "id": "tJEmafPP12eF"
      },
      "source": [
        "I used XGBoost Regressor algorithm to create the model. And the result is better than previous Random Forest model for test data.\n",
        "\n",
        "For training data, I found R2 score of 0.989 & 1.4 and 0.8 as MSE and MAE respectively.\n",
        "\n",
        "For testing data, I found R2 score of 0.932 & 9.4 and 1.9 as MSE and MAE respectively.\n",
        "\n",
        "Next trying to improving the score by using hyperparameter tuning technique.\n"
      ]
    },
    {
      "cell_type": "markdown",
      "metadata": {
        "id": "i3v56FiogsBq"
      },
      "source": [
        "#### 2. Cross- Validation & Hyperparameter Tuning\n"
      ]
    },
    {
      "cell_type": "code",
      "execution_count": 143,
      "metadata": {
        "id": "IBBGSD6Cgs8f"
      },
      "outputs": [],
      "source": [
        "# ML Model - 3 Implementation with hyperparameter optimization techniques (i.e., GridSearch CV, RandomSearch CV, Bayesian Optimization etc.)\n",
        "params = {\n",
        "    'learning_rate': [0.01, 0.05, 0.1, 0.15, 0.2],\n",
        "    'max_depth': [3, 4, 6, 10, 12, 15],\n",
        "    'colsample_bytree': [0.5, 0.6, 0.7, 0.8, 1.0],\n",
        "    'n_estimators': [50, 100, 200, 300, 500],\n",
        "    'subsample': [0.6, 0.7, 0.8, 0.9, 1.0]\n",
        "}\n",
        "xgb_model_cv = XGBRegressor(random_state=1)\n",
        "rand_search = RandomizedSearchCV(xgb_model_cv, param_distributions=params, n_iter=50, cv=5, n_jobs=-1, random_state=1)\n",
        "\n",
        "# Fit the Algorithm\n",
        "rand_result = rand_search.fit(X_train, y_train)\n",
        "xgb_model_cv = rand_search.best_estimator_\n",
        "\n",
        "# Predict on the model\n",
        "train_preds = xgb_model_cv.predict(X_train)\n",
        "test_preds = xgb_model_cv.predict(X_test)"
      ]
    },
    {
      "cell_type": "code",
      "execution_count": null,
      "metadata": {
        "colab": {
          "base_uri": "https://localhost:8080/"
        },
        "id": "MD9-RL4hgV7w",
        "outputId": "e15f5a59-eba2-4355-90dd-2f1092f84fab"
      },
      "outputs": [],
      "source": [
        "print(\"Training Data:\")\n",
        "print(\"MSE:\", mean_squared_error(y_train, train_preds))\n",
        "print(\"MAE:\", mean_absolute_error(y_train, train_preds))\n",
        "print(\"R2 Score:\", r2_score(y_train, train_preds))"
      ]
    },
    {
      "cell_type": "code",
      "execution_count": null,
      "metadata": {
        "colab": {
          "base_uri": "https://localhost:8080/"
        },
        "id": "PGuxSkkdgW75",
        "outputId": "c14fc40b-2d73-435c-bbc2-584f9aa3fcda"
      },
      "outputs": [],
      "source": [
        "mse = mean_squared_error(y_test, test_preds)\n",
        "mae = mean_absolute_error(y_test, test_preds)\n",
        "r2 = r2_score(y_test, test_preds)\n",
        "print(\"Testing Data:\")\n",
        "print(\"MSE:\", mse)\n",
        "print(\"MAE:\", mae)\n",
        "print(\"R2 Score:\", r2)"
      ]
    },
    {
      "cell_type": "code",
      "execution_count": 146,
      "metadata": {
        "id": "78uNZA6P1_Kv"
      },
      "outputs": [],
      "source": [
        "model_results['XGBoost CV'] = [r2, mse, mae]"
      ]
    },
    {
      "cell_type": "code",
      "execution_count": null,
      "metadata": {
        "colab": {
          "base_uri": "https://localhost:8080/",
          "height": 301
        },
        "id": "ih_0NXth2ENI",
        "outputId": "ea7cf70a-9122-4134-ae4d-891b258322a3"
      },
      "outputs": [],
      "source": [
        "# Create scatter plot\n",
        "plt.scatter(test_preds, y_test)\n",
        "plt.plot([min(test_preds), max(test_preds)], [min(test_preds), max(test_preds)], 'k--', lw=2)\n",
        "plt.xlabel('Predicted values')\n",
        "plt.ylabel('Actual values')\n",
        "plt.title('Scatter plot of predicted vs actual values')\n",
        "\n",
        "# Add evaluation metrics to plot\n",
        "plt.text(8, 40, f'MSE: {mse:.2f}\\nMAE: {mae:.2f}\\nR2: {r2:.2f}', fontsize=13, ha='left')\n",
        "\n",
        "plt.show()"
      ]
    },
    {
      "cell_type": "markdown",
      "metadata": {
        "id": "Yvy_bQ9ygtfo"
      },
      "source": [
        "Which hyperparameter optimization technique have you used and why?\n"
      ]
    },
    {
      "cell_type": "markdown",
      "metadata": {
        "id": "5mdlNnp9gvnb"
      },
      "source": [
        "RandomSearchCV which uses the Tandom Search technique for finding the optimal hyperparameters to increase the model performance.\n",
        "\n",
        "If we've very large hyperparameter space and training time for the model is quite long then we can go for this technique to find best hyperparameters.\n",
        "\n",
        "In RandomSearchCV, along with Random Search, cross-validation is also performed. Cross-Validation is used while training the model.\n",
        "\n",
        "That's why I have used RandomSearchCV method for hyperparameter optimization.\n"
      ]
    },
    {
      "cell_type": "markdown",
      "metadata": {
        "id": "KJ5OnEVegx2c"
      },
      "source": [
        "Have you seen any improvement? Note down the improvement with updates Evaluation metric Score Chart.\n"
      ]
    },
    {
      "cell_type": "markdown",
      "metadata": {
        "id": "sM2Z9bU8gxxM"
      },
      "source": [
        "For training data, I found R2 score of 0.999 & 0.0 and 0.1 as MSE and MAE respectively.\n",
        "\n",
        "For testing data, I found R2 score of 0.939 & 8.3 and 1.7 as MSE and MAE respectively.\n",
        "\n",
        "For Both training and testing data, **slight improvement** is seen.\n"
      ]
    },
    {
      "cell_type": "markdown",
      "metadata": {
        "id": "h_CCil-SKHpo"
      },
      "source": [
        "### 1. Which Evaluation metrics did you consider for a positive business impact and why?\n"
      ]
    },
    {
      "cell_type": "markdown",
      "metadata": {
        "id": "jHVz9hHDKFms"
      },
      "source": [
        "I've used three evaluation metrics R-squared ($R^2$), Mean Squared Error ($MSE$) and Mean Absolute Error ($MAE$).\n",
        "\n",
        "- $R^2$ measures how much of the variance in the target variable is explained by the model. A high $R^2$ score indicates that the model is able to capture a large portion of the variance in the target variable, and therefore is a good fit for the data. From a business perspective, a high $R^2$ score can indicate that the model is accurately predicting the target variable, which can be valuable for decision-making purposes.\n",
        "\n",
        "- $MSE$ measures the average squared difference between the predicted and actual values. A low $MSE$ score indicates that the model's predictions are close to the actual values. From a business perspective, a low $MSE$ score can indicate that the model is making accurate predictions, which can be valuable for decision-making purposes.\n",
        "\n",
        "- $MAE$ measures the average absolute difference between the predicted and actual values. Like MSE, a low $MAE$ score indicates that the model's predictions are close to the actual values. However, $MAE$ is less sensitive to outliers than $MSE$. From a business perspective, a low $MAE$ score can indicate that the model is making accurate predictions across a wide range of values, which can be valuable for decision-making purposes.\n",
        "\n",
        "Hence, these evaluation metrics can help a business to assess the performance of a machine learning model and its potential impact on business outcomes.\n"
      ]
    },
    {
      "cell_type": "markdown",
      "metadata": {
        "id": "cBFFvTBNJzUa"
      },
      "source": [
        "### 2. Which ML model did you choose from the above created models as your final prediction model and why?\n"
      ]
    },
    {
      "cell_type": "markdown",
      "metadata": {
        "id": "iXrEQQEI5hVS"
      },
      "source": [
        "The XGBoost model (CV: which is hyperparameter optimized) seems to be the best choice for this dataset as it has the highest $R^2$ score, the lowest $MSE$, and the lowest $MAE$. As shown in figure table:\n"
      ]
    },
    {
      "cell_type": "code",
      "execution_count": null,
      "metadata": {
        "colab": {
          "base_uri": "https://localhost:8080/",
          "height": 363
        },
        "id": "tuJBmNL82rPa",
        "outputId": "5fd72bd2-579d-4529-e0f6-827020a884e0"
      },
      "outputs": [],
      "source": [
        "Model_com_df = pd.DataFrame(model_results).T\n",
        "Model_com_df.columns = [\"R2\", 'MSE', 'MAE']\n",
        "Model_com_df = Model_com_df.sort_values(by='R2',ascending=False)\n",
        "Model_com_df.style.format('{:.3f}').background_gradient(cmap='RdYlGn')"
      ]
    },
    {
      "cell_type": "markdown",
      "metadata": {
        "id": "6ksF5Q1LKTVm"
      },
      "source": [
        "The above metrics scores are on test data.\n"
      ]
    },
    {
      "cell_type": "markdown",
      "metadata": {
        "id": "HvGl1hHyA_VK"
      },
      "source": [
        "### 3. Explain the model which you have used and the feature importance using any model explainability tool?\n"
      ]
    },
    {
      "cell_type": "code",
      "execution_count": null,
      "metadata": {
        "colab": {
          "base_uri": "https://localhost:8080/",
          "height": 601
        },
        "id": "vhzkzgn8_Hp_",
        "outputId": "589ff8af-f6ad-4249-9ac1-cad5a5c43b3a"
      },
      "outputs": [],
      "source": [
        "# Create a SHAP Explainer object\n",
        "explainer = shap.Explainer(xgb_model_cv)\n",
        "\n",
        "# Calculate SHAP values for all features\n",
        "shap_values = explainer(X_test)\n",
        "\n",
        "# Plot the feature importance using a bar plot\n",
        "shap.summary_plot(shap_values, X_test, plot_type=\"bar\")"
      ]
    },
    {
      "cell_type": "markdown",
      "metadata": {
        "id": "zC7cdZID8qJr"
      },
      "source": [
        "A SHAP summary plot shows the overall importance of each feature in a machine learning model. It can be used to identify the most important features that are driving the model's predictions and gain insights into how those features are influencing the predictions.\n",
        "\n",
        "We can see that **Hour** and **Temperature** are the two most important feature to predict rental bike demand, then followed by **Humidity**, **Season_Winter**, **Solar Radiation**, **Rainfall** etc.\n"
      ]
    },
    {
      "cell_type": "code",
      "execution_count": null,
      "metadata": {
        "colab": {
          "base_uri": "https://localhost:8080/",
          "height": 601
        },
        "id": "ipvk8fEDHj2c",
        "outputId": "79545677-0bd2-4edc-9d8d-58cf4d6b3b64"
      },
      "outputs": [],
      "source": [
        "shap.summary_plot(shap_values, X_test)"
      ]
    },
    {
      "cell_type": "markdown",
      "metadata": {
        "id": "orPREobf9bt6"
      },
      "source": [
        "Above plot is another way to visualise SHAP values. this plot not only shows which feature is most important but also the positive-negative impact of different values of features. For example, we can see that high values of both **Hour** and **Temperature** has _positive impact_ on model output, whereas high values of both **Humidity** and **rainfall** has _negative impact_ on model output.\n"
      ]
    },
    {
      "cell_type": "markdown",
      "metadata": {
        "id": "EyNgTHvd2WFk"
      },
      "source": [
        "## **_8._** **_Future Work (Optional)_**\n"
      ]
    },
    {
      "cell_type": "markdown",
      "metadata": {
        "id": "KH5McJBi2d8v"
      },
      "source": [
        "### 1. Save the best performing ml model in a pickle file or joblib file format for deployment process.\n"
      ]
    },
    {
      "cell_type": "code",
      "execution_count": 151,
      "metadata": {
        "id": "bQIANRl32f4J"
      },
      "outputs": [],
      "source": [
        "# Save the model to a pickle file\n",
        "with open(\"xgb_model.pkl\", \"wb\") as f:\n",
        "  pickle.dump(xgb_model_cv, f)"
      ]
    },
    {
      "cell_type": "markdown",
      "metadata": {
        "id": "iW_Lq9qf2h6X"
      },
      "source": [
        "### 2. Again Load the saved model file and try to predict unseen data for a sanity check.\n"
      ]
    },
    {
      "cell_type": "code",
      "execution_count": null,
      "metadata": {
        "colab": {
          "base_uri": "https://localhost:8080/"
        },
        "id": "oEXk9ydD2nVC",
        "outputId": "bd74fb61-9cef-4294-c525-1fa3201882c8"
      },
      "outputs": [],
      "source": [
        "# Load the model from the pickle file\n",
        "with open(\"xgb_model.pkl\", \"rb\") as f:\n",
        "    loaded_xgb_model = pickle.load(f)\n",
        "\n",
        "new_test_preds = loaded_xgb_model.predict(X_test)\n",
        "\n",
        "# Sanity Check\n",
        "mse = mean_squared_error(y_test, new_test_preds)\n",
        "mae = mean_absolute_error(y_test, new_test_preds)\n",
        "r2 = r2_score(y_test, new_test_preds)\n",
        "print(\"MSE:\", mse)\n",
        "print(\"MAE:\", mae)\n",
        "print(\"R2 Score:\", r2)"
      ]
    },
    {
      "cell_type": "markdown",
      "metadata": {
        "id": "-Kee-DAl2viO"
      },
      "source": [
        "### **_Congrats! Your model is successfully created and ready for deployment on a live server for a real user interaction !!!_**\n"
      ]
    }
  ],
  "metadata": {
    "colab": {
      "include_colab_link": true,
      "provenance": []
    },
    "gpuClass": "standard",
    "kernelspec": {
      "display_name": "Python 3",
      "language": "python",
      "name": "python3"
    },
    "language_info": {
      "codemirror_mode": {
        "name": "ipython",
        "version": 3
      },
      "file_extension": ".py",
      "mimetype": "text/x-python",
      "name": "python",
      "nbconvert_exporter": "python",
      "pygments_lexer": "ipython3",
      "version": "3.13.1"
    }
  },
  "nbformat": 4,
  "nbformat_minor": 0
}
